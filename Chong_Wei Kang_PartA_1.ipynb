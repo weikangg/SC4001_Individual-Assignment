{
 "cells": [
  {
   "cell_type": "markdown",
   "id": "d01f9669-6940-4311-bcf9-e930ba3457f2",
   "metadata": {
    "deletable": false,
    "editable": false,
    "id": "d01f9669-6940-4311-bcf9-e930ba3457f2",
    "nbgrader": {
     "cell_type": "markdown",
     "checksum": "2ad988175a8c2593a35c27c5a89d6ea5",
     "grade": false,
     "grade_id": "a1",
     "locked": true,
     "schema_version": 3,
     "solution": false,
     "task": false
    },
    "tags": []
   },
   "source": [
    "# Question A1 (15 marks)"
   ]
  },
  {
   "cell_type": "markdown",
   "id": "2fd870a1-6368-4b4f-9cbb-7eac0acda4ec",
   "metadata": {
    "deletable": false,
    "editable": false,
    "id": "2fd870a1-6368-4b4f-9cbb-7eac0acda4ec",
    "nbgrader": {
     "cell_type": "markdown",
     "checksum": "74435a282dd0f8cb4705e88829506c4e",
     "grade": false,
     "grade_id": "a1_overall",
     "locked": true,
     "schema_version": 3,
     "solution": false,
     "task": false
    },
    "tags": []
   },
   "source": [
    "#### Design a feedforward deep neural network (DNN) which consists of **three** hidden layers of 128 neurons each with ReLU activation function, and an output layer with sigmoid activation function. Apply dropout of probability **0.2** to each of the hidden layers.\n",
    "\n",
    "* note: some cells are non-editable and cannot be filled, but leave them untouched. Fill up only cells which are provided."
   ]
  },
  {
   "cell_type": "code",
   "execution_count": 13,
   "id": "3af871c6-6baa-4eff-b46a-eb7a81faac13",
   "metadata": {
    "deletable": false,
    "editable": false,
    "id": "3af871c6-6baa-4eff-b46a-eb7a81faac13",
    "nbgrader": {
     "cell_type": "code",
     "checksum": "909acb3c7ff3883eb5381eb586615d3b",
     "grade": false,
     "grade_id": "libraries",
     "locked": true,
     "schema_version": 3,
     "solution": false,
     "task": false
    },
    "tags": []
   },
   "outputs": [],
   "source": [
    "# Importing required imports\n",
    "\n",
    "import pandas as pd\n",
    "import matplotlib.pyplot as plt\n",
    "from tqdm import tqdm\n",
    "import torch\n",
    "from torch import nn\n",
    "from torch.utils.data import Dataset\n",
    "from torch.utils.data import DataLoader\n",
    "\n",
    "# Importing necessary functions from common_utils.py module.\n",
    "from common_utils import set_seed, split_dataset, preprocess_dataset, EarlyStopper\n",
    "\n",
    "# setting seed\n",
    "SEED = 0\n",
    "set_seed(SEED)"
   ]
  },
  {
   "cell_type": "markdown",
   "id": "27828402-6f73-4afc-ad4b-d537b94406fc",
   "metadata": {
    "deletable": false,
    "editable": false,
    "id": "27828402-6f73-4afc-ad4b-d537b94406fc",
    "nbgrader": {
     "cell_type": "markdown",
     "checksum": "238677075e1bc63851fa208a1937b0d0",
     "grade": false,
     "grade_id": "a1_1_2",
     "locked": true,
     "schema_version": 3,
     "solution": false,
     "task": false
    },
    "tags": []
   },
   "source": [
    "1. Define the model class."
   ]
  },
  {
   "cell_type": "code",
   "execution_count": 14,
   "id": "f0a262dc-01fc-42d3-9554-a2a9b41db5f6",
   "metadata": {
    "deletable": false,
    "id": "f0a262dc-01fc-42d3-9554-a2a9b41db5f6",
    "nbgrader": {
     "cell_type": "code",
     "checksum": "ffe9e91761659732c1cda9441c248079",
     "grade": false,
     "grade_id": "mlp",
     "locked": false,
     "schema_version": 3,
     "solution": true,
     "task": false
    },
    "tags": []
   },
   "outputs": [],
   "source": [
    "class MLP(nn.Module):\n",
    "    # Initialize the model parameters\n",
    "    def __init__(self, no_features, no_hidden, no_labels):\n",
    "        super().__init__()  # Call the parent class constructor\n",
    "        \n",
    "        # Define the neural network layers and their sequence\n",
    "        self.mlp_stack = nn.Sequential(\n",
    "            # First hidden layer\n",
    "            nn.Linear(no_features, no_hidden),   # Linear layer with 'no_features' inputs and 'no_hidden' outputs (128 in this case)\n",
    "            nn.ReLU(),                           # Rectified Linear Unit (ReLU) activation function\n",
    "            nn.Dropout(0.2),                     # Dropout layer to prevent overfitting, drops 20% of the neurons\n",
    "            \n",
    "            # Second hidden layer\n",
    "            nn.Linear(no_hidden, 128),           # Another linear layer with 'no_hidden' inputs and 128 outputs \n",
    "            nn.ReLU(),                           # ReLU activation function\n",
    "            nn.Dropout(0.2),                     # Dropout layer with 20% dropout rate\n",
    "            \n",
    "            # Third hidden layer\n",
    "            nn.Linear(128, 128),                 # Third linear layer with 128 inputs and 128 outputs \n",
    "            nn.ReLU(),                           # ReLU activation function\n",
    "            nn.Dropout(0.2),                     # Dropout layer with 20% dropout rate\n",
    "            \n",
    "            # Output layer\n",
    "            nn.Linear(128, no_labels),           # Linear layer to produce final output. 128 inputs and 'no_labels' outputs.\n",
    "            nn.Sigmoid()                         # Sigmoid activation function for binary classification\n",
    "        )\n",
    "\n",
    "    # Define the forward pass\n",
    "    def forward(self, x):\n",
    "        # Pass the input through the mlp_stack to get the output\n",
    "        logits = self.mlp_stack(x)\n",
    "        return logits"
   ]
  },
  {
   "cell_type": "code",
   "execution_count": null,
   "id": "8b127111",
   "metadata": {},
   "outputs": [],
   "source": []
  },
  {
   "cell_type": "code",
   "execution_count": null,
   "id": "a5a631eb",
   "metadata": {},
   "outputs": [],
   "source": []
  },
  {
   "cell_type": "markdown",
   "id": "c508f1a3-1781-403e-a6c8-2133c83cf2c0",
   "metadata": {
    "deletable": false,
    "editable": false,
    "id": "c508f1a3-1781-403e-a6c8-2133c83cf2c0",
    "nbgrader": {
     "cell_type": "markdown",
     "checksum": "8fa5e10c9346a8cc9f313cfdeffb29ad",
     "grade": false,
     "grade_id": "a1_2",
     "locked": true,
     "schema_version": 3,
     "solution": false,
     "task": false
    },
    "tags": []
   },
   "source": [
    "#### Divide the dataset into a 70:30 ratio for training and testing. Use **appropriate** scaling of input features. We solely assume that there are only two datasets here: training & test.\n"
   ]
  },
  {
   "cell_type": "markdown",
   "id": "e95fca82-4f7a-4017-8990-e36a78db1560",
   "metadata": {
    "deletable": false,
    "editable": false,
    "id": "e95fca82-4f7a-4017-8990-e36a78db1560",
    "nbgrader": {
     "cell_type": "markdown",
     "checksum": "5b42952eb98d955700c9f15482aa73f1",
     "grade": false,
     "grade_id": "a1_2_1",
     "locked": true,
     "schema_version": 3,
     "solution": false,
     "task": false
    },
    "tags": []
   },
   "source": [
    "1. Split the dataset and do preprocessing."
   ]
  },
  {
   "cell_type": "code",
   "execution_count": 15,
   "id": "c5fa518e-36fc-4071-839f-65766fe06f67",
   "metadata": {
    "deletable": false,
    "id": "c5fa518e-36fc-4071-839f-65766fe06f67",
    "nbgrader": {
     "cell_type": "code",
     "checksum": "7f3aaa6c1bc49a791e2d944fbffa3785",
     "grade": false,
     "grade_id": "preprocess",
     "locked": false,
     "schema_version": 3,
     "solution": true,
     "task": false
    },
    "tags": []
   },
   "outputs": [
    {
     "name": "stdout",
     "output_type": "stream",
     "text": [
      "label\n",
      "pos    6202\n",
      "neg    5855\n",
      "Name: count, dtype: int64\n"
     ]
    }
   ],
   "source": [
    "def preprocess(df):\n",
    "    \n",
    "    # Dropping Unnecessary Columns and Splitting the Dataset:\n",
    "    # The dataset column called filename is likely a unique identifier for each sample and not a feature we would use for modeling. Hence, we should remove it before feeding the data to our model. \n",
    "    columns_to_drop = ['filename', 'label']\n",
    "\n",
    "    # Splitting the dataset into training and testing sets:\n",
    "    # The split is done in a 70:30 ratio, and the random_state ensures reproducibility.\n",
    "    df_train, y_train, df_test, y_test = split_dataset(df, columns_to_drop, test_size=0.3, random_state=0)\n",
    "\n",
    "    # Scaling the Features:\n",
    "    # Feature scaling is crucial for many ML algorithms. It makes the algorithm faster and more accurate.\n",
    "    # Here, the mean and standard deviation of the training data is used to standardize both training and testing data.\n",
    "    X_train_scaled, X_test_scaled = preprocess_dataset(df_train, df_test)\n",
    "\n",
    "    # Returning the processed datasets.\n",
    "    return X_train_scaled, y_train, X_test_scaled, y_test\n",
    "\n",
    "set_seed(SEED)\n",
    "\n",
    "# Loading the dataset from a CSV file.\n",
    "df = pd.read_csv('simplified.csv')\n",
    "\n",
    "# Extracting the 'label' from the 'filename' column.\n",
    "# It appears the label is embedded in the filename and is the penultimate (second last) item when split by '_'.\n",
    "df['label'] = df['filename'].str.split('_').str[-2]\n",
    "\n",
    "# Checking the distribution of the labels.\n",
    "print(df['label'].value_counts())\n",
    "\n",
    "# Calling the preprocess function to get training and testing datasets.\n",
    "X_train_scaled, y_train, X_test_scaled, y_test = preprocess(df)\n",
    "\n",
    "#------------------------------------------------------------------------------------------------------------------------------------------------------------------------------------------#\n",
    "# Explanation on why we used StandardScaler for preprocessing and why it's appropriate:\n",
    "\n",
    "# Utilizing the StandardScaler for preprocessing is appropriate for our neural network model, especially when the dataset contains diverse features with different scales, like in the \n",
    "# National Speech Corpus. Neural networks tend to perform optimally when input data is standardized. Features with larger scales can disproportionately impact the training, causing slower \n",
    "# convergence. With StandardScaler, all features are standardized to have a mean of 0 and a standard deviation of 1. This ensures that each feature has a consistent influence during \n",
    "# training, leading to faster and more stable convergence. Given the diverse features in our project, such as MFCCs and chromagrams, this standardization is crucial for balanced training.\n",
    "#------------------------------------------------------------------------------------------------------------------------------------------------------------------------------------------#"
   ]
  },
  {
   "cell_type": "code",
   "execution_count": null,
   "id": "209c5725",
   "metadata": {},
   "outputs": [],
   "source": []
  },
  {
   "cell_type": "markdown",
   "id": "a819454c-0064-4d88-a35d-b54a3027f52f",
   "metadata": {
    "deletable": false,
    "editable": false,
    "id": "a819454c-0064-4d88-a35d-b54a3027f52f",
    "nbgrader": {
     "cell_type": "markdown",
     "checksum": "58c39624353d30c202964d96c43a724f",
     "grade": false,
     "grade_id": "a1_3",
     "locked": true,
     "schema_version": 3,
     "solution": false,
     "task": false
    },
    "tags": []
   },
   "source": [
    "#### Use the training dataset to train the model for 100 epochs. Use a mini-batch gradient descent with **‘Adam’** optimizer with learning rate of **0.001**, and **batch size = 256**. Implement early stopping with patience of **3**."
   ]
  },
  {
   "cell_type": "markdown",
   "id": "fc79c097-e526-474a-803f-354465ac02d7",
   "metadata": {
    "deletable": false,
    "editable": false,
    "id": "fc79c097-e526-474a-803f-354465ac02d7",
    "nbgrader": {
     "cell_type": "markdown",
     "checksum": "45710c8274bd2b7689ccd170af7be67c",
     "grade": false,
     "grade_id": "a1_3_1",
     "locked": true,
     "schema_version": 3,
     "solution": false,
     "task": false
    },
    "tags": []
   },
   "source": [
    "1. Define a Pytorch Dataset and Dataloaders.  "
   ]
  },
  {
   "cell_type": "code",
   "execution_count": 16,
   "id": "578b3050-9720-432b-9ef0-c29feba29e68",
   "metadata": {
    "deletable": false,
    "id": "578b3050-9720-432b-9ef0-c29feba29e68",
    "nbgrader": {
     "cell_type": "code",
     "checksum": "808e279fafed9a2b06f06e824dc5fffe",
     "grade": false,
     "grade_id": "pytorch_dataset",
     "locked": false,
     "schema_version": 3,
     "solution": true,
     "task": false
    },
    "tags": []
   },
   "outputs": [],
   "source": [
    "class CustomDataset(Dataset):\n",
    "    # Constructor: called when an object is created from the class\n",
    "    def __init__(self, X, y):\n",
    "        # Convert the input arrays to PyTorch tensors\n",
    "        self.X = torch.tensor(X, dtype=torch.float32)   # Converts input data to float32 dtype tensor\n",
    "        self.y = torch.tensor(y, dtype=torch.long)      # Converts labels to long dtype tensor as it's used for classification tasks\n",
    "\n",
    "    # Returns the length of the dataset\n",
    "    def __len__(self):\n",
    "        return len(self.y)\n",
    "\n",
    "    # Allows the dataset to be indexed so that it can work with PyTorch's DataLoader\n",
    "    # For the given index 'idx', it returns the input data and its corresponding label\n",
    "    def __getitem__(self, idx):\n",
    "        return self.X[idx], self.y[idx]\n",
    "\n",
    "def initialise_loaders(X_train_scaled, y_train, X_test_scaled, y_test):\n",
    "    # Create dataset objects\n",
    "    train_data = CustomDataset(X_train_scaled, y_train)\n",
    "    test_data = CustomDataset(X_test_scaled, y_test)\n",
    "    \n",
    "    # Create DataLoader objects to enable batch processing and shuffling\n",
    "    train_dataloader = DataLoader(train_data, batch_size=256, shuffle=True)    # Shuffling helps in better optimization during training\n",
    "    test_dataloader = DataLoader(test_data, batch_size=256, shuffle=False)     # Shuffling is not necessary during testing/evaluation\n",
    "    \n",
    "    return train_dataloader, test_dataloader\n",
    "set_seed()\n",
    "train_dataloader, test_dataloader = initialise_loaders(X_train_scaled, y_train, X_test_scaled, y_test)"
   ]
  },
  {
   "cell_type": "code",
   "execution_count": null,
   "id": "37f6a551",
   "metadata": {},
   "outputs": [],
   "source": []
  },
  {
   "cell_type": "code",
   "execution_count": null,
   "id": "aedf4f90",
   "metadata": {},
   "outputs": [],
   "source": []
  },
  {
   "cell_type": "code",
   "execution_count": null,
   "id": "319de0d7",
   "metadata": {},
   "outputs": [],
   "source": []
  },
  {
   "cell_type": "code",
   "execution_count": null,
   "id": "eb677a06",
   "metadata": {},
   "outputs": [],
   "source": []
  },
  {
   "cell_type": "markdown",
   "id": "648cceb4-adb2-4e4d-bcc5-6cb9f9e252c6",
   "metadata": {
    "deletable": false,
    "editable": false,
    "id": "648cceb4-adb2-4e4d-bcc5-6cb9f9e252c6",
    "nbgrader": {
     "cell_type": "markdown",
     "checksum": "18d61ee1922cd394e81ef773a74489eb",
     "grade": false,
     "grade_id": "a1_3_3",
     "locked": true,
     "schema_version": 3,
     "solution": false,
     "task": false
    },
    "tags": []
   },
   "source": [
    "2. Next, define the model, optimizer and loss function."
   ]
  },
  {
   "cell_type": "code",
   "execution_count": 17,
   "id": "6608f93a-891f-4bbf-b066-761b56b542df",
   "metadata": {
    "deletable": false,
    "id": "6608f93a-891f-4bbf-b066-761b56b542df",
    "nbgrader": {
     "cell_type": "code",
     "checksum": "b3b057f96943875a86bf5e3bf1cbceb6",
     "grade": false,
     "grade_id": "model_optimizer",
     "locked": false,
     "schema_version": 3,
     "solution": true,
     "task": false
    },
    "tags": []
   },
   "outputs": [],
   "source": [
    "set_seed(SEED)\n",
    "# Initialize the model\n",
    "no_features = X_train_scaled.shape[1] # Input patterns\n",
    "no_hidden = 128  # 128 hidden layers for the first hidden layer\n",
    "no_labels = 1\n",
    "\n",
    "model = MLP(no_features, no_hidden, no_labels)\n",
    "\n",
    "# Loss Function\n",
    "loss_fn = nn.BCELoss()\n",
    "\n",
    "# Optimizer\n",
    "optimizer = torch.optim.Adam(model.parameters(), lr=0.001)"
   ]
  },
  {
   "cell_type": "code",
   "execution_count": null,
   "id": "3d783812",
   "metadata": {},
   "outputs": [],
   "source": []
  },
  {
   "cell_type": "code",
   "execution_count": null,
   "id": "11a5ab62",
   "metadata": {},
   "outputs": [],
   "source": []
  },
  {
   "cell_type": "code",
   "execution_count": null,
   "id": "28fe3688",
   "metadata": {},
   "outputs": [],
   "source": []
  },
  {
   "cell_type": "markdown",
   "id": "20e178c6-bc5a-4932-9a0a-9a8ab5189c78",
   "metadata": {
    "deletable": false,
    "editable": false,
    "id": "20e178c6-bc5a-4932-9a0a-9a8ab5189c78",
    "nbgrader": {
     "cell_type": "markdown",
     "checksum": "7831e2b9dd6b053fce7ebc058a3c5574",
     "grade": false,
     "grade_id": "a1_3_5",
     "locked": true,
     "schema_version": 3,
     "solution": false,
     "task": false
    },
    "tags": []
   },
   "source": [
    "3. Train model for 100 epochs. Record down train and test accuracies. Implement early stopping."
   ]
  },
  {
   "cell_type": "code",
   "execution_count": 18,
   "id": "ce682f69",
   "metadata": {},
   "outputs": [
    {
     "name": "stdout",
     "output_type": "stream",
     "text": [
      "Training Started...\n",
      "\n"
     ]
    },
    {
     "name": "stderr",
     "output_type": "stream",
     "text": [
      "  0%|          | 0/100 [00:00<?, ?it/s]"
     ]
    },
    {
     "name": "stderr",
     "output_type": "stream",
     "text": [
      "  1%|          | 1/100 [00:00<01:03,  1.57it/s]"
     ]
    },
    {
     "name": "stdout",
     "output_type": "stream",
     "text": [
      "Epoch  1, Train Loss: 0.0027, Train Accuracy: 0.5283, Test Loss: 0.0028, Test Accuracy: 0.5547\n"
     ]
    },
    {
     "name": "stderr",
     "output_type": "stream",
     "text": [
      "  2%|▏         | 2/100 [00:01<00:53,  1.84it/s]"
     ]
    },
    {
     "name": "stdout",
     "output_type": "stream",
     "text": [
      "Epoch  2, Train Loss: 0.0026, Train Accuracy: 0.5790, Test Loss: 0.0028, Test Accuracy: 0.5882\n"
     ]
    },
    {
     "name": "stderr",
     "output_type": "stream",
     "text": [
      "  3%|▎         | 3/100 [00:01<00:50,  1.91it/s]"
     ]
    },
    {
     "name": "stdout",
     "output_type": "stream",
     "text": [
      "Epoch  3, Train Loss: 0.0026, Train Accuracy: 0.5992, Test Loss: 0.0027, Test Accuracy: 0.6056\n"
     ]
    },
    {
     "name": "stderr",
     "output_type": "stream",
     "text": [
      "  4%|▍         | 4/100 [00:02<00:46,  2.08it/s]"
     ]
    },
    {
     "name": "stdout",
     "output_type": "stream",
     "text": [
      "Epoch  4, Train Loss: 0.0025, Train Accuracy: 0.6208, Test Loss: 0.0027, Test Accuracy: 0.6224\n"
     ]
    },
    {
     "name": "stderr",
     "output_type": "stream",
     "text": [
      "  5%|▌         | 5/100 [00:02<00:43,  2.17it/s]"
     ]
    },
    {
     "name": "stdout",
     "output_type": "stream",
     "text": [
      "Epoch  5, Train Loss: 0.0025, Train Accuracy: 0.6360, Test Loss: 0.0027, Test Accuracy: 0.6299\n"
     ]
    },
    {
     "name": "stderr",
     "output_type": "stream",
     "text": [
      "  6%|▌         | 6/100 [00:02<00:41,  2.27it/s]"
     ]
    },
    {
     "name": "stdout",
     "output_type": "stream",
     "text": [
      "Epoch  6, Train Loss: 0.0024, Train Accuracy: 0.6567, Test Loss: 0.0026, Test Accuracy: 0.6479\n"
     ]
    },
    {
     "name": "stderr",
     "output_type": "stream",
     "text": [
      "  7%|▋         | 7/100 [00:03<00:41,  2.26it/s]"
     ]
    },
    {
     "name": "stdout",
     "output_type": "stream",
     "text": [
      "Epoch  7, Train Loss: 0.0024, Train Accuracy: 0.6757, Test Loss: 0.0026, Test Accuracy: 0.6625\n"
     ]
    },
    {
     "name": "stderr",
     "output_type": "stream",
     "text": [
      "  8%|▊         | 8/100 [00:03<00:41,  2.24it/s]"
     ]
    },
    {
     "name": "stdout",
     "output_type": "stream",
     "text": [
      "Epoch  8, Train Loss: 0.0023, Train Accuracy: 0.6852, Test Loss: 0.0025, Test Accuracy: 0.6810\n"
     ]
    },
    {
     "name": "stderr",
     "output_type": "stream",
     "text": [
      "  9%|▉         | 9/100 [00:04<00:39,  2.28it/s]"
     ]
    },
    {
     "name": "stdout",
     "output_type": "stream",
     "text": [
      "Epoch  9, Train Loss: 0.0022, Train Accuracy: 0.6983, Test Loss: 0.0025, Test Accuracy: 0.6772\n"
     ]
    },
    {
     "name": "stderr",
     "output_type": "stream",
     "text": [
      " 10%|█         | 10/100 [00:04<00:38,  2.31it/s]"
     ]
    },
    {
     "name": "stdout",
     "output_type": "stream",
     "text": [
      "Epoch 10, Train Loss: 0.0022, Train Accuracy: 0.7093, Test Loss: 0.0024, Test Accuracy: 0.6976\n"
     ]
    },
    {
     "name": "stderr",
     "output_type": "stream",
     "text": [
      " 11%|█         | 11/100 [00:05<00:41,  2.16it/s]"
     ]
    },
    {
     "name": "stdout",
     "output_type": "stream",
     "text": [
      "Epoch 11, Train Loss: 0.0021, Train Accuracy: 0.7222, Test Loss: 0.0024, Test Accuracy: 0.6976\n"
     ]
    },
    {
     "name": "stderr",
     "output_type": "stream",
     "text": [
      " 12%|█▏        | 12/100 [00:05<00:39,  2.23it/s]"
     ]
    },
    {
     "name": "stdout",
     "output_type": "stream",
     "text": [
      "Epoch 12, Train Loss: 0.0021, Train Accuracy: 0.7295, Test Loss: 0.0024, Test Accuracy: 0.7142\n"
     ]
    },
    {
     "name": "stderr",
     "output_type": "stream",
     "text": [
      " 13%|█▎        | 13/100 [00:06<00:42,  2.06it/s]"
     ]
    },
    {
     "name": "stdout",
     "output_type": "stream",
     "text": [
      "Epoch 13, Train Loss: 0.0020, Train Accuracy: 0.7436, Test Loss: 0.0023, Test Accuracy: 0.7167\n"
     ]
    },
    {
     "name": "stderr",
     "output_type": "stream",
     "text": [
      " 14%|█▍        | 14/100 [00:06<00:44,  1.94it/s]"
     ]
    },
    {
     "name": "stdout",
     "output_type": "stream",
     "text": [
      "Epoch 14, Train Loss: 0.0020, Train Accuracy: 0.7487, Test Loss: 0.0023, Test Accuracy: 0.7150\n"
     ]
    },
    {
     "name": "stderr",
     "output_type": "stream",
     "text": [
      " 15%|█▌        | 15/100 [00:07<00:47,  1.77it/s]"
     ]
    },
    {
     "name": "stdout",
     "output_type": "stream",
     "text": [
      "Epoch 15, Train Loss: 0.0019, Train Accuracy: 0.7642, Test Loss: 0.0023, Test Accuracy: 0.7253\n"
     ]
    },
    {
     "name": "stderr",
     "output_type": "stream",
     "text": [
      " 16%|█▌        | 16/100 [00:07<00:46,  1.81it/s]"
     ]
    },
    {
     "name": "stdout",
     "output_type": "stream",
     "text": [
      "Epoch 16, Train Loss: 0.0019, Train Accuracy: 0.7712, Test Loss: 0.0023, Test Accuracy: 0.7313\n"
     ]
    },
    {
     "name": "stderr",
     "output_type": "stream",
     "text": [
      " 17%|█▋        | 17/100 [00:08<00:41,  2.02it/s]"
     ]
    },
    {
     "name": "stdout",
     "output_type": "stream",
     "text": [
      "Epoch 17, Train Loss: 0.0018, Train Accuracy: 0.7704, Test Loss: 0.0022, Test Accuracy: 0.7360\n"
     ]
    },
    {
     "name": "stderr",
     "output_type": "stream",
     "text": [
      " 18%|█▊        | 18/100 [00:08<00:39,  2.10it/s]"
     ]
    },
    {
     "name": "stdout",
     "output_type": "stream",
     "text": [
      "Epoch 18, Train Loss: 0.0018, Train Accuracy: 0.7766, Test Loss: 0.0023, Test Accuracy: 0.7231\n"
     ]
    },
    {
     "name": "stderr",
     "output_type": "stream",
     "text": [
      " 19%|█▉        | 19/100 [00:09<00:35,  2.29it/s]"
     ]
    },
    {
     "name": "stdout",
     "output_type": "stream",
     "text": [
      "Epoch 19, Train Loss: 0.0018, Train Accuracy: 0.7858, Test Loss: 0.0022, Test Accuracy: 0.7349\n"
     ]
    },
    {
     "name": "stderr",
     "output_type": "stream",
     "text": [
      " 20%|██        | 20/100 [00:09<00:32,  2.43it/s]"
     ]
    },
    {
     "name": "stdout",
     "output_type": "stream",
     "text": [
      "Epoch 20, Train Loss: 0.0017, Train Accuracy: 0.7904, Test Loss: 0.0022, Test Accuracy: 0.7394\n"
     ]
    },
    {
     "name": "stderr",
     "output_type": "stream",
     "text": [
      " 21%|██        | 21/100 [00:09<00:36,  2.19it/s]"
     ]
    },
    {
     "name": "stdout",
     "output_type": "stream",
     "text": [
      "Epoch 21, Train Loss: 0.0017, Train Accuracy: 0.8038, Test Loss: 0.0022, Test Accuracy: 0.7430\n"
     ]
    },
    {
     "name": "stderr",
     "output_type": "stream",
     "text": [
      " 22%|██▏       | 22/100 [00:10<00:32,  2.39it/s]"
     ]
    },
    {
     "name": "stdout",
     "output_type": "stream",
     "text": [
      "Epoch 22, Train Loss: 0.0016, Train Accuracy: 0.8045, Test Loss: 0.0023, Test Accuracy: 0.7333\n"
     ]
    },
    {
     "name": "stderr",
     "output_type": "stream",
     "text": [
      " 23%|██▎       | 23/100 [00:10<00:30,  2.57it/s]"
     ]
    },
    {
     "name": "stdout",
     "output_type": "stream",
     "text": [
      "Epoch 23, Train Loss: 0.0016, Train Accuracy: 0.8079, Test Loss: 0.0022, Test Accuracy: 0.7488\n"
     ]
    },
    {
     "name": "stderr",
     "output_type": "stream",
     "text": [
      " 24%|██▍       | 24/100 [00:10<00:28,  2.66it/s]"
     ]
    },
    {
     "name": "stdout",
     "output_type": "stream",
     "text": [
      "Epoch 24, Train Loss: 0.0016, Train Accuracy: 0.8223, Test Loss: 0.0022, Test Accuracy: 0.7441\n"
     ]
    },
    {
     "name": "stderr",
     "output_type": "stream",
     "text": [
      " 25%|██▌       | 25/100 [00:11<00:28,  2.59it/s]"
     ]
    },
    {
     "name": "stdout",
     "output_type": "stream",
     "text": [
      "Epoch 25, Train Loss: 0.0015, Train Accuracy: 0.8169, Test Loss: 0.0022, Test Accuracy: 0.7526\n"
     ]
    },
    {
     "name": "stderr",
     "output_type": "stream",
     "text": [
      " 26%|██▌       | 26/100 [00:11<00:28,  2.56it/s]"
     ]
    },
    {
     "name": "stdout",
     "output_type": "stream",
     "text": [
      "Epoch 26, Train Loss: 0.0015, Train Accuracy: 0.8218, Test Loss: 0.0022, Test Accuracy: 0.7532\n"
     ]
    },
    {
     "name": "stderr",
     "output_type": "stream",
     "text": [
      " 27%|██▋       | 27/100 [00:12<00:30,  2.39it/s]"
     ]
    },
    {
     "name": "stdout",
     "output_type": "stream",
     "text": [
      "Epoch 27, Train Loss: 0.0015, Train Accuracy: 0.8215, Test Loss: 0.0022, Test Accuracy: 0.7507\n"
     ]
    },
    {
     "name": "stderr",
     "output_type": "stream",
     "text": [
      " 28%|██▊       | 28/100 [00:12<00:30,  2.37it/s]"
     ]
    },
    {
     "name": "stdout",
     "output_type": "stream",
     "text": [
      "Epoch 28, Train Loss: 0.0015, Train Accuracy: 0.8266, Test Loss: 0.0022, Test Accuracy: 0.7471\n"
     ]
    },
    {
     "name": "stderr",
     "output_type": "stream",
     "text": [
      " 28%|██▊       | 28/100 [00:13<00:33,  2.15it/s]"
     ]
    },
    {
     "name": "stdout",
     "output_type": "stream",
     "text": [
      "Epoch 29, Train Loss: 0.0015, Train Accuracy: 0.8259, Test Loss: 0.0022, Test Accuracy: 0.7443\n",
      "Early stopping on epoch 29\n",
      "Epoch 29, Train Loss: 0.0015, Train Accuracy: 0.8259, Test Loss: 0.0022, Test Accuracy: 0.7443\n",
      "\n",
      "Training Completed!\n"
     ]
    },
    {
     "name": "stderr",
     "output_type": "stream",
     "text": [
      "\n"
     ]
    }
   ],
   "source": [
    "# Function to run the training loop for each epoch\n",
    "def train_loop(train_dataloader, model, loss_fn, optimizer):\n",
    "    size = len(train_dataloader.dataset)  # Total number of samples in the dataset\n",
    "    train_loss, correct = 0, 0  # Initialize loss and correct predictions counter\n",
    "    model.train()\n",
    "    # Iterate over batches of data in the training dataloader\n",
    "    for X, y in train_dataloader:\n",
    "        pred = model(X).squeeze()  # Predict with the model and squeeze to remove dimension of size 1\n",
    "        loss = loss_fn(pred, y.float())  # Compute the loss between prediction and true label\n",
    "        \n",
    "        # Calculate the number of correct predictions for the current batch\n",
    "        predicted = (pred > 0.5).long()  # Since it's binary classification, threshold the output at 0.5\n",
    "        correct += (predicted == y).sum().item()  # Count the number of correct predictions\n",
    "\n",
    "        optimizer.zero_grad()  # Reset the optimizer's gradient (to prevent accumulation)\n",
    "        loss.backward()  # Compute gradient through backpropagation\n",
    "        optimizer.step()  # Apply the gradient to update model parameters\n",
    "    \n",
    "        train_loss += loss.item()  # Accumulate the loss\n",
    "\n",
    "    train_loss /= size  # Average the loss over the entire dataset\n",
    "    train_accuracy = correct / size  # Calculate the accuracy\n",
    "    return train_loss, train_accuracy\n",
    "\n",
    "# Function to run the test loop for each epoch\n",
    "def test_loop(test_dataloader, model, loss_fn):\n",
    "    size = len(test_dataloader.dataset)  # Total number of samples in the dataset\n",
    "    test_loss, correct = 0, 0  # Initialize loss and correct predictions counter\n",
    "    model.eval()\n",
    "    # No gradient computation is needed during evaluation\n",
    "    with torch.no_grad():\n",
    "        for X, y in test_dataloader:  # Iterate over batches of data in the test dataloader\n",
    "            pred =  model(X).squeeze()  # Predict with the model and squeeze to remove dimension of size 1\n",
    "            test_loss += loss_fn(pred, y.float()).item()  # Accumulate the loss\n",
    "            \n",
    "            predicted = (pred > 0.5).long()  # Threshold the prediction for binary classification\n",
    "            correct += (predicted == y).sum().item()  # Count the number of correct predictions\n",
    "\n",
    "    test_loss /= size  # Average the loss over the entire dataset\n",
    "    test_accuracy = correct / size  # Calculate the accuracy\n",
    "    return test_loss, test_accuracy\n",
    "\n",
    "\n",
    "set_seed(SEED)\n",
    "\n",
    "train_loss_, test_loss_ = [], []\n",
    "train_acc_, test_acc_ = [], []\n",
    "best_test_accuracy = 0\n",
    "num_epochs = 100\n",
    "\n",
    "# Instantiate the EarlyStopper class\n",
    "early_stopper = EarlyStopper(patience=3, min_delta=0)\n",
    "\n",
    "print(\"Training Started...\", flush=True)\n",
    "print()\n",
    "\n",
    "# Start training for 100 epochs\n",
    "for epoch in tqdm(range(num_epochs)):\n",
    "    train_loss, train_accuracy = train_loop(train_dataloader, model, loss_fn, optimizer)\n",
    "    test_loss, test_accuracy = test_loop(test_dataloader, model, loss_fn)\n",
    "    \n",
    "    # Store results for later plotting\n",
    "    train_loss_.append(train_loss)\n",
    "    test_loss_.append(test_loss)\n",
    "    train_acc_.append(train_accuracy)\n",
    "    test_acc_.append(test_accuracy)\n",
    "\n",
    "    print(f\"Epoch {epoch+1:>2}, Train Loss: {train_loss:.4f}, Train Accuracy: {train_accuracy:.4f}, Test Loss: {test_loss:.4f}, Test Accuracy: {test_accuracy:.4f}\")\n",
    "\n",
    "    # Check for early stopping\n",
    "    if early_stopper.early_stop(test_loss):\n",
    "        print(f\"Early stopping on epoch {epoch+1}\")\n",
    "        print(f\"Epoch {epoch+1:>2}, Train Loss: {train_loss:.4f}, Train Accuracy: {train_accuracy:.4f}, Test Loss: {test_loss:.4f}, Test Accuracy: {test_accuracy:.4f}\")\n",
    "        break\n",
    "\n",
    "print()\n",
    "print(\"Training Completed!\")"
   ]
  },
  {
   "cell_type": "markdown",
   "id": "5deafd80-4525-4bff-8a5f-dfee0bfede04",
   "metadata": {
    "deletable": false,
    "editable": false,
    "id": "5deafd80-4525-4bff-8a5f-dfee0bfede04",
    "nbgrader": {
     "cell_type": "markdown",
     "checksum": "4f0d29724a79a38566c9153287e31469",
     "grade": false,
     "grade_id": "a1_4",
     "locked": true,
     "schema_version": 3,
     "solution": false,
     "task": false
    },
    "tags": []
   },
   "source": [
    "#### Plot train and test accuracies and losses on training and test data against training epochs and comment on the line plots.\n"
   ]
  },
  {
   "cell_type": "code",
   "execution_count": 10,
   "id": "b25bf720-a4e3-4e70-b90c-456180f18dcf",
   "metadata": {
    "deletable": false,
    "id": "b25bf720-a4e3-4e70-b90c-456180f18dcf",
    "nbgrader": {
     "cell_type": "code",
     "checksum": "c9ce6934b35dea460dcc15bb9a6dedf4",
     "grade": true,
     "grade_id": "plot",
     "locked": false,
     "points": 0,
     "schema_version": 3,
     "solution": true,
     "task": false
    },
    "tags": []
   },
   "outputs": [
    {
     "data": {
      "image/png": "[encoded data removed]",
      "text/plain": [
       "<Figure size 640x480 with 1 Axes>"
      ]
     },
     "metadata": {},
     "output_type": "display_data"
    },
    {
     "data": {
      "image/png": "[encoded data removed]",
      "text/plain": [
       "<Figure size 640x480 with 1 Axes>"
      ]
     },
     "metadata": {},
     "output_type": "display_data"
    }
   ],
   "source": [
    "# YOUR CODE HERE\n",
    "\n",
    "no_epochs = len(train_loss_) \n",
    "\n",
    "# Plotting the losses\n",
    "plt.figure(1)\n",
    "plt.plot(range(no_epochs), train_loss_, label='train loss')\n",
    "plt.plot(range(no_epochs), test_loss_, label='test loss')\n",
    "plt.title('Training and Test Loss')\n",
    "plt.xlabel('epochs')\n",
    "plt.ylabel('cross entropy loss')\n",
    "plt.legend()\n",
    "\n",
    "# Plotting the accuracies\n",
    "plt.figure(2)\n",
    "plt.plot(range(no_epochs), train_acc_, label='train accuracy')\n",
    "plt.plot(range(no_epochs), test_acc_, label='test accuracy')\n",
    "plt.title('Training and Test Accuracy')\n",
    "plt.xlabel('epochs')\n",
    "plt.ylabel('accuracy')\n",
    "plt.legend()\n",
    "\n",
    "plt.show()"
   ]
  },
  {
   "cell_type": "markdown",
   "id": "3307014b-6a6c-406e-a139-94acc919f5f4",
   "metadata": {
    "deletable": false,
    "editable": false,
    "id": "3307014b-6a6c-406e-a139-94acc919f5f4",
    "nbgrader": {
     "cell_type": "markdown",
     "checksum": "0973f053aaa2d1bde7a2261c1d8cd9c4",
     "grade": false,
     "grade_id": "a1_4_2",
     "locked": true,
     "schema_version": 3,
     "solution": false,
     "task": false
    },
    "tags": []
   },
   "source": [
    "2. Comment on line plots."
   ]
  },
  {
   "cell_type": "code",
   "execution_count": 19,
   "id": "b71af7e2-6ed7-4457-940a-df915d349ee0",
   "metadata": {
    "deletable": false,
    "id": "b71af7e2-6ed7-4457-940a-df915d349ee0",
    "nbgrader": {
     "cell_type": "code",
     "checksum": "d2a6f6433369930987c9e7342cb667b0",
     "grade": false,
     "grade_id": "comment_plots",
     "locked": false,
     "schema_version": 3,
     "solution": true,
     "task": false
    },
    "tags": []
   },
   "outputs": [
    {
     "name": "stdout",
     "output_type": "stream",
     "text": [
      "\n",
      "• Training Metrics: The training loss consistently decreased across epochs, starting from 0.0027 to 0.0015, and the training accuracy increased from 55.47% to 82.59%. This indicates that \n",
      "the model is effectively learning and adjusting its weights based on the training data. This consistent improvement in training metrics is expected as the model becomes better at fitting the \n",
      "training data over successive epochs.\n",
      "\n",
      "• Testing Metrics & Early Stopping: The testing accuracy increased from 55.47% to a peak of 74.43%. However, the testing loss decreased initially but then started to increase, which might \n",
      "suggest the beginning of overfitting. This is also supported by the observation that the training accuracy was continuously rising, but the test accuracy started to plateau. \n",
      "The early stopping mechanism proved beneficial by terminating the training process at epoch 29, before the model could overfit further. \n",
      "\n",
      "• General Observation: The divergence between training and testing metrics is indicative of a generalization gap. While the training metrics suggest the model is performing better with each \n",
      "epoch, the testing metrics show a different story. This disparity can be due to the model starting to memorize the training data and becoming less effective at generalizing to unseen data. \n",
      "\n",
      "• Potential Recommendations: The early stopping worked as intended, but if overfitting continues to be an issue, techniques like weight decay using L1 or L2 regularization\n",
      "might be beneficial. Additionally, gathering more diverse training data, if possible, or employing data augmentation techniques might help in improving the model's generalization capabilities. \n",
      "\n",
      "In summary, the model has shown decent learning capabilities. However, there is room for improvement, especially in bridging the gap between training and testing performances.\n",
      "\n"
     ]
    }
   ],
   "source": [
    "# YOUR CODE HERE\n",
    "answer = '''\n",
    "• Training Metrics: The training loss consistently decreased across epochs, starting from 0.0027 to 0.0015, and the training accuracy increased from 55.47% to 82.59%. This indicates that \n",
    "the model is effectively learning and adjusting its weights based on the training data. This consistent improvement in training metrics is expected as the model becomes better at fitting the \n",
    "training data over successive epochs.\n",
    "\n",
    "• Testing Metrics & Early Stopping: The testing accuracy increased from 55.47% to a peak of 74.43%. However, the testing loss decreased initially but then started to increase, which might \n",
    "suggest the beginning of overfitting. This is also supported by the observation that the training accuracy was continuously rising, but the test accuracy started to plateau. \n",
    "The early stopping mechanism proved beneficial by terminating the training process at epoch 29, before the model could overfit further. \n",
    "\n",
    "• General Observation: The divergence between training and testing metrics is indicative of a generalization gap. While the training metrics suggest the model is performing better with each \n",
    "epoch, the testing metrics show a different story. This disparity can be due to the model starting to memorize the training data and becoming less effective at generalizing to unseen data. \n",
    "\n",
    "• Potential Recommendations: The early stopping worked as intended, but if overfitting continues to be an issue, techniques like weight decay using L1 or L2 regularization\n",
    "might be beneficial. Additionally, gathering more diverse training data, if possible, or employing data augmentation techniques might help in improving the model's generalization capabilities. \n",
    "\n",
    "In summary, the model has shown decent learning capabilities. However, there is room for improvement, especially in bridging the gap between training and testing performances.\n",
    "'''\n",
    "\n",
    "print(answer)\n"
   ]
  },
  {
   "cell_type": "code",
   "execution_count": null,
   "id": "f6ff42fb",
   "metadata": {},
   "outputs": [],
   "source": []
  }
 ],
 "metadata": {
  "colab": {
   "provenance": []
  },
  "kernelspec": {
   "display_name": "Python 3 (ipykernel)",
   "language": "python",
   "name": "python3"
  },
  "language_info": {
   "codemirror_mode": {
    "name": "ipython",
    "version": 3
   },
   "file_extension": ".py",
   "mimetype": "text/x-python",
   "name": "python",
   "nbconvert_exporter": "python",
   "pygments_lexer": "ipython3",
   "version": "3.11.4"
  }
 },
 "nbformat": 4,
 "nbformat_minor": 5
}
