{
 "cells": [
  {
   "cell_type": "markdown",
   "id": "c5cb62ac-8e88-43e6-bce9-da20fabf38ff",
   "metadata": {
    "deletable": false,
    "editable": false,
    "id": "c5cb62ac-8e88-43e6-bce9-da20fabf38ff",
    "nbgrader": {
     "cell_type": "markdown",
     "checksum": "7e726e0bc51bda6101498fa65e298d55",
     "grade": false,
     "grade_id": "cell-a5df181492bc4d5b",
     "locked": true,
     "schema_version": 3,
     "solution": false,
     "task": false
    }
   },
   "source": [
    "# Question A3"
   ]
  },
  {
   "cell_type": "markdown",
   "id": "5c8f824c",
   "metadata": {
    "deletable": false,
    "editable": false,
    "id": "5c8f824c",
    "nbgrader": {
     "cell_type": "markdown",
     "checksum": "8de5fc7baf0dbbe0ae44ff5e2f33d3e2",
     "grade": false,
     "grade_id": "cell-742f6ec36e67f66e",
     "locked": true,
     "schema_version": 3,
     "solution": false,
     "task": false
    }
   },
   "source": [
    "Find the optimal number of hidden neurons for first hidden layer of the 4-layer network (3 hidden layers, output layer) designed in Question 1 and 2"
   ]
  },
  {
   "cell_type": "markdown",
   "id": "fb9411ad-2324-400e-852e-ff5c0ca716f0",
   "metadata": {
    "deletable": false,
    "editable": false,
    "id": "fb9411ad-2324-400e-852e-ff5c0ca716f0",
    "nbgrader": {
     "cell_type": "markdown",
     "checksum": "c699e75b7edb52e94f6605279070c695",
     "grade": false,
     "grade_id": "cell-e96803fd0366edd9",
     "locked": true,
     "schema_version": 3,
     "solution": false,
     "task": false
    },
    "tags": []
   },
   "source": [
    "#### Plot the mean cross-validation accuracies on the final epoch for different numbers of hidden-layer neurons using a scatter plot. Limit the search space of the number of neurons to {64, 128, 256}. Continue using 5-fold cross validation on training dataset. Select the optimal number of neurons for the hidden layer. State the rationale for your selection.\n",
    "\n",
    "This might take a while to run, approximately 20 - 30 min, so plan your time carefully."
   ]
  },
  {
   "cell_type": "markdown",
   "id": "981c85ca-9a14-4d0a-b44d-814f02c0f8e1",
   "metadata": {
    "deletable": false,
    "editable": false,
    "id": "981c85ca-9a14-4d0a-b44d-814f02c0f8e1",
    "nbgrader": {
     "cell_type": "markdown",
     "checksum": "227f476ef461a471ef38af7d3f6715f8",
     "grade": false,
     "grade_id": "cell-808458412f82c806",
     "locked": true,
     "schema_version": 3,
     "solution": false,
     "task": false
    }
   },
   "source": [
    "1. Firstly, we import relevant libraries."
   ]
  },
  {
   "cell_type": "code",
   "execution_count": 1,
   "id": "b0edc610-21e6-4cc7-9603-59318b961990",
   "metadata": {
    "deletable": false,
    "editable": false,
    "id": "b0edc610-21e6-4cc7-9603-59318b961990",
    "nbgrader": {
     "cell_type": "code",
     "checksum": "04b3385379104c8466a67ea59116fe58",
     "grade": false,
     "grade_id": "cell-03d073049be6df79",
     "locked": true,
     "schema_version": 3,
     "solution": false,
     "task": false
    },
    "tags": []
   },
   "outputs": [],
   "source": [
    "import time\n",
    "from tqdm import tqdm\n",
    "import pandas as pd\n",
    "import matplotlib.pyplot as plt\n",
    "\n",
    "import torch\n",
    "import torch.nn as nn\n",
    "\n",
    "# Import custom utility functions\n",
    "from common_utils import set_seed, split_dataset, preprocess_dataset, generate_cv_folds_for_num_neurons, generate_cv_dataloaders, EarlyStopper\n",
    "\n",
    "# setting seed\n",
    "SEED = 42\n",
    "set_seed(SEED)"
   ]
  },
  {
   "cell_type": "markdown",
   "id": "e8e12861-4713-4914-9f4b-8a7381708243",
   "metadata": {
    "deletable": false,
    "editable": false,
    "id": "e8e12861-4713-4914-9f4b-8a7381708243",
    "nbgrader": {
     "cell_type": "markdown",
     "checksum": "1203c0efa2d363ccc72779a7511ed5b5",
     "grade": false,
     "grade_id": "cell-647b74152d4edf45",
     "locked": true,
     "schema_version": 3,
     "solution": false,
     "task": false
    }
   },
   "source": [
    "2. To reduce repeated code, place your\n",
    "\n",
    "- network (MLP defined in QA1)\n",
    "- torch datasets (CustomDataset defined in QA1)\n",
    "- loss function (loss_fn defined in QA1)\n",
    "\n",
    "in a separate file called **common_utils.py**\n",
    "\n",
    "Import them into this file. You will not be repenalised for any error in QA1 here as the code in QA1 will not be remarked.\n",
    "\n",
    "The following code cell will not be marked."
   ]
  },
  {
   "cell_type": "code",
   "execution_count": 2,
   "id": "37a1a982-de85-46de-b890-3b81f79f5887",
   "metadata": {
    "deletable": false,
    "id": "37a1a982-de85-46de-b890-3b81f79f5887",
    "nbgrader": {
     "cell_type": "code",
     "checksum": "52ed938922eb6062a33a7d047d8fc605",
     "grade": false,
     "grade_id": "import",
     "locked": false,
     "schema_version": 3,
     "solution": true,
     "task": false
    },
    "tags": []
   },
   "outputs": [],
   "source": [
    "# YOUR CODE HERE\n",
    "from common_utils import MLP, CustomDataset, loss_fn"
   ]
  },
  {
   "cell_type": "code",
   "execution_count": 3,
   "id": "88f0e215-033b-4720-89f8-64f96574ebe2",
   "metadata": {
    "deletable": false,
    "editable": false,
    "id": "88f0e215-033b-4720-89f8-64f96574ebe2",
    "nbgrader": {
     "cell_type": "code",
     "checksum": "ae6b33318200b4bc38d431576963edb1",
     "grade": true,
     "grade_id": "correct_import",
     "locked": true,
     "points": 0,
     "schema_version": 3,
     "solution": false,
     "task": false
    },
    "tags": []
   },
   "outputs": [
    {
     "name": "stdout",
     "output_type": "stream",
     "text": [
      "label\n",
      "pos    6202\n",
      "neg    5855\n",
      "Name: count, dtype: int64\n"
     ]
    }
   ],
   "source": [
    "# Import Dataset & Conduct Train-test split\n",
    "\n",
    "# Loading the dataset from a CSV file.\n",
    "df = pd.read_csv('simplified.csv')\n",
    "set_seed(SEED)\n",
    "\n",
    "# Extracting the 'label' from the 'filename' column.\n",
    "# It appears the label is embedded in the filename and is the penultimate (second last) item when split by '_'.\n",
    "df['label'] = df['filename'].str.split('_').str[-2]\n",
    "\n",
    "# Checking the distribution of the labels.\n",
    "print(df['label'].value_counts())\n",
    "\n",
    "# Dropping Unnecessary Columns and Splitting the Dataset:\n",
    "# The dataset column called filename is likely a unique identifier for each sample and not a feature we would use for modeling. Hence, we should remove it before feeding the data to our model. \n",
    "columns_to_drop = ['filename', 'label']  \n",
    "\n",
    "# Splitting the dataset into training and testing sets:\n",
    "# The split is done in a 70:30 ratio, and the random_state ensures reproducibility.\n",
    "X_train, y_train, X_test, y_test = split_dataset(df, columns_to_drop, test_size=0.3, random_state=SEED)\n",
    "\n",
    "# We do not do preprocessing here as we will be doing 5-fold CV here. We should be applying scaling within each fold of the cross-validation, rather than fitting a scaler on the entire training dataset beforehand. \n",
    "# In each fold of the 5-fold cross-validation, a portion of our training set becomes the \"validation\" set, so the scaling parameters might be slightly different for each fold.\n",
    "\n",
    "# Declare a global dictionary to store epoch accuracies for different neurons in the first hidden layer\n",
    "global_epoch_accuracies = {}"
   ]
  },
  {
   "cell_type": "markdown",
   "id": "558aa470-6d7e-454c-9cda-9ad881d58c53",
   "metadata": {
    "deletable": false,
    "editable": false,
    "id": "558aa470-6d7e-454c-9cda-9ad881d58c53",
    "nbgrader": {
     "cell_type": "markdown",
     "checksum": "79004bd568c9f48abd1cf359cd050ab5",
     "grade": false,
     "grade_id": "cell-10b7165b0a25758f",
     "locked": true,
     "schema_version": 3,
     "solution": false,
     "task": false
    }
   },
   "source": [
    "3. Perform hyperparameter tuning for the different neurons with 5-fold cross validation."
   ]
  },
  {
   "cell_type": "code",
   "execution_count": 4,
   "id": "a861d173",
   "metadata": {},
   "outputs": [],
   "source": [
    "def train(model, X_train_scaled, y_train2, X_val_scaled, y_val2, batch_size):\n",
    "    # Initialize dataset and dataloaders using the provided scaled training and validation sets\n",
    "    train_dataloader, val_dataloader = generate_cv_dataloaders(X_train_scaled, y_train2, X_val_scaled, y_val2, batch_size)\n",
    "    \n",
    "    # Set up the optimizer with learning rate of 0.001\n",
    "    optimizer = torch.optim.Adam(model.parameters(), lr=0.001)\n",
    "    # Set up the binary cross-entropy loss function\n",
    "    loss_fn = nn.BCELoss()\n",
    "    \n",
    "    # Initialize the early stopping mechanism with a patience of 3 (number of epochs without improvement)\n",
    "    early_stopper = EarlyStopper(patience=3)\n",
    "\n",
    "    # Lists to store train accuracies, train losses, test accuracies, test losses and epoch times\n",
    "    train_accuracies = []\n",
    "    train_losses = []\n",
    "    test_accuracies = []\n",
    "    test_losses = []\n",
    "    times = []\n",
    "\n",
    "    # Training loop for up to 100 epochs\n",
    "    for epoch in tqdm(range(100)):\n",
    "        # Record start time of the epoch\n",
    "        start_time = time.time()\n",
    "        # Set model to training mode\n",
    "        model.train()\n",
    "        # Initialize variables for calculating training accuracy and loss\n",
    "        correct_train = 0\n",
    "        total_train = 0\n",
    "        train_loss = 0.0\n",
    "        \n",
    "        # Loop through each batch in the training set\n",
    "        for batch in train_dataloader:\n",
    "            # Split the batch into data and target\n",
    "            data, target = batch\n",
    "            # Reset gradients to zero\n",
    "            optimizer.zero_grad()\n",
    "            \n",
    "            # Forward pass: compute model's predictions\n",
    "            output = model(data)\n",
    "            # Calculate the loss between the predictions and the ground truth\n",
    "            loss = loss_fn(output, target.float())\n",
    "            # Backward pass: compute the gradient of the loss wrt model parameters\n",
    "            loss.backward()\n",
    "            # Update the model parameters using the computed gradients\n",
    "            optimizer.step()\n",
    "            \n",
    "            # Update train loss\n",
    "            train_loss += loss.item()\n",
    "            # Convert model's predictions to binary (0 or 1)\n",
    "            predicted = torch.round(output)\n",
    "            # Update the number of total and correctly predicted samples\n",
    "            total_train += target.size(0)\n",
    "            correct_train += (predicted == target).sum().item()\n",
    "        \n",
    "        # Compute training accuracy and update the list\n",
    "        train_accuracy = correct_train / total_train\n",
    "        train_accuracies.append(train_accuracy)\n",
    "        # Update the train losses list\n",
    "        train_losses.append(train_loss)\n",
    "        \n",
    "        # Set model to evaluation mode for validation\n",
    "        model.eval()\n",
    "        # Initialize variables for calculating validation loss and accuracy\n",
    "        val_loss = 0.0\n",
    "        correct_val = 0\n",
    "        total_val = 0\n",
    "        \n",
    "        # Disable gradient computation for efficiency during validation\n",
    "        with torch.no_grad():\n",
    "            # Loop through each batch in the validation set\n",
    "            for batch in val_dataloader:\n",
    "                data, target = batch\n",
    "                output = model(data)\n",
    "                loss = loss_fn(output, target.float())\n",
    "                val_loss += loss.item()\n",
    "                \n",
    "                # Convert model's predictions to binary (0 or 1)\n",
    "                predicted = torch.round(output)\n",
    "                # Update the number of total and correctly predicted samples\n",
    "                correct_predictions = (predicted == target).sum().item()\n",
    "                total_val += target.size(0)\n",
    "                correct_val += correct_predictions\n",
    "\n",
    "        # Compute validation accuracy and update the list\n",
    "        test_accuracy = correct_val / total_val\n",
    "        test_accuracies.append(test_accuracy)\n",
    "        # Update the validation losses list\n",
    "        test_losses.append(val_loss)\n",
    "                \n",
    "        # Check if early stopping should be triggered based on validation loss\n",
    "        if early_stopper.early_stop(val_loss):\n",
    "            # Record the end time of the epoch\n",
    "            end_time = time.time()\n",
    "            # Compute the elapsed time for the epoch\n",
    "            elapsed_time = end_time - start_time\n",
    "            # Update the list of epoch times\n",
    "            times.append(elapsed_time)\n",
    "            # Print a message indicating early stopping was triggered\n",
    "            print(f\"Early stopping triggered at epoch {epoch+1}!\")\n",
    "            break\n",
    "        \n",
    "        # Record the end time of the epoch if not early-stopped\n",
    "        end_time = time.time()\n",
    "        # Compute the elapsed time for the epoch\n",
    "        elapsed_time = end_time - start_time\n",
    "        # Update the list of epoch times\n",
    "        times.append(elapsed_time)\n",
    "            \n",
    "    # Return the recorded metrics: train accuracies, train losses, test accuracies, test losses, and epoch times\n",
    "    return train_accuracies, train_losses, test_accuracies, test_losses, times\n"
   ]
  },
  {
   "cell_type": "code",
   "execution_count": 22,
   "id": "d13d1ff1-7242-4c3f-bcf2-c92fe0c723db",
   "metadata": {
    "deletable": false,
    "id": "d13d1ff1-7242-4c3f-bcf2-c92fe0c723db",
    "nbgrader": {
     "cell_type": "code",
     "checksum": "ec4e70e2dfdc84af8c83bc858117af1f",
     "grade": true,
     "grade_id": "hyperparameter_tuning",
     "locked": false,
     "points": 2,
     "schema_version": 3,
     "solution": true,
     "task": false
    },
    "tags": []
   },
   "outputs": [
    {
     "name": "stdout",
     "output_type": "stream",
     "text": [
      "============ Testing with num_neurons: 64 in the first hidden layer ============\n",
      "Processing fold 1...\n"
     ]
    },
    {
     "name": "stderr",
     "output_type": "stream",
     "text": [
      " 29%|██▉       | 29/100 [00:09<00:22,  3.15it/s]\n"
     ]
    },
    {
     "name": "stdout",
     "output_type": "stream",
     "text": [
      "Early stopping triggered at epoch 30!\n",
      "Last epoch's accuracy for fold 1: 0.7109\n",
      "Processing fold 2...\n"
     ]
    },
    {
     "name": "stderr",
     "output_type": "stream",
     "text": [
      " 38%|███▊      | 38/100 [00:10<00:17,  3.46it/s]\n"
     ]
    },
    {
     "name": "stdout",
     "output_type": "stream",
     "text": [
      "Early stopping triggered at epoch 39!\n",
      "Last epoch's accuracy for fold 2: 0.7316\n",
      "Processing fold 3...\n"
     ]
    },
    {
     "name": "stderr",
     "output_type": "stream",
     "text": [
      " 28%|██▊       | 28/100 [00:08<00:20,  3.45it/s]\n"
     ]
    },
    {
     "name": "stdout",
     "output_type": "stream",
     "text": [
      "Early stopping triggered at epoch 29!\n",
      "Last epoch's accuracy for fold 3: 0.6943\n",
      "Processing fold 4...\n"
     ]
    },
    {
     "name": "stderr",
     "output_type": "stream",
     "text": [
      " 32%|███▏      | 32/100 [00:10<00:21,  3.11it/s]\n"
     ]
    },
    {
     "name": "stdout",
     "output_type": "stream",
     "text": [
      "Early stopping triggered at epoch 33!\n",
      "Last epoch's accuracy for fold 4: 0.7133\n",
      "Processing fold 5...\n"
     ]
    },
    {
     "name": "stderr",
     "output_type": "stream",
     "text": [
      " 30%|███       | 30/100 [00:07<00:16,  4.15it/s]"
     ]
    },
    {
     "name": "stdout",
     "output_type": "stream",
     "text": [
      "Early stopping triggered at epoch 31!\n",
      "Last epoch's accuracy for fold 5: 0.7048\n",
      "\n",
      "Mean cross-validation accuracy on final epoch for 64 neurons in the first hidden layer: 0.711\n",
      "Mean time taken for final epoch for 64 neurons in the first hidden layer: 0.2592 seconds\n",
      "\n",
      "============ Testing with num_neurons: 128 in the first hidden layer ============\n"
     ]
    },
    {
     "name": "stderr",
     "output_type": "stream",
     "text": [
      "\n"
     ]
    },
    {
     "name": "stdout",
     "output_type": "stream",
     "text": [
      "Processing fold 1...\n"
     ]
    },
    {
     "name": "stderr",
     "output_type": "stream",
     "text": [
      " 32%|███▏      | 32/100 [00:09<00:20,  3.24it/s]\n"
     ]
    },
    {
     "name": "stdout",
     "output_type": "stream",
     "text": [
      "Early stopping triggered at epoch 33!\n",
      "Last epoch's accuracy for fold 1: 0.7429\n",
      "Processing fold 2...\n"
     ]
    },
    {
     "name": "stderr",
     "output_type": "stream",
     "text": [
      " 27%|██▋       | 27/100 [00:07<00:19,  3.68it/s]\n"
     ]
    },
    {
     "name": "stdout",
     "output_type": "stream",
     "text": [
      "Early stopping triggered at epoch 28!\n",
      "Last epoch's accuracy for fold 2: 0.7293\n",
      "Processing fold 3...\n"
     ]
    },
    {
     "name": "stderr",
     "output_type": "stream",
     "text": [
      " 16%|█▌        | 16/100 [00:04<00:25,  3.27it/s]\n"
     ]
    },
    {
     "name": "stdout",
     "output_type": "stream",
     "text": [
      "Early stopping triggered at epoch 17!\n",
      "Last epoch's accuracy for fold 3: 0.7056\n",
      "Processing fold 4...\n"
     ]
    },
    {
     "name": "stderr",
     "output_type": "stream",
     "text": [
      " 26%|██▌       | 26/100 [00:07<00:21,  3.52it/s]\n"
     ]
    },
    {
     "name": "stdout",
     "output_type": "stream",
     "text": [
      "Early stopping triggered at epoch 27!\n",
      "Last epoch's accuracy for fold 4: 0.7405\n",
      "Processing fold 5...\n"
     ]
    },
    {
     "name": "stderr",
     "output_type": "stream",
     "text": [
      " 24%|██▍       | 24/100 [00:08<00:27,  2.80it/s]"
     ]
    },
    {
     "name": "stdout",
     "output_type": "stream",
     "text": [
      "Early stopping triggered at epoch 25!\n",
      "Last epoch's accuracy for fold 5: 0.7226\n",
      "\n",
      "Mean cross-validation accuracy on final epoch for 128 neurons in the first hidden layer: 0.7282\n",
      "Mean time taken for final epoch for 128 neurons in the first hidden layer: 0.2549 seconds\n",
      "\n",
      "============ Testing with num_neurons: 256 in the first hidden layer ============\n"
     ]
    },
    {
     "name": "stderr",
     "output_type": "stream",
     "text": [
      "\n"
     ]
    },
    {
     "name": "stdout",
     "output_type": "stream",
     "text": [
      "Processing fold 1...\n"
     ]
    },
    {
     "name": "stderr",
     "output_type": "stream",
     "text": [
      " 26%|██▌       | 26/100 [00:08<00:22,  3.23it/s]\n"
     ]
    },
    {
     "name": "stdout",
     "output_type": "stream",
     "text": [
      "Early stopping triggered at epoch 27!\n",
      "Last epoch's accuracy for fold 1: 0.747\n",
      "Processing fold 2...\n"
     ]
    },
    {
     "name": "stderr",
     "output_type": "stream",
     "text": [
      " 16%|█▌        | 16/100 [00:05<00:26,  3.13it/s]\n"
     ]
    },
    {
     "name": "stdout",
     "output_type": "stream",
     "text": [
      "Early stopping triggered at epoch 17!\n",
      "Last epoch's accuracy for fold 2: 0.7162\n",
      "Processing fold 3...\n"
     ]
    },
    {
     "name": "stderr",
     "output_type": "stream",
     "text": [
      " 24%|██▍       | 24/100 [00:06<00:21,  3.51it/s]\n"
     ]
    },
    {
     "name": "stdout",
     "output_type": "stream",
     "text": [
      "Early stopping triggered at epoch 25!\n",
      "Last epoch's accuracy for fold 3: 0.7405\n",
      "Processing fold 4...\n"
     ]
    },
    {
     "name": "stderr",
     "output_type": "stream",
     "text": [
      " 18%|█▊        | 18/100 [00:05<00:24,  3.42it/s]\n"
     ]
    },
    {
     "name": "stdout",
     "output_type": "stream",
     "text": [
      "Early stopping triggered at epoch 19!\n",
      "Last epoch's accuracy for fold 4: 0.7145\n",
      "Processing fold 5...\n"
     ]
    },
    {
     "name": "stderr",
     "output_type": "stream",
     "text": [
      " 18%|█▊        | 18/100 [00:04<00:22,  3.68it/s]"
     ]
    },
    {
     "name": "stdout",
     "output_type": "stream",
     "text": [
      "Early stopping triggered at epoch 19!\n",
      "Last epoch's accuracy for fold 5: 0.7398\n",
      "\n",
      "Mean cross-validation accuracy on final epoch for 256 neurons in the first hidden layer: 0.7316\n",
      "Mean time taken for final epoch for 256 neurons in the first hidden layer: 0.2835 seconds\n",
      "\n"
     ]
    },
    {
     "name": "stderr",
     "output_type": "stream",
     "text": [
      "\n"
     ]
    }
   ],
   "source": [
    "def find_optimal_hyperparameter(X_train, y_train, parameters, mode, batch_size):\n",
    "    # Access the global variable to store epoch accuracies\n",
    "    global global_epoch_accuracies\n",
    "\n",
    "    # Dictionaries to store cross-validation accuracies and times\n",
    "    cross_validation_accuracies = {}\n",
    "    cross_validation_times = {}\n",
    "\n",
    "    # Iterate through the specified parameters\n",
    "    for param in parameters:\n",
    "        print(f\"============ Testing with {mode}: {param} in the first hidden layer ============\")\n",
    "        \n",
    "        # Initialize the dictionary key for this number of neurons in the first hidden layer\n",
    "        global_epoch_accuracies[param] = []\n",
    "\n",
    "        # Lists to store cross-validation accuracies and times for this parameter\n",
    "        cv_accuracies = []\n",
    "        cv_times = []\n",
    "\n",
    "        # Generate cross-validation folds for the current no of neurons in the first hidden layer\n",
    "        X_train_scaled_dict, X_val_scaled_dict, y_train_dict, y_val_dict = generate_cv_folds_for_num_neurons(parameters, X_train, y_train)\n",
    "\n",
    "        # Iterate through the 5-fold cross-validation\n",
    "        for i in range(5):\n",
    "            print(f\"Processing fold {i+1}...\")\n",
    "            \n",
    "            # Define the neural network architecture for the current parameter\n",
    "            no_features = X_train_scaled_dict[param][0].shape[1]\n",
    "            no_hidden = param  # Number of hidden neurons in the first layer is the parameter we are tuning\n",
    "            no_labels = 1\n",
    "            \n",
    "            model = MLP(no_features, no_hidden, no_labels)\n",
    "\n",
    "            # Train the model and get accuracies, losses, and times\n",
    "            train_accuracies, train_losses, test_accuracies, test_losses, times = train(\n",
    "                model, X_train_scaled_dict[param][i], y_train_dict[param][i], X_val_scaled_dict[param][i], y_val_dict[param][i], batch_size\n",
    "            )\n",
    "            \n",
    "            # Store the test accuracies for each epoch\n",
    "            global_epoch_accuracies[param].append(test_accuracies)\n",
    "            \n",
    "            print(f\"Last epoch's accuracy for fold {i + 1}: {round(test_accuracies[-1],4)}\")\n",
    "            cv_accuracies.append(test_accuracies[-1])\n",
    "            cv_times.append(times[-1])\n",
    "\n",
    "        print()\n",
    "        \n",
    "        # Calculate and print the mean cross-validation accuracy for this parameter\n",
    "        cross_validation_accuracies[param] = sum(cv_accuracies) / len(cv_accuracies)\n",
    "        print(f\"Mean cross-validation accuracy on final epoch for {param} neurons in the first hidden layer: {round(cross_validation_accuracies[param],4)}\")\n",
    "        \n",
    "        # Calculate and print the mean time taken for the last epoch for this parameter\n",
    "        cross_validation_times[param] = sum(cv_times) / len(cv_times)\n",
    "        print(f\"Mean time taken for final epoch for {param} neurons in the first hidden layer: {round(cross_validation_times[param],4)} seconds\")\n",
    "        print()\n",
    "\n",
    "    return cross_validation_accuracies, cross_validation_times\n",
    "'''\n",
    "optimal_bs = 256. Fill your optimal batch size in the following code.\n",
    "'''\n",
    "# YOUR CODE HERE\n",
    "\n",
    "# Set a random seed\n",
    "\n",
    "set_seed(SEED)\n",
    "\n",
    "# Specify the optimal batch size\n",
    "optimal_bs = 256\n",
    "\n",
    "# Specify the number of neurons to tune\n",
    "num_neurons = [64, 128, 256]\n",
    "\n",
    "# Call the hyperparameter tuning function with specified parameters\n",
    "cross_validation_accuracies, cross_validation_times = find_optimal_hyperparameter(X_train.to_numpy(), y_train, num_neurons, 'num_neurons', optimal_bs)\n",
    "\n",
    "# Please note that the next time you run this notebook cell, the results will be different as time taken depends on CPU speed and other factors."
   ]
  },
  {
   "cell_type": "markdown",
   "id": "b6756ab6-92e0-4a5e-b4b9-aebe009f5480",
   "metadata": {
    "deletable": false,
    "editable": false,
    "id": "b6756ab6-92e0-4a5e-b4b9-aebe009f5480",
    "nbgrader": {
     "cell_type": "markdown",
     "checksum": "0de56ab3a8b732e3ada17c55bc90a3cf",
     "grade": false,
     "grade_id": "cell-d0eceff23b1291e2",
     "locked": true,
     "schema_version": 3,
     "solution": false,
     "task": false
    }
   },
   "source": [
    "4. Plot the cross-validation accuracies against the number of epochs for different numbers of hidden-layer neurons. Limit the search space of the number of neurons to {64, 128, 256}."
   ]
  },
  {
   "cell_type": "code",
   "execution_count": 6,
   "id": "8fa3afdf-eed6-47b9-9acc-bc2304c46ec3",
   "metadata": {
    "deletable": false,
    "id": "8fa3afdf-eed6-47b9-9acc-bc2304c46ec3",
    "nbgrader": {
     "cell_type": "code",
     "checksum": "25582e96a2b85a5ce6e0cf48a58064bd",
     "grade": true,
     "grade_id": "cell-plot",
     "locked": false,
     "points": 2,
     "schema_version": 3,
     "solution": true,
     "task": false
    },
    "tags": []
   },
   "outputs": [
    {
     "data": {
      "image/png": "[encoded data removed]",
      "text/plain": [
       "<Figure size 1000x600 with 1 Axes>"
      ]
     },
     "metadata": {},
     "output_type": "display_data"
    },
    {
     "data": {
      "text/html": [
       "<div>\n",
       "<style scoped>\n",
       "    .dataframe tbody tr th:only-of-type {\n",
       "        vertical-align: middle;\n",
       "    }\n",
       "\n",
       "    .dataframe tbody tr th {\n",
       "        vertical-align: top;\n",
       "    }\n",
       "\n",
       "    .dataframe thead th {\n",
       "        text-align: right;\n",
       "    }\n",
       "</style>\n",
       "<table border=\"1\" class=\"dataframe\">\n",
       "  <thead>\n",
       "    <tr style=\"text-align: right;\">\n",
       "      <th></th>\n",
       "      <th>Number of Neurons in Hidden Layer</th>\n",
       "      <th>Mean CV Time On Last Epoch (seconds)</th>\n",
       "      <th>Mean CV Accuracy On Last Epoch</th>\n",
       "    </tr>\n",
       "  </thead>\n",
       "  <tbody>\n",
       "    <tr>\n",
       "      <th>0</th>\n",
       "      <td>64</td>\n",
       "      <td>0.2319</td>\n",
       "      <td>0.7110</td>\n",
       "    </tr>\n",
       "    <tr>\n",
       "      <th>1</th>\n",
       "      <td>128</td>\n",
       "      <td>0.2383</td>\n",
       "      <td>0.7282</td>\n",
       "    </tr>\n",
       "    <tr>\n",
       "      <th>2</th>\n",
       "      <td>256</td>\n",
       "      <td>0.2451</td>\n",
       "      <td>0.7316</td>\n",
       "    </tr>\n",
       "  </tbody>\n",
       "</table>\n",
       "</div>"
      ],
      "text/plain": [
       "   Number of Neurons in Hidden Layer  Mean CV Time On Last Epoch (seconds)  Mean CV Accuracy On Last Epoch\n",
       "0                                 64                                0.2319                          0.7110\n",
       "1                                128                                0.2383                          0.7282\n",
       "2                                256                                0.2451                          0.7316"
      ]
     },
     "metadata": {},
     "output_type": "display_data"
    }
   ],
   "source": [
    "# YOUR CODE HERE\n",
    "\n",
    "# Plot the mean cross-validation accuracies on the final epoch for different numbers of hidden-layer neurons using a scatter plot.\n",
    "\n",
    "# Get the keys and values from the dictionary to plot\n",
    "neurons = list(cross_validation_accuracies.keys())\n",
    "accuracies = list(cross_validation_accuracies.values())\n",
    "\n",
    "# Create a scatter plot\n",
    "plt.figure(figsize=(10, 6))\n",
    "plt.scatter(neurons, accuracies, c='blue', marker='x')\n",
    "\n",
    "# Labeling and titling the graph\n",
    "plt.xlabel('Number of Neurons in Hidden Layer')\n",
    "plt.ylabel('Mean Cross-Validation Accuracy')\n",
    "plt.title('Mean Cross-Validation Accuracy On Final Epoch vs. Number of Neurons in Hidden Layer')\n",
    "plt.xticks(neurons)  # Set x-ticks to be the actual numbers of neurons considered\n",
    "\n",
    "# Annotate each point with its accuracy value\n",
    "for i, txt in enumerate(accuracies):\n",
    "    if i == 2:\n",
    "        plt.annotate(\n",
    "            round(txt, 4), \n",
    "            (neurons[i], accuracies[i]), \n",
    "            textcoords=\"offset points\",  # specify textcoords as offset points\n",
    "            xytext=(0, -20),  # 0 points in x direction,-20 points in y direction\n",
    "            ha='center'  # horizontally align the text to be centered\n",
    "        )\n",
    "    else:\n",
    "        plt.annotate(\n",
    "            round(txt, 4), \n",
    "            (neurons[i], accuracies[i]), \n",
    "            textcoords=\"offset points\",  # specify textcoords as offset points\n",
    "            xytext=(0, 10),  # 0 points in x direction, 10 points in y direction\n",
    "            ha='center'  # horizontally align the text to be centered\n",
    "        )\n",
    "\n",
    "# Show the graph\n",
    "plt.show()\n",
    "\n",
    "data = {\n",
    "    'Number of Neurons in Hidden Layer': list(cross_validation_times.keys()),\n",
    "    'Mean CV Time On Last Epoch (seconds)': list(cross_validation_times.values()),\n",
    "    'Mean CV Accuracy On Last Epoch': list(cross_validation_accuracies.values())\n",
    "}\n",
    "\n",
    "# Create DataFrame\n",
    "df = pd.DataFrame(data)\n",
    "pd.set_option('display.width', 200)  # set the display width for columns\n",
    "\n",
    "# Round the specified columns to 4 decimal places\n",
    "df['Mean CV Time On Last Epoch (seconds)'] = df['Mean CV Time On Last Epoch (seconds)'].round(4)\n",
    "df['Mean CV Accuracy On Last Epoch'] = df['Mean CV Accuracy On Last Epoch'].round(4)\n",
    "\n",
    "# Display DataFrame\n",
    "display(df)\n",
    "\n",
    "# Please note that the next time you run this notebook cell, the results will be different as time taken depends on CPU speed and other factors."
   ]
  },
  {
   "cell_type": "markdown",
   "id": "baab6e4d-4e8b-4358-a68d-682f60db4a06",
   "metadata": {
    "deletable": false,
    "editable": false,
    "id": "baab6e4d-4e8b-4358-a68d-682f60db4a06",
    "nbgrader": {
     "cell_type": "markdown",
     "checksum": "2024917155ea0cc8755c69415b4956cf",
     "grade": false,
     "grade_id": "part-1-3",
     "locked": true,
     "schema_version": 3,
     "solution": false,
     "task": false
    }
   },
   "source": [
    "5. Select the optimal number of neurons for the hidden layer. State the rationale for your selection."
   ]
  },
  {
   "cell_type": "code",
   "execution_count": 28,
   "id": "a670720d",
   "metadata": {},
   "outputs": [
    {
     "name": "stdout",
     "output_type": "stream",
     "text": [
      "Optimal number of neurons in the first hidden layer: 256\n",
      "\n",
      "Reason: \n",
      "• Our main objective when optimizing the model is to achieve the highest possible accuracy. In our experiments, increasing the number of neurons in the first hidden layer from 64 to 256 showed \n",
      "a consistent increase in mean cross-validation accuracy on the last epoch. The configuration with 256 neurons achieved an accuracy of 0.7316, the highest among all the configurations tested.\n",
      "\n",
      "• We have incorporated various strategies and architectures, like dropout layers, to safeguard our model against overfitting. Additionally, with the use of early stopping during training and \n",
      "implementing cross-validation, we have measures in place to ensure the model's robustness and its generalizability to unseen data. With these strategies, the increased complexity of our model \n",
      "with more neurons becomes both justifiable and beneficial, allowing us to harness a more complex model to capture intricate patterns in the data without a high risk of overfitting.\n",
      "\n",
      "• When balancing model complexity and computational resources, it's evident that an increase in the number of neurons does lead to a slightly higher computational time. However, the incremental \n",
      "increase in time, from 0.2592 seconds for 64 neurons to 0.2835 seconds for 256 neurons, is relatively minor, especially when contrasted with the significant improvement in accuracy: from 0.7110 \n",
      "with 64 neurons to 0.7316 with 256 neurons.\n",
      "\n",
      "• Even though there is an increase in computational time as we transition from 64 to 256 neurons, the marginal difference in training time is outweighed by the considerable enhancement in model \n",
      "accuracy. This makes the choice of 256 neurons in the first hidden layer as the optimal configuration both judicious and favorable for our application.\n",
      "\n"
     ]
    }
   ],
   "source": [
    "optimal_neurons = 256\n",
    "reason = '''\n",
    "• Our main objective when optimizing the model is to achieve the highest possible accuracy. In our experiments, increasing the number of neurons in the first hidden layer from 64 to 256 showed \n",
    "a consistent increase in mean cross-validation accuracy on the last epoch. The configuration with 256 neurons achieved an accuracy of 0.7316, the highest among all the configurations tested.\n",
    "\n",
    "• We have incorporated various strategies and architectures, like dropout layers, to safeguard our model against overfitting. Additionally, with the use of early stopping during training and \n",
    "implementing cross-validation, we have measures in place to ensure the model's robustness and its generalizability to unseen data. With these strategies, the increased complexity of our model \n",
    "with more neurons becomes both justifiable and beneficial, allowing us to harness a more complex model to capture intricate patterns in the data without a high risk of overfitting.\n",
    "\n",
    "• When balancing model complexity and computational resources, it's evident that an increase in the number of neurons does lead to a slightly higher computational time. However, the incremental \n",
    "increase in time, from 0.2592 seconds for 64 neurons to 0.2835 seconds for 256 neurons, is relatively minor, especially when contrasted with the significant improvement in accuracy: from 0.7110 \n",
    "with 64 neurons to 0.7316 with 256 neurons.\n",
    "\n",
    "• Even though there is an increase in computational time as we transition from 64 to 256 neurons, the marginal difference in training time is outweighed by the considerable enhancement in model \n",
    "accuracy. This makes the choice of 256 neurons in the first hidden layer as the optimal configuration both judicious and favorable for our application.\n",
    "'''\n",
    "# YOUR CODE HERE\n",
    "\n",
    "print(f\"Optimal number of neurons in the first hidden layer: {optimal_neurons}\")\n",
    "print()\n",
    "print(f\"Reason: {reason}\")\n"
   ]
  },
  {
   "cell_type": "markdown",
   "id": "ebf2dc5e-91d5-49dc-a05f-b9318f3371a7",
   "metadata": {
    "deletable": false,
    "editable": false,
    "id": "ebf2dc5e-91d5-49dc-a05f-b9318f3371a7",
    "nbgrader": {
     "cell_type": "markdown",
     "checksum": "4c609ceb4ecc2dac0684b1da17f44daa",
     "grade": false,
     "grade_id": "cell-302503e166f647c9",
     "locked": true,
     "schema_version": 3,
     "solution": false,
     "task": false
    }
   },
   "source": [
    "6. Plot the train and test accuracies against training epochs with the optimal number of neurons using a line plot."
   ]
  },
  {
   "cell_type": "code",
   "execution_count": 7,
   "id": "081aa567-cd92-4749-93fd-fc6608a1f6ae",
   "metadata": {
    "deletable": false,
    "id": "081aa567-cd92-4749-93fd-fc6608a1f6ae",
    "nbgrader": {
     "cell_type": "code",
     "checksum": "2776dd57325ada98de4534313e894572",
     "grade": true,
     "grade_id": "figure",
     "locked": false,
     "points": 2,
     "schema_version": 3,
     "solution": true,
     "task": false
    },
    "tags": []
   },
   "outputs": [
    {
     "name": "stdout",
     "output_type": "stream",
     "text": [
      "Training the model with optimal number of neurons: 256...\n",
      "This will stop at 26 epochs (~ 20 secs)...\n",
      "\n"
     ]
    },
    {
     "name": "stderr",
     "output_type": "stream",
     "text": [
      "  0%|          | 0/100 [00:00<?, ?it/s]"
     ]
    },
    {
     "name": "stderr",
     "output_type": "stream",
     "text": [
      " 25%|██▌       | 25/100 [00:10<00:30,  2.48it/s]"
     ]
    },
    {
     "name": "stdout",
     "output_type": "stream",
     "text": [
      "Early stopping triggered at epoch 26!\n",
      "Training completed!\n",
      "\n",
      "Training Accuracies:\n",
      "Epoch 10: 0.7349\n",
      "Epoch 20: 0.8266\n",
      "Epoch 26: 0.8573\n",
      "\n",
      "Test Accuracies:\n",
      "Epoch 10: 0.7051\n",
      "Epoch 20: 0.7515\n",
      "Epoch 26: 0.7593\n"
     ]
    },
    {
     "name": "stderr",
     "output_type": "stream",
     "text": [
      "\n"
     ]
    },
    {
     "data": {
      "image/png": "[encoded data removed]",
      "text/plain": [
       "<Figure size 1000x600 with 1 Axes>"
      ]
     },
     "metadata": {},
     "output_type": "display_data"
    }
   ],
   "source": [
    "# YOUR CODE HERE\n",
    "\n",
    "# Now, use the full training dataset and train the model using the optimal number of neurons and test it on the test set:\n",
    "set_seed(SEED)\n",
    "optimal_neurons = 256\n",
    "no_input_features = X_train.shape[1]\n",
    "no_hidden = optimal_neurons\n",
    "no_labels = 1\n",
    "batch_size = 256\n",
    "model_optimal = MLP(no_input_features, no_hidden, no_labels)\n",
    "# Saved the trained model for usage in A4\n",
    "torch.save(model_optimal.state_dict(), 'a3_model.pth')\n",
    "\n",
    "X_train_scaled, X_test_scaled = preprocess_dataset(X_train, X_test)\n",
    "\n",
    "# Assuming train_accuracies and test_accuracies are lists containing accuracy values for each epoch\n",
    "print(f'Training the model with optimal number of neurons: {optimal_neurons}...')\n",
    "print('This will stop at 26 epochs (~ 20 secs)...')\n",
    "print()\n",
    "train_accuracies, train_losses, test_accuracies, test_losses , _ = train(\n",
    "    model_optimal, X_train_scaled, y_train, X_test_scaled, y_test, batch_size\n",
    ")\n",
    "print('Training completed!')\n",
    "\n",
    "# Print training accuracies every 10 epochs and the last epoch\n",
    "print(\"\\nTraining Accuracies:\")\n",
    "for i, accuracy in enumerate(train_accuracies, 1):  # Enumerate starts the count from 1 here\n",
    "    if i % 10 == 0 or i == len(train_accuracies):\n",
    "        print(f\"Epoch {i}: {accuracy:.4f}\")\n",
    "\n",
    "# Print testing accuracies every 10 epochs and the last epoch\n",
    "print(\"\\nTest Accuracies:\")\n",
    "for i, accuracy in enumerate(test_accuracies, 1):\n",
    "    if i % 10 == 0 or i == len(test_accuracies):\n",
    "        print(f\"Epoch {i}: {accuracy:.4f}\")\n",
    "\n",
    "# Create a line plot\n",
    "plt.figure(figsize=(10, 6))\n",
    "\n",
    "# Plotting the training accuracies\n",
    "plt.plot(range(len(train_accuracies)), train_accuracies, label='Train Accuracy', color='b')\n",
    "\n",
    "# Plotting the test accuracies\n",
    "plt.plot(range(len(test_accuracies)), test_accuracies, label='Test Accuracy', color='r')\n",
    "\n",
    "# Labeling and titling the graph\n",
    "plt.xlabel('Epochs')\n",
    "plt.ylabel('Accuracy')\n",
    "plt.title('Train and Test Accuracies vs. Epochs')\n",
    "plt.legend()\n",
    "\n",
    "# Show the graph\n",
    "plt.show()\n",
    "\n",
    "#---------------------------------------#\n",
    "# Comments:\n",
    "# • Convergence and Learning: The training accuracy showed significant improvement as epochs progressed, starting from 0.7349 in the 10th epoch and reaching 0.8573 by the 26th epoch. \n",
    "#   This consistent rise in training accuracy indicates that the model efficiently adapted its weights over time, improving its performance on the training dataset.\n",
    "\n",
    "# • Generalization: The test accuracy demonstrated a similar upward trajectory, rising from 0.7051 in the 10th epoch to 0.7593 by the 26th epoch. Howver, the test and training accuracies did not remain closely \n",
    "#   aligned throughout the training process, underscoring the model's inability to generalize well to new, unseen data. Particularly in the final epoch, the test accuracy (0.7593) is nearly 0.1 away from \n",
    "#   to the training accuracy (0.8573), further emphasizing the model's moderate generalization capabilities.\n",
    "\n",
    "# • Early Stopping: The training was halted on the 26th epoch, suggesting that the early stopping criterion was activated. This mechanism is pivotal in averting potential overfitting by ensuring the model \n",
    "#   doesn't become overly specialized to the training data, which could compromise performance on the test dataset. The fact that the model stopped training at this point indicates that subsequent \n",
    "#   epochs might not have yielded notable advancements or could have even deteriorated the model's capacity to generalize.\n",
    "#---------------------------------------#\n"
   ]
  }
 ],
 "metadata": {
  "colab": {
   "provenance": []
  },
  "kernelspec": {
   "display_name": "Python 3 (ipykernel)",
   "language": "python",
   "name": "python3"
  },
  "language_info": {
   "codemirror_mode": {
    "name": "ipython",
    "version": 3
   },
   "file_extension": ".py",
   "mimetype": "text/x-python",
   "name": "python",
   "nbconvert_exporter": "python",
   "pygments_lexer": "ipython3",
   "version": "3.11.4"
  }
 },
 "nbformat": 4,
 "nbformat_minor": 5
}
