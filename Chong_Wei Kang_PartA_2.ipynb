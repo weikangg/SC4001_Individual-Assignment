{
 "cells": [
  {
   "cell_type": "markdown",
   "id": "c5cb62ac-8e88-43e6-bce9-da20fabf38ff",
   "metadata": {
    "deletable": false,
    "editable": false,
    "id": "c5cb62ac-8e88-43e6-bce9-da20fabf38ff",
    "nbgrader": {
     "cell_type": "markdown",
     "checksum": "3c7e82aadc4d77a8b23f7f880449f9e3",
     "grade": false,
     "grade_id": "a2",
     "locked": true,
     "schema_version": 3,
     "solution": false,
     "task": false
    },
    "tags": []
   },
   "source": [
    "# Question A2 (10 marks)"
   ]
  },
  {
   "cell_type": "markdown",
   "id": "26b4ac2a-d56e-4151-8e0a-4a833cbc643e",
   "metadata": {
    "deletable": false,
    "editable": false,
    "id": "26b4ac2a-d56e-4151-8e0a-4a833cbc643e",
    "nbgrader": {
     "cell_type": "markdown",
     "checksum": "eb28aa752ce5540f5b18d10694b52ea9",
     "grade": false,
     "grade_id": "a22",
     "locked": true,
     "schema_version": 3,
     "solution": false,
     "task": false
    },
    "tags": []
   },
   "source": [
    "### In this question, we will determine the optimal batch size for mini-batch gradient descent. Find the optimal batch size for mini-batch gradient descent by training the neural network and evaluating the performances for different batch sizes. Note: Use 5-fold cross-validation on training partition to perform hyperparameter selection. You will have to reconsider the scaling of the dataset during the 5-fold cross validation.\n",
    "\n",
    "* note: some cells are non-editable and cannot be filled, but leave them untouched. Fill up only cells which are provided."
   ]
  },
  {
   "cell_type": "markdown",
   "id": "fb9411ad-2324-400e-852e-ff5c0ca716f0",
   "metadata": {
    "deletable": false,
    "editable": false,
    "id": "fb9411ad-2324-400e-852e-ff5c0ca716f0",
    "nbgrader": {
     "cell_type": "markdown",
     "checksum": "aceec82011f43733c0551ca196f1b16c",
     "grade": false,
     "grade_id": "a2_1",
     "locked": true,
     "schema_version": 3,
     "solution": false,
     "task": false
    },
    "tags": []
   },
   "source": [
    "#### Plot mean cross-validation accuracies on the final epoch for different batch sizes as a scatter plot. Limit search space to batch sizes {128, 256, 512, 1024}. Next, create a table of time taken to train the network on the last epoch against different batch sizes. Finally, select the optimal batch size and state a reason for your selection.\n",
    "\n",
    "This might take a while to run, so plan your time carefully."
   ]
  },
  {
   "cell_type": "code",
   "execution_count": 1,
   "id": "b0edc610-21e6-4cc7-9603-59318b961990",
   "metadata": {
    "deletable": false,
    "editable": false,
    "id": "b0edc610-21e6-4cc7-9603-59318b961990",
    "nbgrader": {
     "cell_type": "code",
     "checksum": "909acb3c7ff3883eb5381eb586615d3b",
     "grade": false,
     "grade_id": "libraries",
     "locked": true,
     "schema_version": 3,
     "solution": false,
     "task": false
    },
    "tags": []
   },
   "outputs": [],
   "source": [
    "# Import necessary libraries and modules\n",
    "\n",
    "import time  # For time-related functions\n",
    "import pandas as pd  # For data manipulation\n",
    "import matplotlib.pyplot as plt  # For data visualization\n",
    "from tqdm import tqdm  # For progress bar\n",
    "\n",
    "import torch  # For PyTorch deep learning framework\n",
    "from torch.utils.data import DataLoader  # For data loading\n",
    "\n",
    "from sklearn.preprocessing import StandardScaler  # For feature scaling\n",
    "from sklearn.model_selection import KFold  # For data splitting\n",
    "\n",
    "# Import custom utility functions\n",
    "from common_utils import set_seed, split_dataset, EarlyStopper, train_one_epoch, evaluate_model\n",
    "\n",
    "# Set a specific random seed for reproducibility\n",
    "SEED = 0\n",
    "set_seed(SEED)"
   ]
  },
  {
   "cell_type": "markdown",
   "id": "e8e12861-4713-4914-9f4b-8a7381708243",
   "metadata": {
    "deletable": false,
    "editable": false,
    "id": "e8e12861-4713-4914-9f4b-8a7381708243",
    "nbgrader": {
     "cell_type": "markdown",
     "checksum": "ed97d9f30da032a5e349047c614efec1",
     "grade": false,
     "grade_id": "a2_1_2",
     "locked": true,
     "schema_version": 3,
     "solution": false,
     "task": false
    },
    "tags": []
   },
   "source": [
    "2. To reduce repeated code, place your\n",
    "\n",
    "- network (MLP defined in QA1)\n",
    "- torch datasets (CustomDataset defined in QA1)\n",
    "- loss function (loss_fn defined in QA1)\n",
    "\n",
    "in a separate file called **common_utils.py**\n",
    "\n",
    "Import them into this file. You will not be repenalised for any error in QA1 here as the code in QA1 will not be remarked.\n",
    "\n",
    "The following code cell will not be marked."
   ]
  },
  {
   "cell_type": "code",
   "execution_count": 2,
   "id": "37a1a982-de85-46de-b890-3b81f79f5887",
   "metadata": {
    "deletable": false,
    "id": "37a1a982-de85-46de-b890-3b81f79f5887",
    "nbgrader": {
     "cell_type": "code",
     "checksum": "9db3ca972642b1447dba3ebd5f2db24b",
     "grade": false,
     "grade_id": "import",
     "locked": false,
     "schema_version": 3,
     "solution": true,
     "task": false
    },
    "tags": []
   },
   "outputs": [],
   "source": [
    "# YOUR CODE HERE\n",
    "from common_utils import MLP, CustomDataset, loss_fn"
   ]
  },
  {
   "cell_type": "code",
   "execution_count": null,
   "id": "fb0e431e",
   "metadata": {},
   "outputs": [],
   "source": []
  },
  {
   "cell_type": "markdown",
   "id": "82ea67d6-1eb4-428d-9407-9d988e927ff6",
   "metadata": {
    "deletable": false,
    "editable": false,
    "id": "82ea67d6-1eb4-428d-9407-9d988e927ff6",
    "nbgrader": {
     "cell_type": "markdown",
     "checksum": "c738d3b4888de90dda8c532036bc5fe5",
     "grade": false,
     "grade_id": "a2_1_3",
     "locked": true,
     "schema_version": 3,
     "solution": false,
     "task": false
    },
    "tags": []
   },
   "source": [
    "3. Define different folds for different batch sizes to get a dictionary of training and validation datasets. Preprocess your datasets accordingly."
   ]
  },
  {
   "cell_type": "code",
   "execution_count": 3,
   "id": "6bbc3549",
   "metadata": {},
   "outputs": [
    {
     "name": "stdout",
     "output_type": "stream",
     "text": [
      "label\n",
      "pos    6202\n",
      "neg    5855\n",
      "Name: count, dtype: int64\n"
     ]
    }
   ],
   "source": [
    "# Loading the dataset from a CSV file.\n",
    "df = pd.read_csv('simplified.csv')\n",
    "set_seed()\n",
    "\n",
    "# Extracting the 'label' from the 'filename' column.\n",
    "# It appears the label is embedded in the filename and is the penultimate (second last) item when split by '_'.\n",
    "df['label'] = df['filename'].str.split('_').str[-2]\n",
    "\n",
    "# Checking the distribution of the labels.\n",
    "print(df['label'].value_counts())\n",
    "\n",
    "# Dropping Unnecessary Columns and Splitting the Dataset:\n",
    "# The dataset column called filename is likely a unique identifier for each sample and not a feature we would use for modeling. Hence, we should remove it before feeding the data to our model. \n",
    "columns_to_drop = ['filename', 'label']  \n",
    "\n",
    "# Splitting the dataset into training and testing sets:\n",
    "# The split is done in a 70:30 ratio, and the random_state ensures reproducibility.\n",
    "# We still do train-test split here because the question specifies us to use 5-fold cross-validation on the training partition and not the whole dataset.\n",
    "X_train, y_train, X_test, y_test = split_dataset(df, columns_to_drop, test_size=0.3, random_state=SEED)\n",
    "\n",
    "'''\n",
    "In the context of 5-fold cross-validation, \"reconsidering the scaling\" likely means we should be applying scaling within each fold of the cross-validation, rather than fitting a scaler on the entire training dataset beforehand. \n",
    "In each fold of the 5-fold cross-validation, a portion of our training set becomes the \"validation\" set, so the scaling parameters might be slightly different for each fold.\n",
    "\n",
    "As such, for our k-fold cross-validation procedure, the steps would be as follows:\n",
    "\n",
    "The original training dataset is split into k subsets (folds).\n",
    "For each k:\n",
    "    Take the k-th fold as the validation set, and the remaining k-1 folds as the training set.\n",
    "    Fit the scaler only on this new training set.\n",
    "    Transform both the training and validation sets using this scaler.\n",
    "    Train the model on the scaled training set.\n",
    "    Validate the model on the scaled validation set.\n",
    "'''\n",
    "\n",
    "def generate_cv_folds_for_batch_sizes(parameters, X_train, y_train):\n",
    "    \"\"\"\n",
    "    returns:\n",
    "    X_train_scaled_dict(dict) where X_train_scaled_dict[batch_size] is a list of the preprocessed training matrix for the different folds.\n",
    "    X_val_scaled_dict(dict) where X_val_scaled_dict[batch_size] is a list of the processed validation matrix for the different folds.\n",
    "    y_train_dict(dict) where y_train_dict[batch_size] is a list of labels for the different folds\n",
    "    y_val_dict(dict) where y_val_dict[batch_size] is a list of labels for the different folds\n",
    "    \"\"\"\n",
    "    # Dictionary Initializations\n",
    "    X_train_scaled_dict = {}  # Dictionary to store scaled training data\n",
    "    X_val_scaled_dict = {}    # Dictionary to store scaled validation data\n",
    "    y_train_dict = {}         # Dictionary to store training labels\n",
    "    y_val_dict = {}           # Dictionary to store validation labels\n",
    "\n",
    "    # Create a 5-fold cross-validation object with shuffling\n",
    "    cv = KFold(n_splits=5, shuffle=True, random_state=SEED)\n",
    "\n",
    "    # Loop through different batch sizes\n",
    "    for batch_size in parameters:\n",
    "        X_train_scaled_folds = []  # List to store scaled training data for each fold\n",
    "        X_val_scaled_folds = []    # List to store scaled validation data for each fold\n",
    "        y_train_folds = []         # List to store training labels for each fold\n",
    "        y_val_folds = []           # List to store validation labels for each fold\n",
    "\n",
    "        # Loop through each fold\n",
    "        for train_idx, val_idx in cv.split(X_train, y_train):\n",
    "            X_train_fold, y_train_fold = X_train[train_idx], y_train[train_idx]\n",
    "            X_val_fold, y_val_fold = X_train[val_idx], y_train[val_idx]\n",
    "\n",
    "            # Scaling the data using StandardScaler\n",
    "            scaler = StandardScaler()\n",
    "            X_train_fold_scaled = scaler.fit_transform(X_train_fold)\n",
    "            X_val_fold_scaled = scaler.transform(X_val_fold)\n",
    "\n",
    "            # Append data to respective lists\n",
    "            X_train_scaled_folds.append(X_train_fold_scaled)\n",
    "            X_val_scaled_folds.append(X_val_fold_scaled)\n",
    "            y_train_folds.append(y_train_fold)\n",
    "            y_val_folds.append(y_val_fold)\n",
    "\n",
    "        # Store data for this batch size in dictionaries\n",
    "        X_train_scaled_dict[batch_size] = X_train_scaled_folds\n",
    "        X_val_scaled_dict[batch_size] = X_val_scaled_folds\n",
    "        y_train_dict[batch_size] = y_train_folds\n",
    "        y_val_dict[batch_size] = y_val_folds\n",
    "\n",
    "    # Return the dictionaries containing data for different batch sizes\n",
    "    return X_train_scaled_dict, X_val_scaled_dict, y_train_dict, y_val_dict\n",
    "\n",
    "set_seed(SEED)  # Set a specific random seed for reproducibility\n",
    "batch_sizes = [128, 256, 512, 1024]  # List of batch sizes to generate folds for\n",
    "X_train_scaled_dict, X_val_scaled_dict, y_train_dict, y_val_dict = generate_cv_folds_for_batch_sizes(batch_sizes, X_train.to_numpy(), y_train)\n"
   ]
  },
  {
   "cell_type": "code",
   "execution_count": 4,
   "id": "235ca332-9676-42bd-9801-0f5f4157a777",
   "metadata": {
    "deletable": false,
    "editable": false,
    "id": "235ca332-9676-42bd-9801-0f5f4157a777",
    "nbgrader": {
     "cell_type": "code",
     "checksum": "4ae5f281cd84f4d36f81f2ae126cf915",
     "grade": true,
     "grade_id": "correct_dataset",
     "locked": true,
     "points": 1,
     "schema_version": 3,
     "solution": false,
     "task": false
    },
    "tags": []
   },
   "outputs": [],
   "source": [
    "# Dictionaries to hold the DataLoaders for training and validation datasets for each batch size.\n",
    "set_seed(SEED)\n",
    "train_loaders_dict = {}\n",
    "val_loaders_dict = {}\n",
    "\n",
    "# Loop through each batch size we're considering\n",
    "for batch_size in batch_sizes:\n",
    "    \n",
    "    # Lists to store DataLoaders for the current batch size for each of the 5 folds\n",
    "    train_loaders = []\n",
    "    val_loaders = []\n",
    "\n",
    "    # Loop through each fold (0 through 4 for 5-fold CV)\n",
    "    for i in range(5):\n",
    "        \n",
    "        # Create a PyTorch Dataset for the training data for the current fold. The CustomDataset will convert our data into a format that PyTorch can work with.\n",
    "        train_dataset = CustomDataset(X_train_scaled_dict[batch_size][i], y_train_dict[batch_size][i])\n",
    "        \n",
    "        # Similarly, create a PyTorch Dataset for the validation data for the current fold.\n",
    "        val_dataset = CustomDataset(X_val_scaled_dict[batch_size][i], y_val_dict[batch_size][i])\n",
    "\n",
    "        # Create a DataLoader for the training dataset. This DataLoader will allow us to efficiently iterate over data in mini-batches of size 'batch_size'.\n",
    "        # We shuffle the training data to ensure the order is different each epoch.\n",
    "        train_loader = DataLoader(train_dataset, batch_size=batch_size, shuffle=True)\n",
    "        \n",
    "        # Create a DataLoader for the validation dataset. There's no need to shuffle validation data as we typically just evaluate performance on it.\n",
    "        val_loader = DataLoader(val_dataset, batch_size=batch_size, shuffle=False)\n",
    "        \n",
    "        # Append the created DataLoaders to our lists.\n",
    "        train_loaders.append(train_loader)\n",
    "        val_loaders.append(val_loader)\n",
    "\n",
    "    # Store the lists of DataLoaders in our dictionaries with the current batch size as the key. This way, when we need to access the DataLoader for a specific fold and batch size, we can easily retrieve it.\n",
    "    train_loaders_dict[batch_size] = train_loaders\n",
    "    val_loaders_dict[batch_size] = val_loaders"
   ]
  },
  {
   "cell_type": "code",
   "execution_count": null,
   "id": "8df744af-f485-4871-9e0a-70fd41d1df4d",
   "metadata": {
    "deletable": false,
    "editable": false,
    "id": "8df744af-f485-4871-9e0a-70fd41d1df4d",
    "nbgrader": {
     "cell_type": "code",
     "checksum": "4dcf6be1ad49306172e6f27243e613f2",
     "grade": true,
     "grade_id": "correct_dataset2",
     "locked": true,
     "points": 1,
     "schema_version": 3,
     "solution": false,
     "task": false
    },
    "tags": []
   },
   "outputs": [],
   "source": []
  },
  {
   "cell_type": "markdown",
   "id": "558aa470-6d7e-454c-9cda-9ad881d58c53",
   "metadata": {
    "deletable": false,
    "editable": false,
    "id": "558aa470-6d7e-454c-9cda-9ad881d58c53",
    "nbgrader": {
     "cell_type": "markdown",
     "checksum": "064d68c9708b5e3f1e2463001b6d78b4",
     "grade": false,
     "grade_id": "a2_1_4",
     "locked": true,
     "schema_version": 3,
     "solution": false,
     "task": false
    },
    "tags": []
   },
   "source": [
    "4. Perform hyperparameter tuning for the different batch sizes with 5-fold cross validation."
   ]
  },
  {
   "cell_type": "code",
   "execution_count": 5,
   "id": "a489ddf2",
   "metadata": {},
   "outputs": [
    {
     "name": "stdout",
     "output_type": "stream",
     "text": [
      "========== Starting with batch_size: 128 ==========\n"
     ]
    },
    {
     "name": "stderr",
     "output_type": "stream",
     "text": [
      " 17%|█▋        | 17/100 [00:06<00:33,  2.49it/s]\n"
     ]
    },
    {
     "name": "stdout",
     "output_type": "stream",
     "text": [
      "Early stopping at epoch 18 during fold 1\n",
      "Fold 1 Last Epoch - Accuracy: 0.7115, Time: 0.3646 seconds\n"
     ]
    },
    {
     "name": "stderr",
     "output_type": "stream",
     "text": [
      " 29%|██▉       | 29/100 [00:14<00:36,  1.96it/s]\n"
     ]
    },
    {
     "name": "stdout",
     "output_type": "stream",
     "text": [
      "Early stopping at epoch 30 during fold 2\n",
      "Fold 2 Last Epoch - Accuracy: 0.7488, Time: 0.5045 seconds\n"
     ]
    },
    {
     "name": "stderr",
     "output_type": "stream",
     "text": [
      " 17%|█▋        | 17/100 [00:08<00:42,  1.95it/s]\n"
     ]
    },
    {
     "name": "stdout",
     "output_type": "stream",
     "text": [
      "Early stopping at epoch 18 during fold 3\n",
      "Fold 3 Last Epoch - Accuracy: 0.6943, Time: 0.3 seconds\n"
     ]
    },
    {
     "name": "stderr",
     "output_type": "stream",
     "text": [
      " 24%|██▍       | 24/100 [00:09<00:31,  2.40it/s]\n"
     ]
    },
    {
     "name": "stdout",
     "output_type": "stream",
     "text": [
      "Early stopping at epoch 25 during fold 4\n",
      "Fold 4 Last Epoch - Accuracy: 0.7316, Time: 0.5443 seconds\n"
     ]
    },
    {
     "name": "stderr",
     "output_type": "stream",
     "text": [
      " 18%|█▊        | 18/100 [00:06<00:31,  2.58it/s]\n"
     ]
    },
    {
     "name": "stdout",
     "output_type": "stream",
     "text": [
      "Early stopping at epoch 19 during fold 5\n",
      "Fold 5 Last Epoch - Accuracy: 0.7172, Time: 0.312 seconds\n",
      "\n",
      "Batch size 128's Last Epoch - Mean Accuracy: 0.7207, Mean Time: 0.4051 seconds\n",
      "\n",
      "========== Starting with batch_size: 256 ==========\n"
     ]
    },
    {
     "name": "stderr",
     "output_type": "stream",
     "text": [
      " 27%|██▋       | 27/100 [00:07<00:19,  3.71it/s]\n"
     ]
    },
    {
     "name": "stdout",
     "output_type": "stream",
     "text": [
      "Early stopping at epoch 28 during fold 1\n",
      "Fold 1 Last Epoch - Accuracy: 0.7393, Time: 0.3703 seconds\n"
     ]
    },
    {
     "name": "stderr",
     "output_type": "stream",
     "text": [
      " 38%|███▊      | 38/100 [00:09<00:16,  3.87it/s]\n"
     ]
    },
    {
     "name": "stdout",
     "output_type": "stream",
     "text": [
      "Early stopping at epoch 39 during fold 2\n",
      "Fold 2 Last Epoch - Accuracy: 0.7553, Time: 0.2324 seconds\n"
     ]
    },
    {
     "name": "stderr",
     "output_type": "stream",
     "text": [
      " 33%|███▎      | 33/100 [00:08<00:17,  3.90it/s]\n"
     ]
    },
    {
     "name": "stdout",
     "output_type": "stream",
     "text": [
      "Early stopping at epoch 34 during fold 3\n",
      "Fold 3 Last Epoch - Accuracy: 0.7453, Time: 0.2238 seconds\n"
     ]
    },
    {
     "name": "stderr",
     "output_type": "stream",
     "text": [
      " 24%|██▍       | 24/100 [00:06<00:19,  3.89it/s]\n"
     ]
    },
    {
     "name": "stdout",
     "output_type": "stream",
     "text": [
      "Early stopping at epoch 25 during fold 4\n",
      "Fold 4 Last Epoch - Accuracy: 0.7073, Time: 0.3654 seconds\n"
     ]
    },
    {
     "name": "stderr",
     "output_type": "stream",
     "text": [
      " 29%|██▉       | 29/100 [00:07<00:18,  3.91it/s]\n"
     ]
    },
    {
     "name": "stdout",
     "output_type": "stream",
     "text": [
      "Early stopping at epoch 30 during fold 5\n",
      "Fold 5 Last Epoch - Accuracy: 0.7463, Time: 0.2199 seconds\n",
      "\n",
      "Batch size 256's Last Epoch - Mean Accuracy: 0.7387, Mean Time: 0.2824 seconds\n",
      "\n",
      "========== Starting with batch_size: 512 ==========\n"
     ]
    },
    {
     "name": "stderr",
     "output_type": "stream",
     "text": [
      " 29%|██▉       | 29/100 [00:05<00:14,  4.96it/s]\n"
     ]
    },
    {
     "name": "stdout",
     "output_type": "stream",
     "text": [
      "Early stopping at epoch 30 during fold 1\n",
      "Fold 1 Last Epoch - Accuracy: 0.7002, Time: 0.1943 seconds\n"
     ]
    },
    {
     "name": "stderr",
     "output_type": "stream",
     "text": [
      " 32%|███▏      | 32/100 [00:06<00:13,  4.90it/s]\n"
     ]
    },
    {
     "name": "stdout",
     "output_type": "stream",
     "text": [
      "Early stopping at epoch 33 during fold 2\n",
      "Fold 2 Last Epoch - Accuracy: 0.7305, Time: 0.1919 seconds\n"
     ]
    },
    {
     "name": "stderr",
     "output_type": "stream",
     "text": [
      " 27%|██▋       | 27/100 [00:05<00:14,  5.02it/s]\n"
     ]
    },
    {
     "name": "stdout",
     "output_type": "stream",
     "text": [
      "Early stopping at epoch 28 during fold 3\n",
      "Fold 3 Last Epoch - Accuracy: 0.7073, Time: 0.1784 seconds\n"
     ]
    },
    {
     "name": "stderr",
     "output_type": "stream",
     "text": [
      " 27%|██▋       | 27/100 [00:05<00:15,  4.63it/s]\n"
     ]
    },
    {
     "name": "stdout",
     "output_type": "stream",
     "text": [
      "Early stopping at epoch 28 during fold 4\n",
      "Fold 4 Last Epoch - Accuracy: 0.7073, Time: 0.2571 seconds\n"
     ]
    },
    {
     "name": "stderr",
     "output_type": "stream",
     "text": [
      " 31%|███       | 31/100 [00:08<00:18,  3.72it/s]\n"
     ]
    },
    {
     "name": "stdout",
     "output_type": "stream",
     "text": [
      "Early stopping at epoch 32 during fold 5\n",
      "Fold 5 Last Epoch - Accuracy: 0.7267, Time: 0.2576 seconds\n",
      "\n",
      "Batch size 512's Last Epoch - Mean Accuracy: 0.7144, Mean Time: 0.2159 seconds\n",
      "\n",
      "========== Starting with batch_size: 1024 ==========\n"
     ]
    },
    {
     "name": "stderr",
     "output_type": "stream",
     "text": [
      " 35%|███▌      | 35/100 [00:08<00:15,  4.11it/s]\n"
     ]
    },
    {
     "name": "stdout",
     "output_type": "stream",
     "text": [
      "Early stopping at epoch 36 during fold 1\n",
      "Fold 1 Last Epoch - Accuracy: 0.7257, Time: 0.1927 seconds\n"
     ]
    },
    {
     "name": "stderr",
     "output_type": "stream",
     "text": [
      " 29%|██▉       | 29/100 [00:05<00:14,  4.99it/s]\n"
     ]
    },
    {
     "name": "stdout",
     "output_type": "stream",
     "text": [
      "Early stopping at epoch 30 during fold 2\n",
      "Fold 2 Last Epoch - Accuracy: 0.6949, Time: 0.2013 seconds\n"
     ]
    },
    {
     "name": "stderr",
     "output_type": "stream",
     "text": [
      " 41%|████      | 41/100 [00:09<00:13,  4.29it/s]\n"
     ]
    },
    {
     "name": "stdout",
     "output_type": "stream",
     "text": [
      "Early stopping at epoch 42 during fold 3\n",
      "Fold 3 Last Epoch - Accuracy: 0.7263, Time: 0.245 seconds\n"
     ]
    },
    {
     "name": "stderr",
     "output_type": "stream",
     "text": [
      " 40%|████      | 40/100 [00:08<00:12,  4.64it/s]\n"
     ]
    },
    {
     "name": "stdout",
     "output_type": "stream",
     "text": [
      "Early stopping at epoch 41 during fold 4\n",
      "Fold 4 Last Epoch - Accuracy: 0.7133, Time: 0.1645 seconds\n"
     ]
    },
    {
     "name": "stderr",
     "output_type": "stream",
     "text": [
      " 36%|███▌      | 36/100 [00:06<00:12,  5.29it/s]"
     ]
    },
    {
     "name": "stdout",
     "output_type": "stream",
     "text": [
      "Early stopping at epoch 37 during fold 5\n",
      "Fold 5 Last Epoch - Accuracy: 0.7244, Time: 0.166 seconds\n",
      "\n",
      "Batch size 1024's Last Epoch - Mean Accuracy: 0.7169, Mean Time: 0.1939 seconds\n",
      "\n",
      "Mean Cross-Validation Accuracy On Final Epoch Against Different Batch Sizes:\n",
      "\n"
     ]
    },
    {
     "name": "stderr",
     "output_type": "stream",
     "text": [
      "\n"
     ]
    },
    {
     "data": {
      "text/html": [
       "<div>\n",
       "<style scoped>\n",
       "    .dataframe tbody tr th:only-of-type {\n",
       "        vertical-align: middle;\n",
       "    }\n",
       "\n",
       "    .dataframe tbody tr th {\n",
       "        vertical-align: top;\n",
       "    }\n",
       "\n",
       "    .dataframe thead th {\n",
       "        text-align: right;\n",
       "    }\n",
       "</style>\n",
       "<table border=\"1\" class=\"dataframe\">\n",
       "  <thead>\n",
       "    <tr style=\"text-align: right;\">\n",
       "      <th></th>\n",
       "      <th>Batch Size</th>\n",
       "      <th>Mean Cross-Validation Accuracy On Final Epoch</th>\n",
       "    </tr>\n",
       "  </thead>\n",
       "  <tbody>\n",
       "    <tr>\n",
       "      <th>0</th>\n",
       "      <td>128</td>\n",
       "      <td>0.7207</td>\n",
       "    </tr>\n",
       "    <tr>\n",
       "      <th>1</th>\n",
       "      <td>256</td>\n",
       "      <td>0.7387</td>\n",
       "    </tr>\n",
       "    <tr>\n",
       "      <th>2</th>\n",
       "      <td>512</td>\n",
       "      <td>0.7144</td>\n",
       "    </tr>\n",
       "    <tr>\n",
       "      <th>3</th>\n",
       "      <td>1024</td>\n",
       "      <td>0.7169</td>\n",
       "    </tr>\n",
       "  </tbody>\n",
       "</table>\n",
       "</div>"
      ],
      "text/plain": [
       "   Batch Size  Mean Cross-Validation Accuracy On Final Epoch\n",
       "0         128                                         0.7207\n",
       "1         256                                         0.7387\n",
       "2         512                                         0.7144\n",
       "3        1024                                         0.7169"
      ]
     },
     "metadata": {},
     "output_type": "display_data"
    }
   ],
   "source": [
    "def find_optimal_hyperparameter(X_train_scaled_dict, X_val_scaled_dict, y_train_dict, y_val_dict, batch_sizes, hyperparameter_name):\n",
    "    \n",
    "    # Initialize dictionaries to store results\n",
    "    cross_validation_accuracies = {size: [] for size in batch_sizes}\n",
    "    cross_validation_times = {size: [] for size in batch_sizes}\n",
    "    \n",
    "    # Define the loss function for training\n",
    "    loss_function = loss_fn\n",
    "    \n",
    "    # Get the number of input features from the first batch of the first fold\n",
    "    no_features = X_train_scaled_dict[batch_sizes[0]][0].shape[1]\n",
    "    \n",
    "    # Define the number of hidden units in the neural network\n",
    "    no_hidden = 128\n",
    "    \n",
    "    # Define the number of output labels (binary classification)\n",
    "    no_labels = 1\n",
    "    \n",
    "    # Define other hyperparameters\n",
    "    num_folds = 5\n",
    "    num_epochs = 100\n",
    "    learning_rate = 0.001\n",
    "    \n",
    "    # Iterate through each batch size\n",
    "    for batch_size in batch_sizes:\n",
    "        print(f\"========== Starting with {hyperparameter_name}: {batch_size} ==========\")\n",
    "        \n",
    "        # Iterate through each fold (5-fold cross-validation)\n",
    "        for i in range(num_folds):\n",
    "            \n",
    "            # Create a neural network model\n",
    "            model = MLP(no_features, no_hidden, no_labels)\n",
    "            \n",
    "            # Define the optimizer with a specified learning rate\n",
    "            optimizer = torch.optim.Adam(model.parameters(), lr=learning_rate)\n",
    "            \n",
    "            # Get the training and validation data loaders for the current batch size and fold\n",
    "            train_loader = train_loaders_dict[batch_size][i]\n",
    "            val_loader = val_loaders_dict[batch_size][i]\n",
    "            \n",
    "            # Initialize an EarlyStopper object to monitor early stopping\n",
    "            early_stopper = EarlyStopper(patience=3)\n",
    "            \n",
    "            # Loop through the specified number of training epochs\n",
    "            for epoch in tqdm(range(num_epochs)):\n",
    "                start_time = time.time()\n",
    "                \n",
    "                # Train the model for one epoch and compute the training loss\n",
    "                train_loss = train_one_epoch(model, train_loader, optimizer, loss_function)\n",
    "                \n",
    "                # Evaluate the model on the validation set and compute accuracy AND loss\n",
    "                val_accuracy, val_loss = evaluate_model(model, val_loader, loss_function)\n",
    "                \n",
    "                # Calculate the time taken for this epoch\n",
    "                end_time = time.time()\n",
    "                last_epoch_time = end_time - start_time\n",
    "                \n",
    "                # Check for early stopping based on validation loss\n",
    "                if early_stopper.early_stop(val_loss):\n",
    "                    print(f\"Early stopping at epoch {epoch + 1} during fold {i + 1}\")\n",
    "                    break\n",
    "\n",
    "            \n",
    "            # Store the time taken for the last epoch for this fold\n",
    "            cross_validation_times[batch_size].append(last_epoch_time)\n",
    "            \n",
    "            # Store the validation accuracy for this fold\n",
    "            cross_validation_accuracies[batch_size].append(val_accuracy)\n",
    "            \n",
    "            # Print the results for this fold\n",
    "            print(f\"Fold {i + 1} Last Epoch - Accuracy: {round(val_accuracy,4)}, Time: {round(last_epoch_time,4)} seconds\")\n",
    "        \n",
    "        print()\n",
    "        # Calculate and print the mean cross-validation accuracy + mean time taken for last epoch for this batch size\n",
    "        mean_accuracy = sum(cross_validation_accuracies[batch_size]) / len(cross_validation_accuracies[batch_size])\n",
    "        mean_time = sum(cross_validation_times[batch_size]) / len(cross_validation_times[batch_size])\n",
    "        print(f\"Batch size {batch_size}'s Last Epoch - Mean Accuracy: {round(mean_accuracy,4)}, Mean Time: {round(mean_time,4)} seconds\")\n",
    "        print()\n",
    "        \n",
    "    return cross_validation_accuracies, cross_validation_times\n",
    "\n",
    "set_seed(SEED)\n",
    "\n",
    "batch_sizes = [128, 256, 512, 1024]\n",
    "cross_validation_accuracies, cross_validation_times = find_optimal_hyperparameter(X_train_scaled_dict, X_val_scaled_dict, y_train_dict, y_val_dict, batch_sizes, 'batch_size')\n",
    "\n",
    "# Prepare for plotting\n",
    "batch_sizes_list = list(cross_validation_accuracies.keys())\n",
    "mean_cv_accuracies = [round(sum(cross_validation_accuracies[batch_size]) / len(cross_validation_accuracies[batch_size]),4) for batch_size in batch_sizes_list]\n",
    "\n",
    "# Create a dataframe for mean cross validation accuracies against batch sizes\n",
    "cv_accuracies_df = pd.DataFrame({\n",
    "    'Batch Size': batch_sizes_list,\n",
    "    'Mean Cross-Validation Accuracy On Final Epoch': mean_cv_accuracies\n",
    "})\n",
    "\n",
    "print(\"Mean Cross-Validation Accuracy On Final Epoch Against Different Batch Sizes:\")\n",
    "print()\n",
    "display(cv_accuracies_df)\n"
   ]
  },
  {
   "cell_type": "markdown",
   "id": "b6756ab6-92e0-4a5e-b4b9-aebe009f5480",
   "metadata": {
    "deletable": false,
    "editable": false,
    "id": "b6756ab6-92e0-4a5e-b4b9-aebe009f5480",
    "nbgrader": {
     "cell_type": "markdown",
     "checksum": "69421943e22521de848bb03a50f57767",
     "grade": false,
     "grade_id": "a2_1_5",
     "locked": true,
     "schema_version": 3,
     "solution": false,
     "task": false
    },
    "tags": []
   },
   "source": [
    "5. Plot scatterplot of mean cross validation accuracies for the different batch sizes."
   ]
  },
  {
   "cell_type": "code",
   "execution_count": 6,
   "id": "791417a2",
   "metadata": {},
   "outputs": [
    {
     "data": {
      "image/png": "[encoded data removed]",
      "text/plain": [
       "<Figure size 640x480 with 1 Axes>"
      ]
     },
     "metadata": {},
     "output_type": "display_data"
    }
   ],
   "source": [
    "# Plot mean cross-validation accuracies on the final epoch for different batch sizes\n",
    "plt.scatter(batch_sizes_list, mean_cv_accuracies, marker='x')\n",
    "plt.xlabel('Batch Sizes')\n",
    "plt.ylabel('Mean Cross-Validation Accuracy')\n",
    "plt.title('Mean Cross-Validation Accuracy On Final Epoch vs Batch Size')\n",
    "plt.xticks(batch_sizes_list)\n",
    "\n",
    "# Add labels to each data point\n",
    "for i, txt in enumerate(mean_cv_accuracies):\n",
    "    if i == 2 or i == 3:\n",
    "        plt.text(batch_sizes_list[i] - 10, mean_cv_accuracies[i] + 0.0012, round(txt, 4), ha='center')  \n",
    "    else:\n",
    "        plt.text(batch_sizes_list[i] + 10, mean_cv_accuracies[i] - 0.0012, round(txt, 4), ha='center')\n",
    "plt.show()"
   ]
  },
  {
   "cell_type": "markdown",
   "id": "baab6e4d-4e8b-4358-a68d-682f60db4a06",
   "metadata": {
    "deletable": false,
    "editable": false,
    "id": "baab6e4d-4e8b-4358-a68d-682f60db4a06",
    "nbgrader": {
     "cell_type": "markdown",
     "checksum": "11e8d298b5774c4044f1c3f950c46214",
     "grade": false,
     "grade_id": "a2_1_6",
     "locked": true,
     "schema_version": 3,
     "solution": false,
     "task": false
    },
    "tags": []
   },
   "source": [
    "6. Create a table of time taken to train the network on the last epoch against different batch sizes. Select the optimal batch size and state a reason for your selection."
   ]
  },
  {
   "cell_type": "code",
   "execution_count": 7,
   "id": "80f305ab",
   "metadata": {},
   "outputs": [
    {
     "name": "stdout",
     "output_type": "stream",
     "text": [
      "Mean Time Taken to Train the Network on the Last Epoch Across 5 Folds Against Different Batch Sizes:\n",
      "\n"
     ]
    },
    {
     "data": {
      "text/html": [
       "<div>\n",
       "<style scoped>\n",
       "    .dataframe tbody tr th:only-of-type {\n",
       "        vertical-align: middle;\n",
       "    }\n",
       "\n",
       "    .dataframe tbody tr th {\n",
       "        vertical-align: top;\n",
       "    }\n",
       "\n",
       "    .dataframe thead th {\n",
       "        text-align: right;\n",
       "    }\n",
       "</style>\n",
       "<table border=\"1\" class=\"dataframe\">\n",
       "  <thead>\n",
       "    <tr style=\"text-align: right;\">\n",
       "      <th></th>\n",
       "      <th>Batch Size</th>\n",
       "      <th>Mean Time Taken for Last Epoch Across 5 Folds (seconds)</th>\n",
       "    </tr>\n",
       "  </thead>\n",
       "  <tbody>\n",
       "    <tr>\n",
       "      <th>0</th>\n",
       "      <td>128</td>\n",
       "      <td>0.4051</td>\n",
       "    </tr>\n",
       "    <tr>\n",
       "      <th>1</th>\n",
       "      <td>256</td>\n",
       "      <td>0.2824</td>\n",
       "    </tr>\n",
       "    <tr>\n",
       "      <th>2</th>\n",
       "      <td>512</td>\n",
       "      <td>0.2159</td>\n",
       "    </tr>\n",
       "    <tr>\n",
       "      <th>3</th>\n",
       "      <td>1024</td>\n",
       "      <td>0.1939</td>\n",
       "    </tr>\n",
       "  </tbody>\n",
       "</table>\n",
       "</div>"
      ],
      "text/plain": [
       "   Batch Size  Mean Time Taken for Last Epoch Across 5 Folds (seconds)\n",
       "0         128                                             0.4051      \n",
       "1         256                                             0.2824      \n",
       "2         512                                             0.2159      \n",
       "3        1024                                             0.1939      "
      ]
     },
     "metadata": {},
     "output_type": "display_data"
    }
   ],
   "source": [
    "# Please note that the next time you run this notebook cell, the results will be different as time taken depends on CPU speed and other factors.\n",
    "\n",
    "# Calculate mean time for the last epoch for each batch size\n",
    "mean_last_epoch_times_list = [round(sum(cross_validation_times[batch_size]) / len(cross_validation_times[batch_size]),4) for batch_size in batch_sizes_list]\n",
    "\n",
    "# Create a table of time taken to train the network on the last epoch against different batch sizes\n",
    "time_df = pd.DataFrame({\n",
    "    'Batch Size': batch_sizes_list,\n",
    "    'Mean Time Taken for Last Epoch Across 5 Folds (seconds)': mean_last_epoch_times_list\n",
    "})\n",
    "\n",
    "print(\"Mean Time Taken to Train the Network on the Last Epoch Across 5 Folds Against Different Batch Sizes:\")\n",
    "print()\n",
    "display(time_df)\n"
   ]
  },
  {
   "cell_type": "code",
   "execution_count": null,
   "id": "c5b93a62",
   "metadata": {},
   "outputs": [],
   "source": []
  },
  {
   "cell_type": "code",
   "execution_count": 8,
   "id": "d46dfd1c-1d3c-46e4-98d6-21c2672ad31b",
   "metadata": {
    "deletable": false,
    "id": "d46dfd1c-1d3c-46e4-98d6-21c2672ad31b",
    "nbgrader": {
     "cell_type": "code",
     "checksum": "38690f32ec506325fc73c8353b77d041",
     "grade": false,
     "grade_id": "batch_size",
     "locked": false,
     "schema_version": 3,
     "solution": true,
     "task": false
    },
    "tags": []
   },
   "outputs": [
    {
     "name": "stdout",
     "output_type": "stream",
     "text": [
      "Optimal batch size: 256\n",
      "\n",
      "Reason: \n",
      "\n",
      "Given the balance of accuracy and speed, the Batch Size of 256 emerges as the optimal choice.\n",
      "\n",
      "Selection of Optimal Batch Size:\n",
      "\n",
      "    • Selecting the appropriate batch size is a crucial step in the optimization of neural networks. The goal is to find an equilibrium that harmonizes both computational efficiency \n",
      "    and model accuracy. Intuitively, as batch size increases, training tends to be swifter due to enhanced parallelism and optimized matrix operations, resulting in a higher throughput \n",
      "    of computations. However, excessively large batch sizes may reduce the stochastic nature of gradient descent, potentially leading to a compromise in accuracy as we can see in the \n",
      "    results above. Additionally, it is also important to note that the trends are not definitive for the entire dataset as we are only calculating the mean values of the last epoch over the 5 folds\n",
      "    for each batch size. Thus, the results may vary if we take the mean values of all the epochs instead.\n",
      "\n",
      "From the data:\n",
      "\n",
      "    • Batch Size of 128: This size is the second most accurate, coming in at 0.7207. However, this heightened accuracy comes at the cost of time, as it is much slower relative to \n",
      "    the batch size of 256, taking about 0.4051 seconds.\n",
      "\n",
      "    • Batch Size of 256: Presents itself as the optimal choice. Its accuracy is the highest at 0.7387 by quite a large margin. Moreover, its efficiency shines through, clocking in a time of \n",
      "    0.2824 seconds. It offers the best trade-off between performance and speed.\n",
      "\n",
      "    • Batch Sizes of 512 and 1024: As the batch sizes increase, we note a clear decline in accuracy. Although the batch size of 512 is faster than the first two at 0.2159 seconds, its \n",
      "    accuracy drops to 0.7144. Similarly, a batch size of 1024 is the fastest but has a lower accuracy of 0.7169 compared to a batch size of 256.\n",
      "\n",
      "Conclusion:\n",
      "\n",
      "    • While the batch size of 128 has a competitive accuracy, the performance of 256 with a higher accuracy and reasonable computation time stands out. The difference in accuracy \n",
      "    between 128 and 256 is quite large and the increase in efficiency with 256 is significant. Furthermore, as we increase the batch size beyond this point, the reductions in time do not \n",
      "    compensate for the drops in accuracy, particularly at 512 and 1024. Thus, the batch size of 256 provides the most balanced outcome in the context of our data, combining \n",
      "    together swift training with robust performance.\n",
      "\n"
     ]
    }
   ],
   "source": [
    "# YOUR CODE HERE\n",
    "optimal_batch_size = 256\n",
    "reason = '''\n",
    "\n",
    "Given the balance of accuracy and speed, the Batch Size of 256 emerges as the optimal choice.\n",
    "\n",
    "Selection of Optimal Batch Size:\n",
    "\n",
    "    • Selecting the appropriate batch size is a crucial step in the optimization of neural networks. The goal is to find an equilibrium that harmonizes both computational efficiency \n",
    "    and model accuracy. Intuitively, as batch size increases, training tends to be swifter due to enhanced parallelism and optimized matrix operations, resulting in a higher throughput \n",
    "    of computations. However, excessively large batch sizes may reduce the stochastic nature of gradient descent, potentially leading to a compromise in accuracy as we can see in the \n",
    "    results above. Additionally, it is also important to note that the trends are not definitive for the entire dataset as we are only calculating the mean values of the last epoch over the 5 folds\n",
    "    for each batch size. Thus, the results may vary if we take the mean values of all the epochs instead.\n",
    "\n",
    "From the data:\n",
    "\n",
    "    • Batch Size of 128: This size is the second most accurate, coming in at 0.7207. However, this heightened accuracy comes at the cost of time, as it is much slower relative to \n",
    "    the batch size of 256, taking about 0.4051 seconds.\n",
    "\n",
    "    • Batch Size of 256: Presents itself as the optimal choice. Its accuracy is the highest at 0.7387 by quite a large margin. Moreover, its efficiency shines through, clocking in a time of \n",
    "    0.2824 seconds. It offers the best trade-off between performance and speed.\n",
    "\n",
    "    • Batch Sizes of 512 and 1024: As the batch sizes increase, we note a clear decline in accuracy. Although the batch size of 512 is faster than the first two at 0.2159 seconds, its \n",
    "    accuracy drops to 0.7144. Similarly, a batch size of 1024 is the fastest but has a lower accuracy of 0.7169 compared to a batch size of 256.\n",
    "\n",
    "Conclusion:\n",
    "\n",
    "    • While the batch size of 128 has a competitive accuracy, the performance of 256 with a higher accuracy and reasonable computation time stands out. The difference in accuracy \n",
    "    between 128 and 256 is quite large and the increase in efficiency with 256 is significant. Furthermore, as we increase the batch size beyond this point, the reductions in time do not \n",
    "    compensate for the drops in accuracy, particularly at 512 and 1024. Thus, the batch size of 256 provides the most balanced outcome in the context of our data, combining \n",
    "    together swift training with robust performance.\n",
    "'''\n",
    "\n",
    "print(f\"Optimal batch size: {optimal_batch_size}\")\n",
    "print()\n",
    "print(f\"Reason: {reason}\")\n"
   ]
  },
  {
   "cell_type": "code",
   "execution_count": null,
   "id": "78876fc1",
   "metadata": {},
   "outputs": [],
   "source": []
  }
 ],
 "metadata": {
  "colab": {
   "provenance": []
  },
  "kernelspec": {
   "display_name": "Python 3 (ipykernel)",
   "language": "python",
   "name": "python3"
  },
  "language_info": {
   "codemirror_mode": {
    "name": "ipython",
    "version": 3
   },
   "file_extension": ".py",
   "mimetype": "text/x-python",
   "name": "python",
   "nbconvert_exporter": "python",
   "pygments_lexer": "ipython3",
   "version": "3.11.4"
  }
 },
 "nbformat": 4,
 "nbformat_minor": 5
}
