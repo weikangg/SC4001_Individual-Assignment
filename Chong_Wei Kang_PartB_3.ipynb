{
 "cells": [
  {
   "cell_type": "markdown",
   "metadata": {
    "id": "XDDK5s1_mFRg"
   },
   "source": [
    "CS4001/4042 Assignment 1, Part B, Q3\n",
    "---\n",
    "\n",
    "Besides ensuring that your neural network performs well, it is important to be able to explain the model’s decision. **Captum** is a very handy library that helps you to do so for PyTorch models.\n",
    "\n",
    "Many model explainability algorithms for deep learning models are available in Captum. These algorithms are often used to generate an attribution score for each feature. Features with larger scores are more ‘important’ and some algorithms also provide information about directionality (i.e. a feature with very negative attribution scores means the larger the value of that feature, the lower the value of the output).\n",
    "\n",
    "In general, these algorithms can be grouped into two paradigms:\n",
    "- **perturbation based approaches** (e.g. Feature Ablation)\n",
    "- **gradient / backpropagation based approaches** (e.g. Saliency)\n",
    "\n",
    "The former adopts a brute-force approach of removing / permuting features one by one and does not scale up well. The latter depends on gradients and they can be computed relatively quickly. But unlike how backpropagation computes gradients with respect to weights, gradients here are computed **with respect to the input**. This gives us a sense of how much a change in the input affects the model’s outputs.\n",
    "\n"
   ]
  },
  {
   "cell_type": "markdown",
   "metadata": {
    "id": "o7WFI5tMpqGc"
   },
   "source": [
    "\n",
    "\n",
    "---\n",
    "\n",
    "\n",
    "\n",
    "---\n",
    "\n"
   ]
  },
  {
   "cell_type": "code",
   "execution_count": 1,
   "metadata": {
    "id": "mRCFpMEd3w8W"
   },
   "outputs": [
    {
     "name": "stdout",
     "output_type": "stream",
     "text": [
      "Requirement already satisfied: captum in c:\\users\\wei kang\\desktop\\individual assignment\\.venv\\lib\\site-packages (0.6.0)\n",
      "Requirement already satisfied: matplotlib in c:\\users\\wei kang\\desktop\\individual assignment\\.venv\\lib\\site-packages (from captum) (3.8.0)\n",
      "Requirement already satisfied: numpy in c:\\users\\wei kang\\desktop\\individual assignment\\.venv\\lib\\site-packages (from captum) (1.24.4)\n",
      "Requirement already satisfied: torch>=1.6 in c:\\users\\wei kang\\desktop\\individual assignment\\.venv\\lib\\site-packages (from captum) (2.0.1)\n",
      "Requirement already satisfied: filelock in c:\\users\\wei kang\\desktop\\individual assignment\\.venv\\lib\\site-packages (from torch>=1.6->captum) (3.12.4)\n",
      "Requirement already satisfied: typing-extensions in c:\\users\\wei kang\\desktop\\individual assignment\\.venv\\lib\\site-packages (from torch>=1.6->captum) (4.8.0)\n",
      "Requirement already satisfied: sympy in c:\\users\\wei kang\\desktop\\individual assignment\\.venv\\lib\\site-packages (from torch>=1.6->captum) (1.12)\n",
      "Requirement already satisfied: networkx in c:\\users\\wei kang\\desktop\\individual assignment\\.venv\\lib\\site-packages (from torch>=1.6->captum) (3.1)\n",
      "Requirement already satisfied: jinja2 in c:\\users\\wei kang\\desktop\\individual assignment\\.venv\\lib\\site-packages (from torch>=1.6->captum) (3.1.2)\n",
      "Requirement already satisfied: contourpy>=1.0.1 in c:\\users\\wei kang\\desktop\\individual assignment\\.venv\\lib\\site-packages (from matplotlib->captum) (1.1.1)\n",
      "Requirement already satisfied: cycler>=0.10 in c:\\users\\wei kang\\desktop\\individual assignment\\.venv\\lib\\site-packages (from matplotlib->captum) (0.11.0)\n",
      "Requirement already satisfied: fonttools>=4.22.0 in c:\\users\\wei kang\\desktop\\individual assignment\\.venv\\lib\\site-packages (from matplotlib->captum) (4.42.1)\n",
      "Requirement already satisfied: kiwisolver>=1.0.1 in c:\\users\\wei kang\\desktop\\individual assignment\\.venv\\lib\\site-packages (from matplotlib->captum) (1.4.5)\n",
      "Requirement already satisfied: packaging>=20.0 in c:\\users\\wei kang\\desktop\\individual assignment\\.venv\\lib\\site-packages (from matplotlib->captum) (23.1)\n",
      "Requirement already satisfied: pillow>=6.2.0 in c:\\users\\wei kang\\desktop\\individual assignment\\.venv\\lib\\site-packages (from matplotlib->captum) (9.5.0)\n",
      "Requirement already satisfied: pyparsing>=2.3.1 in c:\\users\\wei kang\\desktop\\individual assignment\\.venv\\lib\\site-packages (from matplotlib->captum) (3.1.1)\n",
      "Requirement already satisfied: python-dateutil>=2.7 in c:\\users\\wei kang\\desktop\\individual assignment\\.venv\\lib\\site-packages (from matplotlib->captum) (2.8.2)\n",
      "Requirement already satisfied: six>=1.5 in c:\\users\\wei kang\\desktop\\individual assignment\\.venv\\lib\\site-packages (from python-dateutil>=2.7->matplotlib->captum) (1.16.0)\n",
      "Requirement already satisfied: MarkupSafe>=2.0 in c:\\users\\wei kang\\desktop\\individual assignment\\.venv\\lib\\site-packages (from jinja2->torch>=1.6->captum) (2.1.3)\n",
      "Requirement already satisfied: mpmath>=0.19 in c:\\users\\wei kang\\desktop\\individual assignment\\.venv\\lib\\site-packages (from sympy->torch>=1.6->captum) (1.3.0)\n",
      "Note: you may need to restart the kernel to use updated packages.\n"
     ]
    }
   ],
   "source": [
    "%pip install captum"
   ]
  },
  {
   "cell_type": "code",
   "execution_count": 1,
   "metadata": {
    "id": "utC2haR03sQY"
   },
   "outputs": [],
   "source": [
    "SEED = 42\n",
    "\n",
    "import random\n",
    "random.seed(SEED)\n",
    "\n",
    "import numpy as np\n",
    "np.random.seed(SEED)\n",
    "\n",
    "import pandas as pd\n",
    "\n",
    "import torch\n",
    "import torch.nn as nn\n",
    "import torch.optim as optim\n",
    "torch.manual_seed(SEED)\n",
    "\n",
    "import warnings\n",
    "from tqdm import tqdm\n",
    "\n",
    "from sklearn.metrics import mean_squared_error, r2_score\n",
    "from sklearn.preprocessing import StandardScaler\n",
    "\n",
    "from common_utils import EarlyStopper\n",
    "\n",
    "import matplotlib.pyplot as plt\n",
    "\n",
    "from captum.attr import Saliency, InputXGradient, IntegratedGradients, GradientShap, FeatureAblation\n",
    "\n",
    "def set_seed(SEED=42):\n",
    "    random.seed(SEED)\n",
    "    np.random.seed(SEED)\n",
    "    torch.manual_seed(SEED)"
   ]
  },
  {
   "cell_type": "markdown",
   "metadata": {
    "id": "zUU-C3eRmWeE"
   },
   "source": [
    "> First, load the dataset following the splits in Question B1. To keep things simple, we will **limit our analysis to numeric / continuous features only**. Drop all categorical features from the dataframes. Do not standardise the numerical features for now.\n",
    "\n"
   ]
  },
  {
   "cell_type": "code",
   "execution_count": 2,
   "metadata": {
    "id": "FNtpumjamL1N"
   },
   "outputs": [
    {
     "name": "stdout",
     "output_type": "stream",
     "text": [
      "Unique years in train_df: 2017, 2018, 2019\n",
      "Unique years in validation_df: 2020\n",
      "Unique years in test_df: 2021\n"
     ]
    },
    {
     "data": {
      "text/html": [
       "<div>\n",
       "<style scoped>\n",
       "    .dataframe tbody tr th:only-of-type {\n",
       "        vertical-align: middle;\n",
       "    }\n",
       "\n",
       "    .dataframe tbody tr th {\n",
       "        vertical-align: top;\n",
       "    }\n",
       "\n",
       "    .dataframe thead th {\n",
       "        text-align: right;\n",
       "    }\n",
       "</style>\n",
       "<table border=\"1\" class=\"dataframe\">\n",
       "  <thead>\n",
       "    <tr style=\"text-align: right;\">\n",
       "      <th></th>\n",
       "      <th>dist_to_nearest_stn</th>\n",
       "      <th>dist_to_dhoby</th>\n",
       "      <th>degree_centrality</th>\n",
       "      <th>eigenvector_centrality</th>\n",
       "      <th>remaining_lease_years</th>\n",
       "      <th>floor_area_sqm</th>\n",
       "      <th>resale_price</th>\n",
       "    </tr>\n",
       "  </thead>\n",
       "  <tbody>\n",
       "    <tr>\n",
       "      <th>0</th>\n",
       "      <td>1.007264</td>\n",
       "      <td>7.006044</td>\n",
       "      <td>0.016807</td>\n",
       "      <td>0.006243</td>\n",
       "      <td>61.333333</td>\n",
       "      <td>44.0</td>\n",
       "      <td>232000.0</td>\n",
       "    </tr>\n",
       "    <tr>\n",
       "      <th>1</th>\n",
       "      <td>1.271389</td>\n",
       "      <td>7.983837</td>\n",
       "      <td>0.016807</td>\n",
       "      <td>0.006243</td>\n",
       "      <td>60.583333</td>\n",
       "      <td>67.0</td>\n",
       "      <td>250000.0</td>\n",
       "    </tr>\n",
       "    <tr>\n",
       "      <th>2</th>\n",
       "      <td>1.069743</td>\n",
       "      <td>9.090700</td>\n",
       "      <td>0.016807</td>\n",
       "      <td>0.002459</td>\n",
       "      <td>62.416667</td>\n",
       "      <td>67.0</td>\n",
       "      <td>262000.0</td>\n",
       "    </tr>\n",
       "    <tr>\n",
       "      <th>3</th>\n",
       "      <td>0.946890</td>\n",
       "      <td>7.519889</td>\n",
       "      <td>0.016807</td>\n",
       "      <td>0.006243</td>\n",
       "      <td>62.083333</td>\n",
       "      <td>68.0</td>\n",
       "      <td>265000.0</td>\n",
       "    </tr>\n",
       "    <tr>\n",
       "      <th>4</th>\n",
       "      <td>1.092551</td>\n",
       "      <td>9.130489</td>\n",
       "      <td>0.016807</td>\n",
       "      <td>0.002459</td>\n",
       "      <td>62.416667</td>\n",
       "      <td>67.0</td>\n",
       "      <td>265000.0</td>\n",
       "    </tr>\n",
       "  </tbody>\n",
       "</table>\n",
       "</div>"
      ],
      "text/plain": [
       "   dist_to_nearest_stn  dist_to_dhoby  degree_centrality  \\\n",
       "0             1.007264       7.006044           0.016807   \n",
       "1             1.271389       7.983837           0.016807   \n",
       "2             1.069743       9.090700           0.016807   \n",
       "3             0.946890       7.519889           0.016807   \n",
       "4             1.092551       9.130489           0.016807   \n",
       "\n",
       "   eigenvector_centrality  remaining_lease_years  floor_area_sqm  resale_price  \n",
       "0                0.006243              61.333333            44.0      232000.0  \n",
       "1                0.006243              60.583333            67.0      250000.0  \n",
       "2                0.002459              62.416667            67.0      262000.0  \n",
       "3                0.006243              62.083333            68.0      265000.0  \n",
       "4                0.002459              62.416667            67.0      265000.0  "
      ]
     },
     "metadata": {},
     "output_type": "display_data"
    },
    {
     "data": {
      "text/html": [
       "<div>\n",
       "<style scoped>\n",
       "    .dataframe tbody tr th:only-of-type {\n",
       "        vertical-align: middle;\n",
       "    }\n",
       "\n",
       "    .dataframe tbody tr th {\n",
       "        vertical-align: top;\n",
       "    }\n",
       "\n",
       "    .dataframe thead th {\n",
       "        text-align: right;\n",
       "    }\n",
       "</style>\n",
       "<table border=\"1\" class=\"dataframe\">\n",
       "  <thead>\n",
       "    <tr style=\"text-align: right;\">\n",
       "      <th></th>\n",
       "      <th>dist_to_nearest_stn</th>\n",
       "      <th>dist_to_dhoby</th>\n",
       "      <th>degree_centrality</th>\n",
       "      <th>eigenvector_centrality</th>\n",
       "      <th>remaining_lease_years</th>\n",
       "      <th>floor_area_sqm</th>\n",
       "      <th>resale_price</th>\n",
       "    </tr>\n",
       "  </thead>\n",
       "  <tbody>\n",
       "    <tr>\n",
       "      <th>64057</th>\n",
       "      <td>0.917344</td>\n",
       "      <td>7.336493</td>\n",
       "      <td>0.016807</td>\n",
       "      <td>0.006243</td>\n",
       "      <td>55.583333</td>\n",
       "      <td>73.0</td>\n",
       "      <td>265000.0</td>\n",
       "    </tr>\n",
       "    <tr>\n",
       "      <th>64058</th>\n",
       "      <td>0.696776</td>\n",
       "      <td>7.341622</td>\n",
       "      <td>0.016807</td>\n",
       "      <td>0.006243</td>\n",
       "      <td>91.666667</td>\n",
       "      <td>70.0</td>\n",
       "      <td>470000.0</td>\n",
       "    </tr>\n",
       "    <tr>\n",
       "      <th>64059</th>\n",
       "      <td>0.597608</td>\n",
       "      <td>7.292217</td>\n",
       "      <td>0.016807</td>\n",
       "      <td>0.006243</td>\n",
       "      <td>56.333333</td>\n",
       "      <td>73.0</td>\n",
       "      <td>230000.0</td>\n",
       "    </tr>\n",
       "    <tr>\n",
       "      <th>64060</th>\n",
       "      <td>0.994153</td>\n",
       "      <td>7.427003</td>\n",
       "      <td>0.016807</td>\n",
       "      <td>0.006243</td>\n",
       "      <td>55.250000</td>\n",
       "      <td>73.0</td>\n",
       "      <td>280000.0</td>\n",
       "    </tr>\n",
       "    <tr>\n",
       "      <th>64061</th>\n",
       "      <td>0.921541</td>\n",
       "      <td>8.163605</td>\n",
       "      <td>0.016807</td>\n",
       "      <td>0.006243</td>\n",
       "      <td>59.083333</td>\n",
       "      <td>68.0</td>\n",
       "      <td>220000.0</td>\n",
       "    </tr>\n",
       "  </tbody>\n",
       "</table>\n",
       "</div>"
      ],
      "text/plain": [
       "       dist_to_nearest_stn  dist_to_dhoby  degree_centrality  \\\n",
       "64057             0.917344       7.336493           0.016807   \n",
       "64058             0.696776       7.341622           0.016807   \n",
       "64059             0.597608       7.292217           0.016807   \n",
       "64060             0.994153       7.427003           0.016807   \n",
       "64061             0.921541       8.163605           0.016807   \n",
       "\n",
       "       eigenvector_centrality  remaining_lease_years  floor_area_sqm  \\\n",
       "64057                0.006243              55.583333            73.0   \n",
       "64058                0.006243              91.666667            70.0   \n",
       "64059                0.006243              56.333333            73.0   \n",
       "64060                0.006243              55.250000            73.0   \n",
       "64061                0.006243              59.083333            68.0   \n",
       "\n",
       "       resale_price  \n",
       "64057      265000.0  \n",
       "64058      470000.0  \n",
       "64059      230000.0  \n",
       "64060      280000.0  \n",
       "64061      220000.0  "
      ]
     },
     "metadata": {},
     "output_type": "display_data"
    },
    {
     "data": {
      "text/html": [
       "<div>\n",
       "<style scoped>\n",
       "    .dataframe tbody tr th:only-of-type {\n",
       "        vertical-align: middle;\n",
       "    }\n",
       "\n",
       "    .dataframe tbody tr th {\n",
       "        vertical-align: top;\n",
       "    }\n",
       "\n",
       "    .dataframe thead th {\n",
       "        text-align: right;\n",
       "    }\n",
       "</style>\n",
       "<table border=\"1\" class=\"dataframe\">\n",
       "  <thead>\n",
       "    <tr style=\"text-align: right;\">\n",
       "      <th></th>\n",
       "      <th>dist_to_nearest_stn</th>\n",
       "      <th>dist_to_dhoby</th>\n",
       "      <th>degree_centrality</th>\n",
       "      <th>eigenvector_centrality</th>\n",
       "      <th>remaining_lease_years</th>\n",
       "      <th>floor_area_sqm</th>\n",
       "      <th>resale_price</th>\n",
       "    </tr>\n",
       "  </thead>\n",
       "  <tbody>\n",
       "    <tr>\n",
       "      <th>87370</th>\n",
       "      <td>1.276775</td>\n",
       "      <td>8.339960</td>\n",
       "      <td>0.016807</td>\n",
       "      <td>0.002459</td>\n",
       "      <td>64.083333</td>\n",
       "      <td>45.0</td>\n",
       "      <td>211000.0</td>\n",
       "    </tr>\n",
       "    <tr>\n",
       "      <th>87371</th>\n",
       "      <td>1.276775</td>\n",
       "      <td>8.339960</td>\n",
       "      <td>0.016807</td>\n",
       "      <td>0.002459</td>\n",
       "      <td>64.083333</td>\n",
       "      <td>45.0</td>\n",
       "      <td>225000.0</td>\n",
       "    </tr>\n",
       "    <tr>\n",
       "      <th>87372</th>\n",
       "      <td>0.884872</td>\n",
       "      <td>6.981730</td>\n",
       "      <td>0.016807</td>\n",
       "      <td>0.006243</td>\n",
       "      <td>59.000000</td>\n",
       "      <td>68.0</td>\n",
       "      <td>260000.0</td>\n",
       "    </tr>\n",
       "    <tr>\n",
       "      <th>87373</th>\n",
       "      <td>0.677246</td>\n",
       "      <td>8.333056</td>\n",
       "      <td>0.016807</td>\n",
       "      <td>0.006243</td>\n",
       "      <td>58.166667</td>\n",
       "      <td>68.0</td>\n",
       "      <td>265000.0</td>\n",
       "    </tr>\n",
       "    <tr>\n",
       "      <th>87374</th>\n",
       "      <td>0.922047</td>\n",
       "      <td>8.009223</td>\n",
       "      <td>0.016807</td>\n",
       "      <td>0.006243</td>\n",
       "      <td>58.083333</td>\n",
       "      <td>68.0</td>\n",
       "      <td>265000.0</td>\n",
       "    </tr>\n",
       "  </tbody>\n",
       "</table>\n",
       "</div>"
      ],
      "text/plain": [
       "       dist_to_nearest_stn  dist_to_dhoby  degree_centrality  \\\n",
       "87370             1.276775       8.339960           0.016807   \n",
       "87371             1.276775       8.339960           0.016807   \n",
       "87372             0.884872       6.981730           0.016807   \n",
       "87373             0.677246       8.333056           0.016807   \n",
       "87374             0.922047       8.009223           0.016807   \n",
       "\n",
       "       eigenvector_centrality  remaining_lease_years  floor_area_sqm  \\\n",
       "87370                0.002459              64.083333            45.0   \n",
       "87371                0.002459              64.083333            45.0   \n",
       "87372                0.006243              59.000000            68.0   \n",
       "87373                0.006243              58.166667            68.0   \n",
       "87374                0.006243              58.083333            68.0   \n",
       "\n",
       "       resale_price  \n",
       "87370      211000.0  \n",
       "87371      225000.0  \n",
       "87372      260000.0  \n",
       "87373      265000.0  \n",
       "87374      265000.0  "
      ]
     },
     "metadata": {},
     "output_type": "display_data"
    }
   ],
   "source": [
    "# TODO: Enter your code here\n",
    "\n",
    "df = pd.read_csv('hdb_price_prediction.csv')\n",
    "\n",
    "# Filtering data based on the year\n",
    "train_df = df[df['year'] <= 2019]\n",
    "validation_df = df[df['year'] == 2020]\n",
    "test_df = df[df['year'] == 2021]\n",
    "\n",
    "# Get unique values \n",
    "train_unique_years = ', '.join(map(str, train_df['year'].unique()))\n",
    "validation_unique_years = ', '.join(map(str, validation_df['year'].unique()))\n",
    "test_unique_years = ', '.join(map(str, test_df['year'].unique()))\n",
    "\n",
    "# Sanity Check: Print the formatted unique values\n",
    "print(f\"Unique years in train_df: {train_unique_years}\")\n",
    "print(f\"Unique years in validation_df: {validation_unique_years}\")\n",
    "print(f\"Unique years in test_df: {test_unique_years}\")\n",
    "\n",
    "# List of numeric / continuous features\n",
    "numeric_features = ['dist_to_nearest_stn', 'dist_to_dhoby', 'degree_centrality', 'eigenvector_centrality', 'remaining_lease_years', 'floor_area_sqm']\n",
    "target_variable = 'resale_price'\n",
    "\n",
    "# Creating X and y for train, validation and test\n",
    "X_train_df = train_df[numeric_features]\n",
    "y_train_df = train_df[target_variable]\n",
    "train_df = train_df[numeric_features + [target_variable]]\n",
    "X_val_df = validation_df[numeric_features]\n",
    "y_val_df = validation_df[target_variable]\n",
    "validation_df = validation_df[numeric_features + [target_variable]]\n",
    "test_df = test_df[numeric_features + [target_variable]]\n",
    "X_test_df = test_df[numeric_features]\n",
    "y_test_df = test_df[target_variable]\n",
    "\n",
    "# Sanity Check: Check the first few rows to confirm\n",
    "display(train_df.head())\n",
    "display(validation_df.head())\n",
    "display(test_df.head())\n",
    "\n"
   ]
  },
  {
   "cell_type": "markdown",
   "metadata": {
    "id": "P4L7QdqLmX2s"
   },
   "source": [
    "> Follow this tutorial to generate the plot from various model explainability algorithms (https://captum.ai/tutorials/House_Prices_Regression_Interpret).\n",
    "Specifically, make the following changes:\n",
    "- Use a feedforward neural network with 3 hidden layers, each having 5 neurons. Train using Adam optimiser with learning rate of 0.001.\n",
    "- Use Saliency, Input x Gradients, Integrated Gradients, GradientSHAP, Feature Ablation\n"
   ]
  },
  {
   "cell_type": "code",
   "execution_count": 3,
   "metadata": {
    "id": "VGIWUq9Fmct8"
   },
   "outputs": [
    {
     "name": "stdout",
     "output_type": "stream",
     "text": [
      "Training the model...\n",
      "\n"
     ]
    },
    {
     "name": "stderr",
     "output_type": "stream",
     "text": [
      "  0%|          | 0/200 [00:00<?, ?it/s]"
     ]
    },
    {
     "name": "stderr",
     "output_type": "stream",
     "text": [
      "  0%|          | 1/200 [00:02<07:51,  2.37s/it]"
     ]
    },
    {
     "name": "stdout",
     "output_type": "stream",
     "text": [
      "Epoch [1/200], Training Loss: 216335745544.12698, Validation Loss: 228565798377.73914\n"
     ]
    },
    {
     "name": "stderr",
     "output_type": "stream",
     "text": [
      "  6%|▌         | 11/200 [00:26<07:42,  2.45s/it]"
     ]
    },
    {
     "name": "stdout",
     "output_type": "stream",
     "text": [
      "Epoch [11/200], Training Loss: 204978899756.69843, Validation Loss: 214607682515.47827\n"
     ]
    },
    {
     "name": "stderr",
     "output_type": "stream",
     "text": [
      " 10%|█         | 21/200 [00:52<07:51,  2.63s/it]"
     ]
    },
    {
     "name": "stdout",
     "output_type": "stream",
     "text": [
      "Epoch [21/200], Training Loss: 110174502651.93651, Validation Loss: 110820564635.82608\n"
     ]
    },
    {
     "name": "stderr",
     "output_type": "stream",
     "text": [
      " 16%|█▌        | 31/200 [01:21<07:59,  2.84s/it]"
     ]
    },
    {
     "name": "stdout",
     "output_type": "stream",
     "text": [
      "Epoch [31/200], Training Loss: 20880769544.126984, Validation Loss: 20614843748.173912\n"
     ]
    },
    {
     "name": "stderr",
     "output_type": "stream",
     "text": [
      " 20%|██        | 41/200 [01:48<06:51,  2.59s/it]"
     ]
    },
    {
     "name": "stdout",
     "output_type": "stream",
     "text": [
      "Epoch [41/200], Training Loss: 15857464222.47619, Validation Loss: 15206604043.130434\n"
     ]
    },
    {
     "name": "stderr",
     "output_type": "stream",
     "text": [
      " 26%|██▌       | 51/200 [02:14<06:37,  2.67s/it]"
     ]
    },
    {
     "name": "stdout",
     "output_type": "stream",
     "text": [
      "Epoch [51/200], Training Loss: 15637935851.682539, Validation Loss: 14962049380.173914\n"
     ]
    },
    {
     "name": "stderr",
     "output_type": "stream",
     "text": [
      " 30%|███       | 61/200 [02:38<05:18,  2.29s/it]"
     ]
    },
    {
     "name": "stdout",
     "output_type": "stream",
     "text": [
      "Epoch [61/200], Training Loss: 15370595295.492064, Validation Loss: 14707526299.826086\n"
     ]
    },
    {
     "name": "stderr",
     "output_type": "stream",
     "text": [
      " 36%|███▌      | 71/200 [03:01<04:53,  2.28s/it]"
     ]
    },
    {
     "name": "stdout",
     "output_type": "stream",
     "text": [
      "Epoch [71/200], Training Loss: 15025764563.301588, Validation Loss: 14422794507.130434\n"
     ]
    },
    {
     "name": "stderr",
     "output_type": "stream",
     "text": [
      " 40%|████      | 81/200 [03:25<04:44,  2.39s/it]"
     ]
    },
    {
     "name": "stdout",
     "output_type": "stream",
     "text": [
      "Epoch [81/200], Training Loss: 14698130415.74603, Validation Loss: 14118811158.26087\n"
     ]
    },
    {
     "name": "stderr",
     "output_type": "stream",
     "text": [
      " 46%|████▌     | 91/200 [03:48<04:08,  2.28s/it]"
     ]
    },
    {
     "name": "stdout",
     "output_type": "stream",
     "text": [
      "Epoch [91/200], Training Loss: 14333642784.507936, Validation Loss: 13798067867.826086\n"
     ]
    },
    {
     "name": "stderr",
     "output_type": "stream",
     "text": [
      " 50%|█████     | 101/200 [04:10<03:47,  2.30s/it]"
     ]
    },
    {
     "name": "stdout",
     "output_type": "stream",
     "text": [
      "Epoch [101/200], Training Loss: 13943182287.238094, Validation Loss: 13480665577.73913\n"
     ]
    },
    {
     "name": "stderr",
     "output_type": "stream",
     "text": [
      " 56%|█████▌    | 111/200 [04:34<03:29,  2.36s/it]"
     ]
    },
    {
     "name": "stdout",
     "output_type": "stream",
     "text": [
      "Epoch [111/200], Training Loss: 13572483624.63492, Validation Loss: 13143589554.086956\n"
     ]
    },
    {
     "name": "stderr",
     "output_type": "stream",
     "text": [
      " 60%|██████    | 121/200 [04:57<03:01,  2.30s/it]"
     ]
    },
    {
     "name": "stdout",
     "output_type": "stream",
     "text": [
      "Epoch [121/200], Training Loss: 13184396385.52381, Validation Loss: 12852786843.826086\n"
     ]
    },
    {
     "name": "stderr",
     "output_type": "stream",
     "text": [
      " 66%|██████▌   | 131/200 [05:20<02:38,  2.29s/it]"
     ]
    },
    {
     "name": "stdout",
     "output_type": "stream",
     "text": [
      "Epoch [131/200], Training Loss: 12803539561.650793, Validation Loss: 12535509348.173914\n"
     ]
    },
    {
     "name": "stderr",
     "output_type": "stream",
     "text": [
      " 70%|███████   | 141/200 [05:43<02:13,  2.27s/it]"
     ]
    },
    {
     "name": "stdout",
     "output_type": "stream",
     "text": [
      "Epoch [141/200], Training Loss: 12401077443.047619, Validation Loss: 12183024484.173914\n"
     ]
    },
    {
     "name": "stderr",
     "output_type": "stream",
     "text": [
      " 76%|███████▌  | 151/200 [06:06<01:50,  2.26s/it]"
     ]
    },
    {
     "name": "stdout",
     "output_type": "stream",
     "text": [
      "Epoch [151/200], Training Loss: 11966919241.142857, Validation Loss: 11863848514.782608\n"
     ]
    },
    {
     "name": "stderr",
     "output_type": "stream",
     "text": [
      " 80%|████████  | 161/200 [06:29<01:30,  2.33s/it]"
     ]
    },
    {
     "name": "stdout",
     "output_type": "stream",
     "text": [
      "Epoch [161/200], Training Loss: 11464609044.317461, Validation Loss: 11455693534.608696\n"
     ]
    },
    {
     "name": "stderr",
     "output_type": "stream",
     "text": [
      " 86%|████████▌ | 171/200 [06:51<01:05,  2.24s/it]"
     ]
    },
    {
     "name": "stdout",
     "output_type": "stream",
     "text": [
      "Epoch [171/200], Training Loss: 10899798731.174603, Validation Loss: 10987972808.347826\n"
     ]
    },
    {
     "name": "stderr",
     "output_type": "stream",
     "text": [
      " 90%|█████████ | 181/200 [07:14<00:43,  2.31s/it]"
     ]
    },
    {
     "name": "stdout",
     "output_type": "stream",
     "text": [
      "Epoch [181/200], Training Loss: 10192353572.571428, Validation Loss: 10394913235.47826\n"
     ]
    },
    {
     "name": "stderr",
     "output_type": "stream",
     "text": [
      " 96%|█████████▌| 191/200 [07:38<00:20,  2.31s/it]"
     ]
    },
    {
     "name": "stdout",
     "output_type": "stream",
     "text": [
      "Epoch [191/200], Training Loss: 9326468949.333334, Validation Loss: 9674623042.782608\n"
     ]
    },
    {
     "name": "stderr",
     "output_type": "stream",
     "text": [
      "100%|██████████| 200/200 [07:58<00:00,  2.39s/it]\n"
     ]
    },
    {
     "name": "stdout",
     "output_type": "stream",
     "text": [
      "\n",
      "Test RMSE: 116504.8046875\n",
      "Test R2: 0.4868670695885562\n",
      "\n",
      "Generating attributions for saliency...\n",
      "Generating attributions for input_x_gradient...\n",
      "Generating attributions for integrated_gradients...\n",
      "Generating attributions for gradient_shap...\n",
      "Generating attributions for feature_ablation...\n",
      "\n",
      "Printing normalized sum attributions for 5 importance score algorithms...\n",
      "\n"
     ]
    },
    {
     "data": {
      "text/html": [
       "<div>\n",
       "<style scoped>\n",
       "    .dataframe tbody tr th:only-of-type {\n",
       "        vertical-align: middle;\n",
       "    }\n",
       "\n",
       "    .dataframe tbody tr th {\n",
       "        vertical-align: top;\n",
       "    }\n",
       "\n",
       "    .dataframe thead th {\n",
       "        text-align: right;\n",
       "    }\n",
       "</style>\n",
       "<table border=\"1\" class=\"dataframe\">\n",
       "  <thead>\n",
       "    <tr style=\"text-align: right;\">\n",
       "      <th></th>\n",
       "      <th>Algorithm</th>\n",
       "      <th>dist_to_nearest_stn</th>\n",
       "      <th>dist_to_dhoby</th>\n",
       "      <th>degree_centrality</th>\n",
       "      <th>eigenvector_centrality</th>\n",
       "      <th>remaining_lease_years</th>\n",
       "      <th>floor_area_sqm</th>\n",
       "    </tr>\n",
       "  </thead>\n",
       "  <tbody>\n",
       "    <tr>\n",
       "      <th>0</th>\n",
       "      <td>Saliency (Not Scaled)</td>\n",
       "      <td>0.1545</td>\n",
       "      <td>0.1583</td>\n",
       "      <td>0.2232</td>\n",
       "      <td>0.3595</td>\n",
       "      <td>0.0351</td>\n",
       "      <td>0.0694</td>\n",
       "    </tr>\n",
       "    <tr>\n",
       "      <th>1</th>\n",
       "      <td>Input x Gradients (Not Scaled)</td>\n",
       "      <td>-0.0127</td>\n",
       "      <td>-0.1330</td>\n",
       "      <td>0.0004</td>\n",
       "      <td>0.0002</td>\n",
       "      <td>0.2268</td>\n",
       "      <td>0.6269</td>\n",
       "    </tr>\n",
       "    <tr>\n",
       "      <th>2</th>\n",
       "      <td>Integrated Gradients (Not Scaled)</td>\n",
       "      <td>-0.0127</td>\n",
       "      <td>-0.1330</td>\n",
       "      <td>0.0004</td>\n",
       "      <td>0.0002</td>\n",
       "      <td>0.2268</td>\n",
       "      <td>0.6269</td>\n",
       "    </tr>\n",
       "    <tr>\n",
       "      <th>3</th>\n",
       "      <td>GradientShap (Not Scaled)</td>\n",
       "      <td>0.0025</td>\n",
       "      <td>0.2771</td>\n",
       "      <td>-0.0001</td>\n",
       "      <td>-0.0003</td>\n",
       "      <td>-0.2516</td>\n",
       "      <td>-0.4684</td>\n",
       "    </tr>\n",
       "    <tr>\n",
       "      <th>4</th>\n",
       "      <td>Feature Ablation (Not Scaled)</td>\n",
       "      <td>-0.0127</td>\n",
       "      <td>-0.1330</td>\n",
       "      <td>0.0004</td>\n",
       "      <td>0.0002</td>\n",
       "      <td>0.2268</td>\n",
       "      <td>0.6269</td>\n",
       "    </tr>\n",
       "  </tbody>\n",
       "</table>\n",
       "</div>"
      ],
      "text/plain": [
       "                           Algorithm  dist_to_nearest_stn  dist_to_dhoby  \\\n",
       "0              Saliency (Not Scaled)               0.1545         0.1583   \n",
       "1     Input x Gradients (Not Scaled)              -0.0127        -0.1330   \n",
       "2  Integrated Gradients (Not Scaled)              -0.0127        -0.1330   \n",
       "3          GradientShap (Not Scaled)               0.0025         0.2771   \n",
       "4      Feature Ablation (Not Scaled)              -0.0127        -0.1330   \n",
       "\n",
       "   degree_centrality  eigenvector_centrality  remaining_lease_years  \\\n",
       "0             0.2232                  0.3595                 0.0351   \n",
       "1             0.0004                  0.0002                 0.2268   \n",
       "2             0.0004                  0.0002                 0.2268   \n",
       "3            -0.0001                 -0.0003                -0.2516   \n",
       "4             0.0004                  0.0002                 0.2268   \n",
       "\n",
       "   floor_area_sqm  \n",
       "0          0.0694  \n",
       "1          0.6269  \n",
       "2          0.6269  \n",
       "3         -0.4684  \n",
       "4          0.6269  "
      ]
     },
     "metadata": {},
     "output_type": "display_data"
    },
    {
     "name": "stdout",
     "output_type": "stream",
     "text": [
      "\n",
      "======== GradientShap (Non-Standardized Features) ==========\n",
      "\n",
      "Average Attributions for GradientShap across Test Samples:\n",
      "[ 2.7702011e+02  3.0347002e+04 -8.8122025e+00 -3.2999161e+01\n",
      " -2.7552396e+04 -5.1297973e+04]\n",
      "Average Convergence Delta for GradientShap across Test Samples:\n",
      "0.0067897276\n",
      "===============================================================\n"
     ]
    },
    {
     "data": {
      "image/png": "[encoded data removed]",
      "text/plain": [
       "<Figure size 2000x1000 with 1 Axes>"
      ]
     },
     "metadata": {},
     "output_type": "display_data"
    }
   ],
   "source": [
    "# TODO: Enter your code here\n",
    "\n",
    "warnings.filterwarnings(\"ignore\", category=UserWarning)\n",
    "set_seed()\n",
    "\n",
    "# Define Hyperparameters\n",
    "batch_size = 1024 # From B1 (From Discussion Board)\n",
    "num_epochs = 200 # 200 epochs, because I observed that the validation loss was still decreasing at 200 epochs, suggesting that likely no overfitting\n",
    "learning_rate = 0.001\n",
    "\n",
    "# Convert DataFrame to PyTorch tensors\n",
    "X_train = torch.tensor(X_train_df.values).float()\n",
    "y_train = torch.tensor(y_train_df.values).view(-1, 1).float()\n",
    "X_val = torch.tensor(X_val_df.values).float()\n",
    "y_val = torch.tensor(y_val_df.values).view(-1, 1).float()\n",
    "X_test = torch.tensor(X_test_df.values).float()\n",
    "y_test = torch.tensor(y_test_df.values).view(-1, 1).float()\n",
    "\n",
    "# Generating train and validation DataLoaders\n",
    "train_datasets = torch.utils.data.TensorDataset(X_train, y_train)\n",
    "train_iter = torch.utils.data.DataLoader(train_datasets, batch_size=batch_size, shuffle=True)\n",
    "val_dataset = torch.utils.data.TensorDataset(X_val, y_val)\n",
    "val_iter = torch.utils.data.DataLoader(val_dataset, batch_size=batch_size)\n",
    "\n",
    "# Neural Network Model (Add Relu Activation Function to try to capture non-linear relationships just as shown in the tutorial from link provided)\n",
    "class B3Model(nn.Module):\n",
    "    def __init__(self):\n",
    "        super().__init__()\n",
    "        self.lin1 = nn.Linear(len(numeric_features), 5)  \n",
    "        self.relu1 = nn.ReLU()\n",
    "        self.lin2 = nn.Linear(5, 5)\n",
    "        self.relu2 = nn.ReLU()\n",
    "        self.lin3 = nn.Linear(5, 5)\n",
    "        self.relu3 = nn.ReLU()\n",
    "        self.lin4 = nn.Linear(5, 1)\n",
    "\n",
    "    def forward(self, input):\n",
    "        return self.lin4(self.relu3(self.lin3(self.relu2(self.lin2(self.relu1(self.lin1(input)))))))\n",
    "\n",
    "# Initialize the model\n",
    "model = B3Model()\n",
    "\n",
    "# Function to train\n",
    "def train_model(model, train_iter, val_iter, num_epochs=200, learning_rate=0.001):\n",
    "    # Loss and Optimizer\n",
    "    criterion = nn.MSELoss()\n",
    "    optimizer = optim.Adam(model.parameters(), lr=learning_rate)\n",
    "    early_stopper = EarlyStopper(patience=10)\n",
    "\n",
    "    # Training Loop\n",
    "    print('Training the model...', end='\\n\\n')\n",
    "    for epoch in tqdm(range(num_epochs)):\n",
    "        model.train()\n",
    "        running_loss = 0.0\n",
    "        \n",
    "        # Training Phase\n",
    "        for inputs, labels in train_iter:\n",
    "            outputs = model(inputs)\n",
    "            loss = criterion(outputs, labels)\n",
    "            optimizer.zero_grad()\n",
    "            loss.backward()\n",
    "            running_loss += loss.item()\n",
    "            avg_training_loss = running_loss / len(train_iter)\n",
    "            optimizer.step()\n",
    "        \n",
    "        # Validation Phase (Every  epoch)\n",
    "        model.eval()\n",
    "        val_loss = 0.0\n",
    "        with torch.no_grad():\n",
    "            for val_inputs, val_labels in val_iter:\n",
    "                val_outputs = model(val_inputs)\n",
    "                val_loss += criterion(val_outputs, val_labels).item()\n",
    "        avg_val_loss = val_loss / len(val_iter)\n",
    "        \n",
    "        if epoch % 10 == 0:\n",
    "            print(f\"Epoch [{epoch+1}/{num_epochs}], Training Loss: {avg_training_loss}, Validation Loss: {avg_val_loss}\")\n",
    "    \n",
    "        # Check for early stopping\n",
    "        if early_stopper.early_stop(avg_val_loss):\n",
    "            print(f\"Early stopping triggered at epoch {epoch}!\")\n",
    "            break\n",
    "\n",
    "# Train model without scaling \n",
    "train_model(model, train_iter, val_iter, num_epochs, learning_rate)\n",
    "\n",
    "# Test the model\n",
    "model.eval()\n",
    "outputs = model(X_test)\n",
    "test_rmse = np.sqrt(mean_squared_error(y_test.detach().numpy(), outputs.detach().numpy()))\n",
    "test_r2 = r2_score(y_test.detach().numpy(), outputs.detach().numpy())\n",
    "\n",
    "print()\n",
    "print(f\"Test RMSE: {test_rmse}\")\n",
    "print(f\"Test R2: {test_r2}\", end = '\\n\\n')\n",
    "\n",
    "def add_normalized_attributions(name, attributions_tensor, df):\n",
    "    attributions_sum = attributions_tensor.detach().numpy().sum(0)\n",
    "    normalized_attributions = attributions_sum / np.linalg.norm(attributions_sum, ord=1)\n",
    "    # Append data to the dataframe\n",
    "    df.loc[len(df)] = [name] + list(np.round(normalized_attributions, 4))\n",
    "    return normalized_attributions\n",
    "\n",
    "# Model explainability using Captum\n",
    "saliency = Saliency(model)\n",
    "input_x_gradient = InputXGradient(model)\n",
    "integrated_gradients = IntegratedGradients(model)\n",
    "gradient_shap = GradientShap(model)\n",
    "feature_ablation = FeatureAblation(model)\n",
    "\n",
    "# Generate attributions\n",
    "print('Generating attributions for saliency...')\n",
    "saliency_attr = saliency.attribute(X_test[:1000])\n",
    "print('Generating attributions for input_x_gradient...')\n",
    "input_x_gradient_attr = input_x_gradient.attribute(X_test[:1000])\n",
    "print('Generating attributions for integrated_gradients...')\n",
    "integrated_gradients_attr = integrated_gradients.attribute(X_test[:1000], n_steps=50)\n",
    "print('Generating attributions for gradient_shap...')\n",
    "gradient_shap_attr, delta = gradient_shap.attribute(X_test[:1000], X_train, return_convergence_delta=True)\n",
    "print('Generating attributions for feature_ablation...')\n",
    "feature_ablation_attr = feature_ablation.attribute(X_test[:1000])\n",
    "\n",
    "# Prepare attributions for visualization\n",
    "x_axis_data = np.arange(X_test.shape[1])\n",
    "x_axis_data_labels = list(map(lambda idx: numeric_features[idx], x_axis_data))\n",
    "\n",
    "# Dataframe to store results\n",
    "attributions_df = pd.DataFrame(columns=['Algorithm', *numeric_features])\n",
    "\n",
    "# Normalize and add to dataframe of normalized sum of attributions\n",
    "saliency_norm_sum = add_normalized_attributions(\"Saliency (Not Scaled)\", saliency_attr, attributions_df)\n",
    "input_x_gradient_norm_sum = add_normalized_attributions(\"Input x Gradients (Not Scaled)\", input_x_gradient_attr, attributions_df)\n",
    "integrated_gradients_norm_sum = add_normalized_attributions(\"Integrated Gradients (Not Scaled)\", integrated_gradients_attr, attributions_df)\n",
    "gradient_shap_norm_sum = add_normalized_attributions(\"GradientShap (Not Scaled)\", gradient_shap_attr, attributions_df)\n",
    "feature_ablation_norm_sum = add_normalized_attributions(\"Feature Ablation (Not Scaled)\", feature_ablation_attr, attributions_df)\n",
    "\n",
    "print('\\nPrinting normalized sum attributions for 5 importance score algorithms...', end = '\\n\\n')\n",
    "display(attributions_df)\n",
    "\n",
    "# Print average attributions and convergence delta for GradientShap\n",
    "print(\"\\n======== GradientShap (Non-Standardized Features) ==========\\n\")\n",
    "print(\"Average Attributions for GradientShap across Test Samples:\")\n",
    "print(np.mean(gradient_shap_attr.detach().numpy(), axis=0))\n",
    "print(\"Average Convergence Delta for GradientShap across Test Samples:\")\n",
    "print(np.mean(delta.detach().numpy()))\n",
    "print('===============================================================')\n",
    "\n",
    "# Plot settings\n",
    "width = 0.14\n",
    "legends = ['Saliency', 'Input x Gradients', 'Integrated Gradients', 'GradientSHAP', 'Feature Ablation']\n",
    "\n",
    "plt.figure(figsize=(20, 10))\n",
    "ax = plt.subplot()\n",
    "\n",
    "ax.set_title('Comparing input feature importances across multiple algorithms')\n",
    "ax.set_ylabel('Normalized Attributions')\n",
    "\n",
    "FONT_SIZE = 16\n",
    "plt.rc('font', size=FONT_SIZE)\n",
    "plt.rc('axes', titlesize=FONT_SIZE)\n",
    "plt.rc('axes', labelsize=FONT_SIZE)\n",
    "plt.rc('legend', fontsize=FONT_SIZE - 4)\n",
    "\n",
    "# Plotting\n",
    "ax.bar(x_axis_data, saliency_norm_sum, width, align='center', alpha=0.8, color='#eb5e7c')\n",
    "ax.bar(x_axis_data + width, input_x_gradient_norm_sum, width, align='center', alpha=0.7, color='#A90000')\n",
    "ax.bar(x_axis_data + 2 * width, integrated_gradients_norm_sum, width, align='center', alpha=0.6, color='#34b8e0')\n",
    "ax.bar(x_axis_data + 3 * width, gradient_shap_norm_sum, width, align='center', alpha=0.8, color='#4260f5')\n",
    "ax.bar(x_axis_data + 4 * width, feature_ablation_norm_sum, width, align='center', alpha=1.0, color='#49ba81')\n",
    "\n",
    "ax.autoscale_view()\n",
    "plt.tight_layout()\n",
    "\n",
    "ax.set_xticks(x_axis_data + 2 * width)\n",
    "ax.set_xticklabels(x_axis_data_labels)\n",
    "\n",
    "plt.legend(legends, loc=3)\n",
    "plt.show()\n"
   ]
  },
  {
   "cell_type": "markdown",
   "metadata": {
    "id": "DexR-OzAmd26"
   },
   "source": [
    "> Train a separate model with the same configuration but now standardise the features via **StandardScaler** (fit to training set, then transform all). State your observations with respect to GradientShap and explain why it has occurred.\n",
    "(Hint: Many gradient-based approaches depend on a baseline, which is an important choice to be made. Check the default baseline settings carefully.)\n"
   ]
  },
  {
   "cell_type": "code",
   "execution_count": 5,
   "metadata": {
    "id": "yzRk02TnmgyB"
   },
   "outputs": [
    {
     "name": "stdout",
     "output_type": "stream",
     "text": [
      "Training the model...\n",
      "\n"
     ]
    },
    {
     "name": "stderr",
     "output_type": "stream",
     "text": [
      "  0%|          | 0/200 [00:00<?, ?it/s]"
     ]
    },
    {
     "name": "stderr",
     "output_type": "stream",
     "text": [
      "  0%|          | 1/200 [00:01<05:31,  1.67s/it]"
     ]
    },
    {
     "name": "stdout",
     "output_type": "stream",
     "text": [
      "Epoch [1/200], Training Loss: 216343135508.31747, Validation Loss: 228580148624.69565\n"
     ]
    },
    {
     "name": "stderr",
     "output_type": "stream",
     "text": [
      "  6%|▌         | 11/200 [00:14<04:00,  1.27s/it]"
     ]
    },
    {
     "name": "stdout",
     "output_type": "stream",
     "text": [
      "Epoch [11/200], Training Loss: 216196596232.12698, Validation Loss: 228394732321.3913\n"
     ]
    },
    {
     "name": "stderr",
     "output_type": "stream",
     "text": [
      " 10%|█         | 21/200 [00:27<03:42,  1.24s/it]"
     ]
    },
    {
     "name": "stdout",
     "output_type": "stream",
     "text": [
      "Epoch [21/200], Training Loss: 214644147996.44446, Validation Loss: 226534063415.65216\n"
     ]
    },
    {
     "name": "stderr",
     "output_type": "stream",
     "text": [
      " 16%|█▌        | 31/200 [00:39<03:33,  1.26s/it]"
     ]
    },
    {
     "name": "stdout",
     "output_type": "stream",
     "text": [
      "Epoch [31/200], Training Loss: 209296447065.39682, Validation Loss: 220574552242.08694\n"
     ]
    },
    {
     "name": "stderr",
     "output_type": "stream",
     "text": [
      " 20%|██        | 41/200 [00:52<03:33,  1.34s/it]"
     ]
    },
    {
     "name": "stdout",
     "output_type": "stream",
     "text": [
      "Epoch [41/200], Training Loss: 198419969235.30157, Validation Loss: 208541846305.3913\n"
     ]
    },
    {
     "name": "stderr",
     "output_type": "stream",
     "text": [
      " 26%|██▌       | 51/200 [01:07<03:40,  1.48s/it]"
     ]
    },
    {
     "name": "stdout",
     "output_type": "stream",
     "text": [
      "Epoch [51/200], Training Loss: 181461459854.22223, Validation Loss: 189740165565.21738\n"
     ]
    },
    {
     "name": "stderr",
     "output_type": "stream",
     "text": [
      " 30%|███       | 61/200 [01:24<03:50,  1.66s/it]"
     ]
    },
    {
     "name": "stdout",
     "output_type": "stream",
     "text": [
      "Epoch [61/200], Training Loss: 159180339167.49207, Validation Loss: 165245641416.34784\n"
     ]
    },
    {
     "name": "stderr",
     "output_type": "stream",
     "text": [
      " 36%|███▌      | 71/200 [01:40<03:26,  1.60s/it]"
     ]
    },
    {
     "name": "stdout",
     "output_type": "stream",
     "text": [
      "Epoch [71/200], Training Loss: 134392578568.12698, Validation Loss: 138065537469.21738\n"
     ]
    },
    {
     "name": "stderr",
     "output_type": "stream",
     "text": [
      " 40%|████      | 81/200 [01:56<03:13,  1.63s/it]"
     ]
    },
    {
     "name": "stdout",
     "output_type": "stream",
     "text": [
      "Epoch [81/200], Training Loss: 111476147736.38095, Validation Loss: 112500826824.34782\n"
     ]
    },
    {
     "name": "stderr",
     "output_type": "stream",
     "text": [
      " 46%|████▌     | 91/200 [02:13<02:57,  1.63s/it]"
     ]
    },
    {
     "name": "stdout",
     "output_type": "stream",
     "text": [
      "Epoch [91/200], Training Loss: 93025450731.68254, Validation Loss: 91928717401.04347\n"
     ]
    },
    {
     "name": "stderr",
     "output_type": "stream",
     "text": [
      " 50%|█████     | 101/200 [02:29<02:39,  1.61s/it]"
     ]
    },
    {
     "name": "stdout",
     "output_type": "stream",
     "text": [
      "Epoch [101/200], Training Loss: 79522565428.8254, Validation Loss: 76965802162.08696\n"
     ]
    },
    {
     "name": "stderr",
     "output_type": "stream",
     "text": [
      " 56%|█████▌    | 111/200 [02:46<02:25,  1.63s/it]"
     ]
    },
    {
     "name": "stdout",
     "output_type": "stream",
     "text": [
      "Epoch [111/200], Training Loss: 70056115118.73016, Validation Loss: 66626399009.391304\n"
     ]
    },
    {
     "name": "stderr",
     "output_type": "stream",
     "text": [
      " 60%|██████    | 121/200 [03:02<01:50,  1.40s/it]"
     ]
    },
    {
     "name": "stdout",
     "output_type": "stream",
     "text": [
      "Epoch [121/200], Training Loss: 62422263580.44444, Validation Loss: 58734076794.434784\n"
     ]
    },
    {
     "name": "stderr",
     "output_type": "stream",
     "text": [
      " 66%|██████▌   | 131/200 [03:16<01:41,  1.47s/it]"
     ]
    },
    {
     "name": "stdout",
     "output_type": "stream",
     "text": [
      "Epoch [131/200], Training Loss: 55330484614.09524, Validation Loss: 51752429122.78261\n"
     ]
    },
    {
     "name": "stderr",
     "output_type": "stream",
     "text": [
      " 70%|███████   | 141/200 [03:33<01:39,  1.69s/it]"
     ]
    },
    {
     "name": "stdout",
     "output_type": "stream",
     "text": [
      "Epoch [141/200], Training Loss: 48077012731.93651, Validation Loss: 44814329588.86957\n"
     ]
    },
    {
     "name": "stderr",
     "output_type": "stream",
     "text": [
      " 76%|███████▌  | 151/200 [03:49<01:17,  1.58s/it]"
     ]
    },
    {
     "name": "stdout",
     "output_type": "stream",
     "text": [
      "Epoch [151/200], Training Loss: 40586557732.57143, Validation Loss: 37779608086.26087\n"
     ]
    },
    {
     "name": "stderr",
     "output_type": "stream",
     "text": [
      " 80%|████████  | 161/200 [04:07<01:12,  1.85s/it]"
     ]
    },
    {
     "name": "stdout",
     "output_type": "stream",
     "text": [
      "Epoch [161/200], Training Loss: 33357351984.761906, Validation Loss: 31201899831.652172\n"
     ]
    },
    {
     "name": "stderr",
     "output_type": "stream",
     "text": [
      " 86%|████████▌ | 171/200 [04:23<00:49,  1.71s/it]"
     ]
    },
    {
     "name": "stdout",
     "output_type": "stream",
     "text": [
      "Epoch [171/200], Training Loss: 26962313931.174603, Validation Loss: 25469565462.260868\n"
     ]
    },
    {
     "name": "stderr",
     "output_type": "stream",
     "text": [
      " 90%|█████████ | 181/200 [04:37<00:25,  1.34s/it]"
     ]
    },
    {
     "name": "stdout",
     "output_type": "stream",
     "text": [
      "Epoch [181/200], Training Loss: 21586245632.0, Validation Loss: 20733996254.608696\n"
     ]
    },
    {
     "name": "stderr",
     "output_type": "stream",
     "text": [
      " 96%|█████████▌| 191/200 [04:50<00:11,  1.29s/it]"
     ]
    },
    {
     "name": "stdout",
     "output_type": "stream",
     "text": [
      "Epoch [191/200], Training Loss: 17155422289.269842, Validation Loss: 16826365417.73913\n"
     ]
    },
    {
     "name": "stderr",
     "output_type": "stream",
     "text": [
      "100%|██████████| 200/200 [05:02<00:00,  1.51s/it]\n"
     ]
    },
    {
     "name": "stdout",
     "output_type": "stream",
     "text": [
      "\n",
      "Test RMSE: 144653.171875\n",
      "Test R2: 0.20896056815817043\n",
      "\n",
      "\n",
      "Generating attributions for saliency...\n",
      "Generating attributions for input_x_gradient...\n",
      "Generating attributions for integrated_gradients...\n",
      "Generating attributions for gradient_shap...\n",
      "Generating attributions for feature_ablation...\n",
      "\n",
      "Printing normalised sum attributions for 5 importance score algorithms (Both scaled and unscaled)...\n",
      "\n"
     ]
    },
    {
     "data": {
      "text/html": [
       "<div>\n",
       "<style scoped>\n",
       "    .dataframe tbody tr th:only-of-type {\n",
       "        vertical-align: middle;\n",
       "    }\n",
       "\n",
       "    .dataframe tbody tr th {\n",
       "        vertical-align: top;\n",
       "    }\n",
       "\n",
       "    .dataframe thead th {\n",
       "        text-align: right;\n",
       "    }\n",
       "</style>\n",
       "<table border=\"1\" class=\"dataframe\">\n",
       "  <thead>\n",
       "    <tr style=\"text-align: right;\">\n",
       "      <th></th>\n",
       "      <th>Algorithm</th>\n",
       "      <th>dist_to_nearest_stn</th>\n",
       "      <th>dist_to_dhoby</th>\n",
       "      <th>degree_centrality</th>\n",
       "      <th>eigenvector_centrality</th>\n",
       "      <th>remaining_lease_years</th>\n",
       "      <th>floor_area_sqm</th>\n",
       "    </tr>\n",
       "  </thead>\n",
       "  <tbody>\n",
       "    <tr>\n",
       "      <th>0</th>\n",
       "      <td>Saliency (Not Scaled)</td>\n",
       "      <td>0.1545</td>\n",
       "      <td>0.1583</td>\n",
       "      <td>0.2232</td>\n",
       "      <td>0.3595</td>\n",
       "      <td>0.0351</td>\n",
       "      <td>0.0694</td>\n",
       "    </tr>\n",
       "    <tr>\n",
       "      <th>1</th>\n",
       "      <td>Input x Gradients (Not Scaled)</td>\n",
       "      <td>-0.0127</td>\n",
       "      <td>-0.1330</td>\n",
       "      <td>0.0004</td>\n",
       "      <td>0.0002</td>\n",
       "      <td>0.2268</td>\n",
       "      <td>0.6269</td>\n",
       "    </tr>\n",
       "    <tr>\n",
       "      <th>2</th>\n",
       "      <td>Integrated Gradients (Not Scaled)</td>\n",
       "      <td>-0.0127</td>\n",
       "      <td>-0.1330</td>\n",
       "      <td>0.0004</td>\n",
       "      <td>0.0002</td>\n",
       "      <td>0.2268</td>\n",
       "      <td>0.6269</td>\n",
       "    </tr>\n",
       "    <tr>\n",
       "      <th>3</th>\n",
       "      <td>GradientShap (Not Scaled)</td>\n",
       "      <td>0.0025</td>\n",
       "      <td>0.2771</td>\n",
       "      <td>-0.0001</td>\n",
       "      <td>-0.0003</td>\n",
       "      <td>-0.2516</td>\n",
       "      <td>-0.4684</td>\n",
       "    </tr>\n",
       "    <tr>\n",
       "      <th>4</th>\n",
       "      <td>Feature Ablation (Not Scaled)</td>\n",
       "      <td>-0.0127</td>\n",
       "      <td>-0.1330</td>\n",
       "      <td>0.0004</td>\n",
       "      <td>0.0002</td>\n",
       "      <td>0.2268</td>\n",
       "      <td>0.6269</td>\n",
       "    </tr>\n",
       "    <tr>\n",
       "      <th>5</th>\n",
       "      <td>Saliency (Scaled)</td>\n",
       "      <td>0.3394</td>\n",
       "      <td>0.0533</td>\n",
       "      <td>0.0711</td>\n",
       "      <td>0.1243</td>\n",
       "      <td>0.1458</td>\n",
       "      <td>0.2661</td>\n",
       "    </tr>\n",
       "    <tr>\n",
       "      <th>6</th>\n",
       "      <td>Input x Gradients (Scaled)</td>\n",
       "      <td>0.3908</td>\n",
       "      <td>0.0836</td>\n",
       "      <td>0.0030</td>\n",
       "      <td>0.0173</td>\n",
       "      <td>-0.2962</td>\n",
       "      <td>-0.2092</td>\n",
       "    </tr>\n",
       "    <tr>\n",
       "      <th>7</th>\n",
       "      <td>Integrated Gradients (Scaled)</td>\n",
       "      <td>0.1494</td>\n",
       "      <td>0.1024</td>\n",
       "      <td>-0.0100</td>\n",
       "      <td>0.0218</td>\n",
       "      <td>-0.3934</td>\n",
       "      <td>-0.3228</td>\n",
       "    </tr>\n",
       "    <tr>\n",
       "      <th>8</th>\n",
       "      <td>GradientShap (Scaled)</td>\n",
       "      <td>-0.0945</td>\n",
       "      <td>0.0903</td>\n",
       "      <td>-0.1184</td>\n",
       "      <td>0.0011</td>\n",
       "      <td>-0.3642</td>\n",
       "      <td>-0.3315</td>\n",
       "    </tr>\n",
       "    <tr>\n",
       "      <th>9</th>\n",
       "      <td>Feature Ablation (Scaled)</td>\n",
       "      <td>0.2435</td>\n",
       "      <td>0.0910</td>\n",
       "      <td>-0.0001</td>\n",
       "      <td>0.0191</td>\n",
       "      <td>-0.3602</td>\n",
       "      <td>-0.2861</td>\n",
       "    </tr>\n",
       "  </tbody>\n",
       "</table>\n",
       "</div>"
      ],
      "text/plain": [
       "                           Algorithm  dist_to_nearest_stn  dist_to_dhoby  \\\n",
       "0              Saliency (Not Scaled)               0.1545         0.1583   \n",
       "1     Input x Gradients (Not Scaled)              -0.0127        -0.1330   \n",
       "2  Integrated Gradients (Not Scaled)              -0.0127        -0.1330   \n",
       "3          GradientShap (Not Scaled)               0.0025         0.2771   \n",
       "4      Feature Ablation (Not Scaled)              -0.0127        -0.1330   \n",
       "5                  Saliency (Scaled)               0.3394         0.0533   \n",
       "6         Input x Gradients (Scaled)               0.3908         0.0836   \n",
       "7      Integrated Gradients (Scaled)               0.1494         0.1024   \n",
       "8              GradientShap (Scaled)              -0.0945         0.0903   \n",
       "9          Feature Ablation (Scaled)               0.2435         0.0910   \n",
       "\n",
       "   degree_centrality  eigenvector_centrality  remaining_lease_years  \\\n",
       "0             0.2232                  0.3595                 0.0351   \n",
       "1             0.0004                  0.0002                 0.2268   \n",
       "2             0.0004                  0.0002                 0.2268   \n",
       "3            -0.0001                 -0.0003                -0.2516   \n",
       "4             0.0004                  0.0002                 0.2268   \n",
       "5             0.0711                  0.1243                 0.1458   \n",
       "6             0.0030                  0.0173                -0.2962   \n",
       "7            -0.0100                  0.0218                -0.3934   \n",
       "8            -0.1184                  0.0011                -0.3642   \n",
       "9            -0.0001                  0.0191                -0.3602   \n",
       "\n",
       "   floor_area_sqm  \n",
       "0          0.0694  \n",
       "1          0.6269  \n",
       "2          0.6269  \n",
       "3         -0.4684  \n",
       "4          0.6269  \n",
       "5          0.2661  \n",
       "6         -0.2092  \n",
       "7         -0.3228  \n",
       "8         -0.3315  \n",
       "9         -0.2861  "
      ]
     },
     "metadata": {},
     "output_type": "display_data"
    },
    {
     "name": "stdout",
     "output_type": "stream",
     "text": [
      "\n",
      "========  GradientShap (Standardized Features) ======== \n",
      "\n",
      "Average Attributions for GradientShap across Test Samples:\n",
      "[-15626.372    14925.021   -19569.727      187.85374 -60222.41\n",
      " -54804.105  ]\n",
      "Average Convergence Delta for GradientShap across Test Samples:\n",
      "1122.8002\n",
      "===========================================================\n"
     ]
    },
    {
     "data": {
      "image/png": "[encoded data removed]",
      "text/plain": [
       "<Figure size 2000x1000 with 1 Axes>"
      ]
     },
     "metadata": {},
     "output_type": "display_data"
    }
   ],
   "source": [
    "# TODO: Enter your code here\n",
    "\n",
    "set_seed()\n",
    "def train_model(model, train_iter, val_iter, num_epochs=200, learning_rate=0.001):\n",
    "    # Loss and Optimizer\n",
    "    criterion = nn.MSELoss()\n",
    "    optimizer = optim.Adam(model.parameters(), lr=learning_rate)\n",
    "    early_stopper = EarlyStopper(patience=10)\n",
    "\n",
    "    # Training Loop\n",
    "    print('Training the model...', end='\\n\\n')\n",
    "    for epoch in tqdm(range(num_epochs)):\n",
    "        model.train()\n",
    "        running_loss = 0.0\n",
    "        \n",
    "        # Training Phase\n",
    "        for inputs, labels in train_iter:\n",
    "            outputs = model(inputs)\n",
    "            loss = criterion(outputs, labels)\n",
    "            optimizer.zero_grad()\n",
    "            loss.backward()\n",
    "            running_loss += loss.item()\n",
    "            avg_training_loss = running_loss / len(train_iter)\n",
    "            optimizer.step()\n",
    "        \n",
    "        # Validation Phase (Every  epoch)\n",
    "        model.eval()\n",
    "        val_loss = 0.0\n",
    "        with torch.no_grad():\n",
    "            for val_inputs, val_labels in val_iter:\n",
    "                val_outputs = model(val_inputs)\n",
    "                val_loss += criterion(val_outputs, val_labels).item()\n",
    "        avg_val_loss = val_loss / len(val_iter)\n",
    "        \n",
    "        if epoch % 10 == 0:\n",
    "            print(f\"Epoch [{epoch+1}/{num_epochs}], Training Loss: {avg_training_loss}, Validation Loss: {avg_val_loss}\")\n",
    "    \n",
    "        # Check for early stopping\n",
    "        if early_stopper.early_stop(avg_val_loss):\n",
    "            print(f\"Early stopping triggered at epoch {epoch}!\")\n",
    "            break\n",
    "\n",
    "\n",
    "# Define Hyperparameters\n",
    "batch_size = 1024 # From B1 (From Discussion Board)\n",
    "num_epochs = 200 # 200 epochs, because I observed that the validation loss was still decreasing at 200 epochs, suggesting that likely no overfitting\n",
    "learning_rate = 0.001\n",
    "\n",
    "# With scaling\n",
    "# Use StandardScaler to scale features\n",
    "scaler = StandardScaler()\n",
    "X_train_scaled = scaler.fit_transform(X_train_df)\n",
    "X_val_scaled = scaler.transform(X_val_df)\n",
    "X_test_scaled = scaler.transform(X_test_df)\n",
    "\n",
    "# Convert scaled data to PyTorch tensors\n",
    "X_train_scaled = torch.tensor(X_train_scaled).float()\n",
    "X_val_scaled = torch.tensor(X_val_scaled).float()\n",
    "X_test_scaled = torch.tensor(X_test_scaled).float()\n",
    "\n",
    "\n",
    "# Generating scaled train and validation DataLoaders using scaled targets\n",
    "train_datasets_scaled = torch.utils.data.TensorDataset(X_train_scaled, y_train)\n",
    "train_iter_scaled = torch.utils.data.DataLoader(train_datasets_scaled, batch_size=batch_size, shuffle=True)\n",
    "val_dataset_scaled = torch.utils.data.TensorDataset(X_val_scaled, y_val)\n",
    "val_iter_scaled = torch.utils.data.DataLoader(val_dataset_scaled, batch_size=batch_size)\n",
    "\n",
    "# Initialize another model for scaled data\n",
    "model_scaled = B3Model()\n",
    "\n",
    "# Train with scaled data\n",
    "train_model(model_scaled, train_iter_scaled, val_iter_scaled, num_epochs, learning_rate)\n",
    "model_scaled.eval()\n",
    "\n",
    "outputs_scaled = model_scaled(X_test_scaled)\n",
    "\n",
    "# Convert the predictions back to original scale\n",
    "test_rmse_scaled = np.sqrt(mean_squared_error(y_test.detach().numpy(),outputs_scaled.detach().numpy()))\n",
    "test_r2_scaled = r2_score(y_test.detach().numpy(), outputs_scaled.detach().numpy())\n",
    "\n",
    "print()\n",
    "print(f\"Test RMSE: {test_rmse_scaled}\")\n",
    "print(f\"Test R2: {test_r2_scaled}\", end = '\\n\\n')\n",
    "\n",
    "# Model explainability using Captum\n",
    "saliency_scaled = Saliency(model_scaled)\n",
    "input_x_gradient_scaled = InputXGradient(model_scaled)\n",
    "integrated_gradients_scaled = IntegratedGradients(model_scaled)\n",
    "gradient_shap_scaled = GradientShap(model_scaled)\n",
    "feature_ablation_scaled = FeatureAblation(model_scaled)\n",
    "\n",
    "# Generate attributions for the scaled model\n",
    "print('\\nGenerating attributions for saliency...')\n",
    "saliency_attr_scaled = saliency_scaled.attribute(X_test_scaled[:1000])\n",
    "print('Generating attributions for input_x_gradient...')\n",
    "input_x_gradient_attr_scaled = input_x_gradient_scaled.attribute(X_test_scaled[:1000])\n",
    "print('Generating attributions for integrated_gradients...')\n",
    "integrated_gradients_attr_scaled = integrated_gradients_scaled.attribute(X_test_scaled[:1000],  n_steps=50)\n",
    "print('Generating attributions for gradient_shap...')\n",
    "gradient_shap_attr_scaled, delta_scaled = gradient_shap_scaled.attribute(X_test_scaled[:1000], X_train_scaled, return_convergence_delta=True)\n",
    "print('Generating attributions for feature_ablation...')\n",
    "feature_ablation_attr_scaled = feature_ablation_scaled.attribute(X_test_scaled[:1000])\n",
    "\n",
    "# Normalize and store attributions\n",
    "saliency_norm_sum_scaled = add_normalized_attributions(\"Saliency (Scaled)\", saliency_attr_scaled, attributions_df)\n",
    "input_x_gradient_norm_sum_scaled = add_normalized_attributions(\"Input x Gradients (Scaled)\", input_x_gradient_attr_scaled, attributions_df)\n",
    "integrated_gradients_norm_sum_scaled = add_normalized_attributions(\"Integrated Gradients (Scaled)\", integrated_gradients_attr_scaled, attributions_df)\n",
    "gradient_shap_norm_sum_scaled = add_normalized_attributions(\"GradientShap (Scaled)\", gradient_shap_attr_scaled, attributions_df)\n",
    "feature_ablation_norm_sum_scaled = add_normalized_attributions(\"Feature Ablation (Scaled)\", feature_ablation_attr_scaled, attributions_df)\n",
    "\n",
    "# Finally, display the DataFrame\n",
    "print('\\nPrinting normalised sum attributions for 5 importance score algorithms (Both scaled and unscaled)...', end = '\\n\\n')\n",
    "display(attributions_df)\n",
    "\n",
    "# Print average attributions and convergence delta for GradientShap\n",
    "print(\"\\n========  GradientShap (Standardized Features) ======== \\n\")\n",
    "print(\"Average Attributions for GradientShap across Test Samples:\")\n",
    "print(np.mean(gradient_shap_attr_scaled.detach().numpy(), axis=0))\n",
    "print(\"Average Convergence Delta for GradientShap across Test Samples:\")\n",
    "print(np.mean(delta_scaled.detach().numpy()))\n",
    "print('===========================================================')\n",
    "\n",
    "# Plot settings\n",
    "width = 0.14\n",
    "legends = ['Saliency', 'Input x Gradients', 'Integrated Gradients', 'GradientSHAP', 'Feature Ablation']\n",
    "\n",
    "plt.figure(figsize=(20, 10))\n",
    "ax = plt.subplot()\n",
    "\n",
    "ax.set_title('Comparing input feature importances across multiple algorithms (Standardized Features)')\n",
    "ax.set_ylabel('Normalized Attributions')\n",
    "\n",
    "FONT_SIZE = 16\n",
    "plt.rc('font', size=FONT_SIZE)\n",
    "plt.rc('axes', titlesize=FONT_SIZE)\n",
    "plt.rc('axes', labelsize=FONT_SIZE)\n",
    "plt.rc('legend', fontsize=FONT_SIZE - 4)\n",
    "\n",
    "# Plotting\n",
    "ax.bar(x_axis_data, saliency_norm_sum_scaled, width, align='center', alpha=0.8, color='#eb5e7c')\n",
    "ax.bar(x_axis_data + width, input_x_gradient_norm_sum_scaled, width, align='center', alpha=0.7, color='#A90000')\n",
    "ax.bar(x_axis_data + 2 * width, integrated_gradients_norm_sum_scaled, width, align='center', alpha=0.6, color='#34b8e0')\n",
    "ax.bar(x_axis_data + 3 * width, gradient_shap_norm_sum_scaled, width, align='center', alpha=0.8, color='#4260f5')\n",
    "ax.bar(x_axis_data + 4 * width, feature_ablation_norm_sum_scaled, width, align='center', alpha=1.0, color='#49ba81')\n",
    "\n",
    "ax.autoscale_view()\n",
    "plt.tight_layout()\n",
    "\n",
    "ax.set_xticks(x_axis_data + 2 * width)\n",
    "ax.set_xticklabels(x_axis_data_labels)\n",
    "\n",
    "plt.legend(legends, loc=3)\n",
    "plt.show()"
   ]
  },
  {
   "cell_type": "markdown",
   "metadata": {},
   "source": [
    "# **GradientShap Analysis**\n",
    "\n",
    "## **1. GradientSHAP Introduction**\n",
    "\n",
    "**GradientSHAP**: It combines SHAP values with gradient-based explanations. By adding Gaussian noise to input samples, random points between baseline and input are selected. SHAP values then represent the expected gradient values multiplied by the difference between inputs and baselines.\n",
    "\n",
    "## **2. Results Table**\n",
    "\n",
    "### ***Normalized Sum of Attributions***\n",
    "\n",
    "| Algorithm                              | dist_to_nearest_stn | dist_to_dhoby | degree_centrality | eigenvector_centrality | remaining_lease_years | floor_area_sqm |\n",
    "|----------------------------------------|---------------------|---------------|-------------------|------------------------|-----------------------|----------------|\n",
    "| GradientShap (Not Scaled)              | 0.0025              | 0.2771       | -0.0001           | -0.0003                | -0.2516               | -0.4684        |\n",
    "| GradientShap (Scaled)                  | -0.0945             | 0.0903      | -0.1184           | 0.0011                 | -0.3642               | -0.3315        |\n",
    "\n",
    "### ***GradientShap Specific Results***\n",
    "\n",
    "| Algorithm                              | Average Attributions                                                                                              | Convergence Delta |\n",
    "|----------------------------------------|--------------------------------------------------------------------------------------------------------------------|-------------------|\n",
    "| GradientShap (Not Scaled)              | [ 2.7702011e+02, 3.0347002e+04, -8.8122025e+00, -3.2999161e+01, -2.7552396e+04, -5.1297973e+04]                       | 0.0067897276      |\n",
    "| GradientShap (Scaled)                  | [-15626.372, 14925.021, -19569.727, 187.85374, -60222.41, -54804.105]                                              | 1122.8002         |\n",
    "\n",
    "### **Observations**:\n",
    "\n",
    "- After scaling, the attributions for all 6 features, `dist_to_nearest_stn`, `dist_to_dhoby`, `degree_centrality`, `eigenvector_centrality`, `remaining_lease_years`, and `floor_area_sqm` show noticeable variations.\n",
    "- The convergence delta for GradientShap without scaling is 0.0067897276. However, after scaling, it increases dramatically to 1122.8002.\n",
    "\n",
    "### **Reason for Observations**:\n",
    "\n",
    "1. **Baseline Influence**:\n",
    "   - GradientSHAP calculations are relative to a chosen baseline. For our analysis:\n",
    "     - Unscaled inputs used an unscaled baseline.\n",
    "     - Scaled inputs used a scaled baseline.\n",
    "   - This pairing ensures the gradient contrasts between input and baseline are coherent. However, attributions still differ post-scaling due to algorithmic characteristics and model sensitivity to scaled features.\n",
    "\n",
    "2. **Data Scaling**:\n",
    "   - GradientSHAP, being an approximation technique, is sensitive to input scale. When inputs are scaled, minute variations in features can cause significant shifts in model predictions. This scaling sensitivity is evidenced by changes in attributions and the sharp rise in convergence delta.\n",
    "\n",
    "3. **Approximation Variability**:\n",
    "   - GradientSHAP introduces Gaussian noise, leading to potential variations in attributions, especially when data scaling changes.\n",
    "   - Being an approximation technique, GradientSHAP can display variations especially when there's an alteration in data scaling or discrepancies in the baseline data distribution.\n",
    "   - The `Convergence Delta` for GradientShap (Not Scaled) is quite low at 0.0067897276. However, upon scaling, it amplifies to 1122.8002. This significant jump emphasizes the variations introduced due to data scaling and indicates potential instability in the approximation for scaled data.\n",
    "   - The convergence delta serves as a diagnostic tool to assess the quality of the approximations produced by GradientSHAP. It is defined as the difference between the sum of the attributions and the difference in the model's output for the input and the baseline. A smaller convergence delta implies that the attributions closely approximate the actual difference in model outputs, hence providing a reliable explanation. Conversely, a larger delta may suggest potential issues with the approximation's accuracy or stability.\n",
    "  \n",
    "## **3. Conclusion**\n",
    "\n",
    "Scaling can significantly affect GradientSHAP attributions due to its inherent sensitivity to input transformations. The choice of baseline also plays a pivotal role in the resulting attributions. When interpreting GradientSHAP results, especially post-scaling, it's essential to consider these factors.\n"
   ]
  },
  {
   "cell_type": "markdown",
   "metadata": {
    "id": "gX9iqK6SmhQ5"
   },
   "source": [
    "Read https://distill.pub/2020/attribution-baselines/ to build up your understanding of Integrated Gradients (IG). Reading the sections before the section on ‘Game Theory and Missingness’ will be sufficient. Keep in mind that this article mainly focuses on classification problems. You might find the following [descriptions](https://captum.ai/docs/attribution_algorithms) and [comparisons](https://captum.ai/docs/algorithms_comparison_matrix) in Captum useful as well.\n",
    "\n",
    "\n",
    "Then, answer the following questions in the context of our dataset:\n",
    "\n",
    "> Why did Saliency produce scores similar to IG?\n"
   ]
  },
  {
   "cell_type": "markdown",
   "metadata": {},
   "source": [
    "***Important Point To Note: We would be explaining why the values are different instead of why they are similar since we only used the first 1000 samples for attribution scores due to long computation times for Integrated Gradients.***\n",
    "\n",
    "## **1. Saliency and Integrated Gradients (IG): Introduction**\n",
    "\n",
    "### **Saliency:** \n",
    "- **Principle**: Measures the model's sensitivity to slight input variations using gradients.\n",
    "- **Linearity**: Primarily captures linear relationships by evaluating local point sensitivity, potentially overlooking broader non-linear effects.\n",
    "\n",
    "### **Integrated Gradients (IG):** \n",
    "- **Principle**: Computes attributions by integrating gradients over a path from a baseline to the input.\n",
    "- **Linearity**: Can discern both linear and non-linear relationships by considering the entire attribution path.\n",
    "\n",
    "---\n",
    "\n",
    "## **2. Observations from the Dataset**\n",
    "\n",
    "| Algorithm                | dist_to_nearest_stn | dist_to_dhoby | degree_centrality | eigenvector_centrality | remaining_lease_years | floor_area_sqm |\n",
    "|--------------------------|---------------------|---------------|-------------------|------------------------|-----------------------|----------------|\n",
    "| Saliency (Not Scaled)    | 0.1545              | 0.1583        | 0.2232            | 0.3595                 | 0.0351                | 0.0694         |\n",
    "| Integrated Gradients (Not Scaled) | -0.0127          | -0.1330       | 0.0004            | 0.0002                 | 0.2268                | 0.6269         |\n",
    "| Saliency (Scaled)        | 0.3394              | 0.0533        | 0.0711            | 0.1243                 | 0.1458                | 0.2661         |\n",
    "| Integrated Gradients (Scaled)\t| 0.1494          | 0.1024        | -0.0100           | 0.0218                 | -0.3934               | -0.3228        |\n",
    "\n",
    "## **3. Baselines:**\n",
    "\n",
    "- For **Integrated Gradients**, a zero scalar corresponding to each input tensor is used by default as a baseline. \n",
    "- For **Saliency**, there's no concept of a baseline. \n",
    "\n",
    "## **4. Detailed Explanation of Observations**\n",
    "\n",
    "- **Path versus Point Attribution**:\n",
    "Saliency's point attribution might miss broader non-linear trends, while IG's path evaluation can capture non-linear intricacies, evident in features like `degree_centrality`.\n",
    "\n",
    "- **Handling Non-Linearities**:\n",
    "Saliency, focusing on local gradients, may overlook non-linear relationships, whereas IG, considering the entire path, can capture such nuances.\n",
    "\n",
    "- **Gradient-based Attribution Post Scaling**:\n",
    "Scaling modifies gradient relationships, affecting both methods. Given Saliency's reliance on local gradients, its differences with IG become more pronounced post-scaling using the `StandardScaler`.\n",
    "\n",
    "- **Model Simplicity**: The complexity of our model, having 5 neurons in each of its 3 hidden layers, might affect the attribution scores. A simpler model might yield more linear attributions, while a complex one might capture non-linear interactions between features and the output.\n",
    "\n",
    "It's essential to consider that we based our analysis on the first 1000 samples. This could introduce bias or might not capture the entire variation present in the dataset, influencing the differences in scores between the two methods.\n",
    "\n",
    "---\n",
    "\n",
    "## **5. Conclusion**\n",
    "\n",
    "The distinct interpretations between Saliency and IG stem from their foundational methodologies: local sensitivity (point-based) versus comprehensive path-based analysis. The HDB flat prices dataset's intricacies, paired with these methodological differences, highlight the essence of considering various feature attribution techniques for a comprehensive model interpretation.\n"
   ]
  },
  {
   "cell_type": "markdown",
   "metadata": {
    "id": "PYpfn3nCml1K"
   },
   "source": [
    "> Why did Input x Gradients give the same attribution scores as IG?\n"
   ]
  },
  {
   "cell_type": "markdown",
   "metadata": {},
   "source": [
    "***Important Point To Note: We would be explaining why the values are different instead of why they are similar after scaling since we only used the first 1000 samples for attribution scores due to long computation times for Integrated Gradients.***\n",
    "\n",
    "## **1. Overview of Algorithms**\n",
    "\n",
    "**Integrated Gradients (IG):** \n",
    "- **Principle**: Quantifies how much each feature contributed to a model's prediction relative to some baseline.\n",
    "- **Linearity**: By integrating over a straight-line path from a baseline to the input, IG can capture both linear and non-linear relationships, making it versatile. \n",
    "\n",
    "**Input x Gradients:** \n",
    "- **Principle**: Approximates feature importance by multiplying the model’s output gradient with respect to its input by the input feature values.\n",
    "- **Linearity**: Essentially measures the sensitivity of the output to changes in the input. It assumes a linear relationship over small input changes but can miss broader non-linear effects.\n",
    "\n",
    "---\n",
    "\n",
    "## **2. Results Table**\n",
    "\n",
    "| Algorithm | dist_to_nearest_stn | dist_to_dhoby | degree_centrality | eigenvector_centrality | remaining_lease_years | floor_area_sqm |\n",
    "|------------|----------------------|----------------|--------------------|-------------------------|-----------------------|----------------|\n",
    "| Input x Gradients (Not Scaled) | -0.0127 | -0.1330 | 0.0004 | 0.0002 | 0.2268 | 0.6269 |\n",
    "| Integrated Gradients (Not Scaled) | -0.0127 | -0.1330 | 0.0004 | 0.0002 | 0.2268 | 0.6269 |\n",
    "| Input x Gradients (Scaled) | 0.3908 | 0.0836 | 0.0030 | 0.0173 | -0.2962 | -0.2092 |\n",
    "| Integrated Gradients (Scaled) | 0.1494 | 0.1024 | -0.0100 | 0.0218 | -0.3934 | -0.3228 |\n",
    "\n",
    "---\n",
    "\n",
    "## **3. Baselines**\n",
    "\n",
    "- For **Integrated Gradients**, a zero scalar corresponding to each input tensor is used by default as a baseline. \n",
    "\n",
    "- For **Input x Gradients**, there's no concept of a baseline. \n",
    "\n",
    "---\n",
    "\n",
    "## **4. Detailed Explanation of Observations**\n",
    "\n",
    "Given the nature of housing resale prices, both linear and non-linear relationships are expected. For instance, the increase in resale price might be linear with respect to floor area but might have a non-linear relationship with proximity to MRT stations.\n",
    "\n",
    "#### **Before Scaling:**\n",
    "- IG and Input x Gradients giving the same attribution scores suggests that for the chosen dataset, within the range of feature values, the contributions appear mostly linear, or the non-linear effects captured by IG were negligible.\n",
    "\n",
    "#### **After Scaling (Standard Scaler):**\n",
    "- Scaling essentially changes the distribution and range of the data. Differences between the algorithms post-scaling can arise due to their inherent capabilities to capture non-linearities.\n",
    "- For features like `dist_to_nearest_stn`, the discrepancies between IG and Input x Gradients might stem from non-linear relationships that IG can capture over the integrated path, but Input x Gradients might miss.\n",
    "\n",
    "---\n",
    "\n",
    "## **5. Conclusion**\n",
    "\n",
    "Our dataset inherently contains both linear and non-linear relationships, given the multifaceted factors affecting housing prices. While IG is designed to capture both types of relationships by integrating over a path, Input x Gradients primarily captures linear relationships over small changes. The observed similarities or differences in their results are a reflection of these inherent traits interacting with the dataset's characteristics.\n"
   ]
  }
 ],
 "metadata": {
  "colab": {
   "provenance": []
  },
  "kernelspec": {
   "display_name": "Python 3 (ipykernel)",
   "language": "python",
   "name": "python3"
  },
  "language_info": {
   "codemirror_mode": {
    "name": "ipython",
    "version": 3
   },
   "file_extension": ".py",
   "mimetype": "text/x-python",
   "name": "python",
   "nbconvert_exporter": "python",
   "pygments_lexer": "ipython3",
   "version": "3.11.4"
  }
 },
 "nbformat": 4,
 "nbformat_minor": 1
}
